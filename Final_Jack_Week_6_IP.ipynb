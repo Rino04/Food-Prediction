{
  "nbformat": 4,
  "nbformat_minor": 0,
  "metadata": {
    "colab": {
      "name": "Final Jack Week 6 IP.ipynb",
      "provenance": [],
      "authorship_tag": "ABX9TyPo9MRqf5wH79yVaGyw6dTS",
      "include_colab_link": true
    },
    "kernelspec": {
      "name": "python3",
      "display_name": "Python 3"
    },
    "language_info": {
      "name": "python"
    }
  },
  "cells": [
    {
      "cell_type": "markdown",
      "metadata": {
        "id": "view-in-github",
        "colab_type": "text"
      },
      "source": [
        "<a href=\"https://colab.research.google.com/github/Rino04/Football-Prediction/blob/main/Final_Jack_Week_6_IP.ipynb\" target=\"_parent\"><img src=\"https://colab.research.google.com/assets/colab-badge.svg\" alt=\"Open In Colab\"/></a>"
      ]
    },
    {
      "cell_type": "markdown",
      "metadata": {
        "id": "TdT6sWmm9fLa"
      },
      "source": [
        "# Data Understanding"
      ]
    },
    {
      "cell_type": "markdown",
      "metadata": {
        "id": "kLG2VTrnTvYL"
      },
      "source": [
        "## 1. Defining the Question"
      ]
    },
    {
      "cell_type": "markdown",
      "metadata": {
        "id": "XecOwPNorl2W"
      },
      "source": [
        "### a) Specifying the Question"
      ]
    },
    {
      "cell_type": "markdown",
      "metadata": {
        "id": "8l3-hBO6bODP"
      },
      "source": [
        "\n",
        "> We have been recruited as football analysts by Mchezopesa Ltd to predict results of a game between team 1 and team 2, based on who's home and who's away, and on whether or not the game is friendly.\n",
        "\n"
      ]
    },
    {
      "cell_type": "markdown",
      "metadata": {
        "id": "J4wfHZwQrs-t"
      },
      "source": [
        "### b) Defining the Metric for Success\n",
        "\n",
        "\n"
      ]
    },
    {
      "cell_type": "markdown",
      "metadata": {
        "id": "_yKI0xZfnQrx"
      },
      "source": [
        "For this analysis to be considered successful, we must be able to create an effective model that will be able to:\n",
        "\n",
        "1. Perform EDA.\n",
        "2. Predict how many goals the home team scores.\n",
        "3. Predict how many goals the away team scores.\n",
        "4. Figure out from the home team’s perspective if the game is a Win, Lose or Draw (W, L, D)\n",
        "5. Achieve an RMSE score that is less than 10% of the target mean\n",
        "6. Achieve a high accuracy  score"
      ]
    },
    {
      "cell_type": "markdown",
      "metadata": {
        "id": "a9BPYqunry97"
      },
      "source": [
        "### c) Understanding the context "
      ]
    },
    {
      "cell_type": "markdown",
      "metadata": {
        "id": "xt4PXuYJnr4w"
      },
      "source": [
        "The men's FIFA World Ranking is a ranking system for men's national teams in association football, currently led by Belgium.[1] The teams of the men's member nations of FIFA, football's world governing body, are ranked based on their game results with the most successful teams being ranked highest.\n",
        "\n",
        "A points system is used, with points being awarded based on the results of all FIFA-recognised full international matches.Since 16 August 2018, the current version of the ranking system has adopted the Elo rating system used in chess and Go."
      ]
    },
    {
      "cell_type": "markdown",
      "metadata": {
        "id": "7KMRBJ7zr9HD"
      },
      "source": [
        "### d) Recording the Experimental Design"
      ]
    },
    {
      "cell_type": "markdown",
      "metadata": {
        "id": "mZq3CuZAn_Pa"
      },
      "source": [
        "he following steps will be followed in conducting this analysis:\n",
        "\n",
        "1. Defining the Question\n",
        "2. Reading the Data.\n",
        "3. Checking the Data.\n",
        "4. Data Cleaning\n",
        "5. Merging the Dataframes\n",
        "6. Performing EDA\n",
        "7. Prediction Models\n",
        "8. Evaluation of the solution\n",
        "9. Challenging the solution\n",
        "10. Conclusion"
      ]
    },
    {
      "cell_type": "markdown",
      "metadata": {
        "id": "4Wx0B4KjBmXq"
      },
      "source": [
        "## IMPORTING LIBRARIES "
      ]
    },
    {
      "cell_type": "code",
      "metadata": {
        "id": "Pn6Xgl-IBhCS"
      },
      "source": [
        "# libraries for reading the dataset & data cleaning\n",
        "import pandas as pd\n",
        "import numpy as np\n",
        "\n",
        "#libraries for plotting\n",
        "import matplotlib.pyplot as plt\n",
        "import seaborn as sns\n",
        "\n",
        "#libraries to use in modelling\n",
        "from sklearn.linear_model import LinearRegression\n",
        "from sklearn.linear_model import LogisticRegression\n",
        "from sklearn.model_selection import KFold\n",
        "from sklearn.model_selection import train_test_split\n",
        "\n",
        "#libraries for metrics\n",
        "from sklearn import metrics\n",
        "from sklearn.metrics import confusion_matrix\n",
        "\n",
        "# let us set the warnings that may appear in our analysis off\n",
        "import warnings\n",
        "warnings.filterwarnings('ignore') "
      ],
      "execution_count": 1,
      "outputs": []
    },
    {
      "cell_type": "markdown",
      "metadata": {
        "id": "w0VIRAHHCswc"
      },
      "source": [
        "## LOADING THE DATASET AND PREVIEWING"
      ]
    },
    {
      "cell_type": "code",
      "metadata": {
        "id": "vBHrYriCC1_4"
      },
      "source": [
        "#Load both datasets\n",
        "fifarank=pd.read_csv('/content/fifa_ranking.csv')\n",
        "results=pd.read_csv('/content/results.csv')"
      ],
      "execution_count": 2,
      "outputs": []
    },
    {
      "cell_type": "markdown",
      "metadata": {
        "id": "D-hzIaerHZyO"
      },
      "source": [
        "### Fifa Ranking"
      ]
    },
    {
      "cell_type": "code",
      "metadata": {
        "colab": {
          "base_uri": "https://localhost:8080/"
        },
        "id": "WHb3KyEbIEPA",
        "outputId": "13eee946-ce44-4dcf-d7e5-a72d96811f82"
      },
      "source": [
        "#we will look for the shape of the dataframe\n",
        "print('fifaranking dataset has ' + str(fifarank.shape[0]) + ' rows and ' + str(fifarank.shape[1]) + ' columns' )"
      ],
      "execution_count": 3,
      "outputs": [
        {
          "output_type": "stream",
          "text": [
            "fifaranking dataset has 57793 rows and 16 columns\n"
          ],
          "name": "stdout"
        }
      ]
    },
    {
      "cell_type": "code",
      "metadata": {
        "id": "aCz84btDOzZ9",
        "colab": {
          "base_uri": "https://localhost:8080/"
        },
        "outputId": "78442133-900f-4c91-94f8-208eaee954af"
      },
      "source": [
        "#we will check the dtypes of the dataset\n",
        "print(' column names, number of observations dtypes of the columns')\n",
        "print('\\n')\n",
        "fifarank.dtypes"
      ],
      "execution_count": 4,
      "outputs": [
        {
          "output_type": "stream",
          "text": [
            " column names, number of observations dtypes of the columns\n",
            "\n",
            "\n"
          ],
          "name": "stdout"
        },
        {
          "output_type": "execute_result",
          "data": {
            "text/plain": [
              "rank                         int64\n",
              "country_full                object\n",
              "country_abrv                object\n",
              "total_points               float64\n",
              "previous_points              int64\n",
              "rank_change                  int64\n",
              "cur_year_avg               float64\n",
              "cur_year_avg_weighted      float64\n",
              "last_year_avg              float64\n",
              "last_year_avg_weighted     float64\n",
              "two_year_ago_avg           float64\n",
              "two_year_ago_weighted      float64\n",
              "three_year_ago_avg         float64\n",
              "three_year_ago_weighted    float64\n",
              "confederation               object\n",
              "rank_date                   object\n",
              "dtype: object"
            ]
          },
          "metadata": {
            "tags": []
          },
          "execution_count": 4
        }
      ]
    },
    {
      "cell_type": "code",
      "metadata": {
        "colab": {
          "base_uri": "https://localhost:8080/",
          "height": 0
        },
        "id": "ZwksdM1JETgQ",
        "outputId": "21d404a0-413d-4849-c4bc-1d0f7642b7f8"
      },
      "source": [
        "#first 5 rows of the dataset\n",
        "fifarank.head()"
      ],
      "execution_count": 5,
      "outputs": [
        {
          "output_type": "execute_result",
          "data": {
            "text/html": [
              "<div>\n",
              "<style scoped>\n",
              "    .dataframe tbody tr th:only-of-type {\n",
              "        vertical-align: middle;\n",
              "    }\n",
              "\n",
              "    .dataframe tbody tr th {\n",
              "        vertical-align: top;\n",
              "    }\n",
              "\n",
              "    .dataframe thead th {\n",
              "        text-align: right;\n",
              "    }\n",
              "</style>\n",
              "<table border=\"1\" class=\"dataframe\">\n",
              "  <thead>\n",
              "    <tr style=\"text-align: right;\">\n",
              "      <th></th>\n",
              "      <th>rank</th>\n",
              "      <th>country_full</th>\n",
              "      <th>country_abrv</th>\n",
              "      <th>total_points</th>\n",
              "      <th>previous_points</th>\n",
              "      <th>rank_change</th>\n",
              "      <th>cur_year_avg</th>\n",
              "      <th>cur_year_avg_weighted</th>\n",
              "      <th>last_year_avg</th>\n",
              "      <th>last_year_avg_weighted</th>\n",
              "      <th>two_year_ago_avg</th>\n",
              "      <th>two_year_ago_weighted</th>\n",
              "      <th>three_year_ago_avg</th>\n",
              "      <th>three_year_ago_weighted</th>\n",
              "      <th>confederation</th>\n",
              "      <th>rank_date</th>\n",
              "    </tr>\n",
              "  </thead>\n",
              "  <tbody>\n",
              "    <tr>\n",
              "      <th>0</th>\n",
              "      <td>1</td>\n",
              "      <td>Germany</td>\n",
              "      <td>GER</td>\n",
              "      <td>0.0</td>\n",
              "      <td>57</td>\n",
              "      <td>0</td>\n",
              "      <td>0.0</td>\n",
              "      <td>0.0</td>\n",
              "      <td>0.0</td>\n",
              "      <td>0.0</td>\n",
              "      <td>0.0</td>\n",
              "      <td>0.0</td>\n",
              "      <td>0.0</td>\n",
              "      <td>0.0</td>\n",
              "      <td>UEFA</td>\n",
              "      <td>1993-08-08</td>\n",
              "    </tr>\n",
              "    <tr>\n",
              "      <th>1</th>\n",
              "      <td>2</td>\n",
              "      <td>Italy</td>\n",
              "      <td>ITA</td>\n",
              "      <td>0.0</td>\n",
              "      <td>57</td>\n",
              "      <td>0</td>\n",
              "      <td>0.0</td>\n",
              "      <td>0.0</td>\n",
              "      <td>0.0</td>\n",
              "      <td>0.0</td>\n",
              "      <td>0.0</td>\n",
              "      <td>0.0</td>\n",
              "      <td>0.0</td>\n",
              "      <td>0.0</td>\n",
              "      <td>UEFA</td>\n",
              "      <td>1993-08-08</td>\n",
              "    </tr>\n",
              "    <tr>\n",
              "      <th>2</th>\n",
              "      <td>3</td>\n",
              "      <td>Switzerland</td>\n",
              "      <td>SUI</td>\n",
              "      <td>0.0</td>\n",
              "      <td>50</td>\n",
              "      <td>9</td>\n",
              "      <td>0.0</td>\n",
              "      <td>0.0</td>\n",
              "      <td>0.0</td>\n",
              "      <td>0.0</td>\n",
              "      <td>0.0</td>\n",
              "      <td>0.0</td>\n",
              "      <td>0.0</td>\n",
              "      <td>0.0</td>\n",
              "      <td>UEFA</td>\n",
              "      <td>1993-08-08</td>\n",
              "    </tr>\n",
              "    <tr>\n",
              "      <th>3</th>\n",
              "      <td>4</td>\n",
              "      <td>Sweden</td>\n",
              "      <td>SWE</td>\n",
              "      <td>0.0</td>\n",
              "      <td>55</td>\n",
              "      <td>0</td>\n",
              "      <td>0.0</td>\n",
              "      <td>0.0</td>\n",
              "      <td>0.0</td>\n",
              "      <td>0.0</td>\n",
              "      <td>0.0</td>\n",
              "      <td>0.0</td>\n",
              "      <td>0.0</td>\n",
              "      <td>0.0</td>\n",
              "      <td>UEFA</td>\n",
              "      <td>1993-08-08</td>\n",
              "    </tr>\n",
              "    <tr>\n",
              "      <th>4</th>\n",
              "      <td>5</td>\n",
              "      <td>Argentina</td>\n",
              "      <td>ARG</td>\n",
              "      <td>0.0</td>\n",
              "      <td>51</td>\n",
              "      <td>5</td>\n",
              "      <td>0.0</td>\n",
              "      <td>0.0</td>\n",
              "      <td>0.0</td>\n",
              "      <td>0.0</td>\n",
              "      <td>0.0</td>\n",
              "      <td>0.0</td>\n",
              "      <td>0.0</td>\n",
              "      <td>0.0</td>\n",
              "      <td>CONMEBOL</td>\n",
              "      <td>1993-08-08</td>\n",
              "    </tr>\n",
              "  </tbody>\n",
              "</table>\n",
              "</div>"
            ],
            "text/plain": [
              "   rank country_full  ... confederation   rank_date\n",
              "0     1      Germany  ...          UEFA  1993-08-08\n",
              "1     2        Italy  ...          UEFA  1993-08-08\n",
              "2     3  Switzerland  ...          UEFA  1993-08-08\n",
              "3     4       Sweden  ...          UEFA  1993-08-08\n",
              "4     5    Argentina  ...      CONMEBOL  1993-08-08\n",
              "\n",
              "[5 rows x 16 columns]"
            ]
          },
          "metadata": {
            "tags": []
          },
          "execution_count": 5
        }
      ]
    },
    {
      "cell_type": "code",
      "metadata": {
        "colab": {
          "base_uri": "https://localhost:8080/",
          "height": 0
        },
        "id": "gY69UPSlEdW4",
        "outputId": "c8233e87-82d7-48e7-913b-892f33aca6b5"
      },
      "source": [
        "#preview the tail\n",
        "fifarank.tail()"
      ],
      "execution_count": 6,
      "outputs": [
        {
          "output_type": "execute_result",
          "data": {
            "text/html": [
              "<div>\n",
              "<style scoped>\n",
              "    .dataframe tbody tr th:only-of-type {\n",
              "        vertical-align: middle;\n",
              "    }\n",
              "\n",
              "    .dataframe tbody tr th {\n",
              "        vertical-align: top;\n",
              "    }\n",
              "\n",
              "    .dataframe thead th {\n",
              "        text-align: right;\n",
              "    }\n",
              "</style>\n",
              "<table border=\"1\" class=\"dataframe\">\n",
              "  <thead>\n",
              "    <tr style=\"text-align: right;\">\n",
              "      <th></th>\n",
              "      <th>rank</th>\n",
              "      <th>country_full</th>\n",
              "      <th>country_abrv</th>\n",
              "      <th>total_points</th>\n",
              "      <th>previous_points</th>\n",
              "      <th>rank_change</th>\n",
              "      <th>cur_year_avg</th>\n",
              "      <th>cur_year_avg_weighted</th>\n",
              "      <th>last_year_avg</th>\n",
              "      <th>last_year_avg_weighted</th>\n",
              "      <th>two_year_ago_avg</th>\n",
              "      <th>two_year_ago_weighted</th>\n",
              "      <th>three_year_ago_avg</th>\n",
              "      <th>three_year_ago_weighted</th>\n",
              "      <th>confederation</th>\n",
              "      <th>rank_date</th>\n",
              "    </tr>\n",
              "  </thead>\n",
              "  <tbody>\n",
              "    <tr>\n",
              "      <th>57788</th>\n",
              "      <td>206</td>\n",
              "      <td>Anguilla</td>\n",
              "      <td>AIA</td>\n",
              "      <td>0.0</td>\n",
              "      <td>0</td>\n",
              "      <td>1</td>\n",
              "      <td>0.0</td>\n",
              "      <td>0.0</td>\n",
              "      <td>0.0</td>\n",
              "      <td>0.0</td>\n",
              "      <td>0.0</td>\n",
              "      <td>0.0</td>\n",
              "      <td>0.0</td>\n",
              "      <td>0.0</td>\n",
              "      <td>CONCACAF</td>\n",
              "      <td>2018-06-07</td>\n",
              "    </tr>\n",
              "    <tr>\n",
              "      <th>57789</th>\n",
              "      <td>206</td>\n",
              "      <td>Bahamas</td>\n",
              "      <td>BAH</td>\n",
              "      <td>0.0</td>\n",
              "      <td>0</td>\n",
              "      <td>1</td>\n",
              "      <td>0.0</td>\n",
              "      <td>0.0</td>\n",
              "      <td>0.0</td>\n",
              "      <td>0.0</td>\n",
              "      <td>0.0</td>\n",
              "      <td>0.0</td>\n",
              "      <td>0.0</td>\n",
              "      <td>0.0</td>\n",
              "      <td>CONCACAF</td>\n",
              "      <td>2018-06-07</td>\n",
              "    </tr>\n",
              "    <tr>\n",
              "      <th>57790</th>\n",
              "      <td>206</td>\n",
              "      <td>Eritrea</td>\n",
              "      <td>ERI</td>\n",
              "      <td>0.0</td>\n",
              "      <td>0</td>\n",
              "      <td>1</td>\n",
              "      <td>0.0</td>\n",
              "      <td>0.0</td>\n",
              "      <td>0.0</td>\n",
              "      <td>0.0</td>\n",
              "      <td>0.0</td>\n",
              "      <td>0.0</td>\n",
              "      <td>0.0</td>\n",
              "      <td>0.0</td>\n",
              "      <td>CAF</td>\n",
              "      <td>2018-06-07</td>\n",
              "    </tr>\n",
              "    <tr>\n",
              "      <th>57791</th>\n",
              "      <td>206</td>\n",
              "      <td>Somalia</td>\n",
              "      <td>SOM</td>\n",
              "      <td>0.0</td>\n",
              "      <td>0</td>\n",
              "      <td>1</td>\n",
              "      <td>0.0</td>\n",
              "      <td>0.0</td>\n",
              "      <td>0.0</td>\n",
              "      <td>0.0</td>\n",
              "      <td>0.0</td>\n",
              "      <td>0.0</td>\n",
              "      <td>0.0</td>\n",
              "      <td>0.0</td>\n",
              "      <td>CAF</td>\n",
              "      <td>2018-06-07</td>\n",
              "    </tr>\n",
              "    <tr>\n",
              "      <th>57792</th>\n",
              "      <td>206</td>\n",
              "      <td>Tonga</td>\n",
              "      <td>TGA</td>\n",
              "      <td>0.0</td>\n",
              "      <td>0</td>\n",
              "      <td>1</td>\n",
              "      <td>0.0</td>\n",
              "      <td>0.0</td>\n",
              "      <td>0.0</td>\n",
              "      <td>0.0</td>\n",
              "      <td>0.0</td>\n",
              "      <td>0.0</td>\n",
              "      <td>0.0</td>\n",
              "      <td>0.0</td>\n",
              "      <td>OFC</td>\n",
              "      <td>2018-06-07</td>\n",
              "    </tr>\n",
              "  </tbody>\n",
              "</table>\n",
              "</div>"
            ],
            "text/plain": [
              "       rank country_full  ... confederation   rank_date\n",
              "57788   206     Anguilla  ...      CONCACAF  2018-06-07\n",
              "57789   206      Bahamas  ...      CONCACAF  2018-06-07\n",
              "57790   206      Eritrea  ...           CAF  2018-06-07\n",
              "57791   206      Somalia  ...           CAF  2018-06-07\n",
              "57792   206        Tonga  ...           OFC  2018-06-07\n",
              "\n",
              "[5 rows x 16 columns]"
            ]
          },
          "metadata": {
            "tags": []
          },
          "execution_count": 6
        }
      ]
    },
    {
      "cell_type": "markdown",
      "metadata": {
        "id": "SlLS2KKxHsFB"
      },
      "source": [
        "### Results DataFrame"
      ]
    },
    {
      "cell_type": "code",
      "metadata": {
        "colab": {
          "base_uri": "https://localhost:8080/"
        },
        "id": "3Yv5JVBsII0j",
        "outputId": "f154abce-2be2-4349-d4f1-efce637ce51e"
      },
      "source": [
        "print('results dataset has ' + str(results.shape[0]) + ' rows and ' + str(results.shape[1]) +' columns')"
      ],
      "execution_count": 7,
      "outputs": [
        {
          "output_type": "stream",
          "text": [
            "results dataset has 40839 rows and 9 columns\n"
          ],
          "name": "stdout"
        }
      ]
    },
    {
      "cell_type": "code",
      "metadata": {
        "colab": {
          "base_uri": "https://localhost:8080/",
          "height": 0
        },
        "id": "kEJNVQEcEx3q",
        "outputId": "820eadaf-d759-4a4a-81d8-7232bb92fb17"
      },
      "source": [
        "#preview the head\n",
        "results.head()"
      ],
      "execution_count": 8,
      "outputs": [
        {
          "output_type": "execute_result",
          "data": {
            "text/html": [
              "<div>\n",
              "<style scoped>\n",
              "    .dataframe tbody tr th:only-of-type {\n",
              "        vertical-align: middle;\n",
              "    }\n",
              "\n",
              "    .dataframe tbody tr th {\n",
              "        vertical-align: top;\n",
              "    }\n",
              "\n",
              "    .dataframe thead th {\n",
              "        text-align: right;\n",
              "    }\n",
              "</style>\n",
              "<table border=\"1\" class=\"dataframe\">\n",
              "  <thead>\n",
              "    <tr style=\"text-align: right;\">\n",
              "      <th></th>\n",
              "      <th>date</th>\n",
              "      <th>home_team</th>\n",
              "      <th>away_team</th>\n",
              "      <th>home_score</th>\n",
              "      <th>away_score</th>\n",
              "      <th>tournament</th>\n",
              "      <th>city</th>\n",
              "      <th>country</th>\n",
              "      <th>neutral</th>\n",
              "    </tr>\n",
              "  </thead>\n",
              "  <tbody>\n",
              "    <tr>\n",
              "      <th>0</th>\n",
              "      <td>1872-11-30</td>\n",
              "      <td>Scotland</td>\n",
              "      <td>England</td>\n",
              "      <td>0</td>\n",
              "      <td>0</td>\n",
              "      <td>Friendly</td>\n",
              "      <td>Glasgow</td>\n",
              "      <td>Scotland</td>\n",
              "      <td>False</td>\n",
              "    </tr>\n",
              "    <tr>\n",
              "      <th>1</th>\n",
              "      <td>1873-03-08</td>\n",
              "      <td>England</td>\n",
              "      <td>Scotland</td>\n",
              "      <td>4</td>\n",
              "      <td>2</td>\n",
              "      <td>Friendly</td>\n",
              "      <td>London</td>\n",
              "      <td>England</td>\n",
              "      <td>False</td>\n",
              "    </tr>\n",
              "    <tr>\n",
              "      <th>2</th>\n",
              "      <td>1874-03-07</td>\n",
              "      <td>Scotland</td>\n",
              "      <td>England</td>\n",
              "      <td>2</td>\n",
              "      <td>1</td>\n",
              "      <td>Friendly</td>\n",
              "      <td>Glasgow</td>\n",
              "      <td>Scotland</td>\n",
              "      <td>False</td>\n",
              "    </tr>\n",
              "    <tr>\n",
              "      <th>3</th>\n",
              "      <td>1875-03-06</td>\n",
              "      <td>England</td>\n",
              "      <td>Scotland</td>\n",
              "      <td>2</td>\n",
              "      <td>2</td>\n",
              "      <td>Friendly</td>\n",
              "      <td>London</td>\n",
              "      <td>England</td>\n",
              "      <td>False</td>\n",
              "    </tr>\n",
              "    <tr>\n",
              "      <th>4</th>\n",
              "      <td>1876-03-04</td>\n",
              "      <td>Scotland</td>\n",
              "      <td>England</td>\n",
              "      <td>3</td>\n",
              "      <td>0</td>\n",
              "      <td>Friendly</td>\n",
              "      <td>Glasgow</td>\n",
              "      <td>Scotland</td>\n",
              "      <td>False</td>\n",
              "    </tr>\n",
              "  </tbody>\n",
              "</table>\n",
              "</div>"
            ],
            "text/plain": [
              "         date home_team away_team  ...     city   country neutral\n",
              "0  1872-11-30  Scotland   England  ...  Glasgow  Scotland   False\n",
              "1  1873-03-08   England  Scotland  ...   London   England   False\n",
              "2  1874-03-07  Scotland   England  ...  Glasgow  Scotland   False\n",
              "3  1875-03-06   England  Scotland  ...   London   England   False\n",
              "4  1876-03-04  Scotland   England  ...  Glasgow  Scotland   False\n",
              "\n",
              "[5 rows x 9 columns]"
            ]
          },
          "metadata": {
            "tags": []
          },
          "execution_count": 8
        }
      ]
    },
    {
      "cell_type": "code",
      "metadata": {
        "colab": {
          "base_uri": "https://localhost:8080/",
          "height": 0
        },
        "id": "7Xs8mNXzF5AE",
        "outputId": "153443c7-2b37-4a1e-b609-e74d242b0fa9"
      },
      "source": [
        "#preview the tail\n",
        "results.tail()"
      ],
      "execution_count": 9,
      "outputs": [
        {
          "output_type": "execute_result",
          "data": {
            "text/html": [
              "<div>\n",
              "<style scoped>\n",
              "    .dataframe tbody tr th:only-of-type {\n",
              "        vertical-align: middle;\n",
              "    }\n",
              "\n",
              "    .dataframe tbody tr th {\n",
              "        vertical-align: top;\n",
              "    }\n",
              "\n",
              "    .dataframe thead th {\n",
              "        text-align: right;\n",
              "    }\n",
              "</style>\n",
              "<table border=\"1\" class=\"dataframe\">\n",
              "  <thead>\n",
              "    <tr style=\"text-align: right;\">\n",
              "      <th></th>\n",
              "      <th>date</th>\n",
              "      <th>home_team</th>\n",
              "      <th>away_team</th>\n",
              "      <th>home_score</th>\n",
              "      <th>away_score</th>\n",
              "      <th>tournament</th>\n",
              "      <th>city</th>\n",
              "      <th>country</th>\n",
              "      <th>neutral</th>\n",
              "    </tr>\n",
              "  </thead>\n",
              "  <tbody>\n",
              "    <tr>\n",
              "      <th>40834</th>\n",
              "      <td>2019-07-18</td>\n",
              "      <td>American Samoa</td>\n",
              "      <td>Tahiti</td>\n",
              "      <td>8</td>\n",
              "      <td>1</td>\n",
              "      <td>Pacific Games</td>\n",
              "      <td>Apia</td>\n",
              "      <td>Samoa</td>\n",
              "      <td>True</td>\n",
              "    </tr>\n",
              "    <tr>\n",
              "      <th>40835</th>\n",
              "      <td>2019-07-18</td>\n",
              "      <td>Fiji</td>\n",
              "      <td>Solomon Islands</td>\n",
              "      <td>4</td>\n",
              "      <td>4</td>\n",
              "      <td>Pacific Games</td>\n",
              "      <td>Apia</td>\n",
              "      <td>Samoa</td>\n",
              "      <td>True</td>\n",
              "    </tr>\n",
              "    <tr>\n",
              "      <th>40836</th>\n",
              "      <td>2019-07-19</td>\n",
              "      <td>Senegal</td>\n",
              "      <td>Algeria</td>\n",
              "      <td>0</td>\n",
              "      <td>1</td>\n",
              "      <td>African Cup of Nations</td>\n",
              "      <td>Cairo</td>\n",
              "      <td>Egypt</td>\n",
              "      <td>True</td>\n",
              "    </tr>\n",
              "    <tr>\n",
              "      <th>40837</th>\n",
              "      <td>2019-07-19</td>\n",
              "      <td>Tajikistan</td>\n",
              "      <td>North Korea</td>\n",
              "      <td>0</td>\n",
              "      <td>1</td>\n",
              "      <td>Intercontinental Cup</td>\n",
              "      <td>Ahmedabad</td>\n",
              "      <td>India</td>\n",
              "      <td>True</td>\n",
              "    </tr>\n",
              "    <tr>\n",
              "      <th>40838</th>\n",
              "      <td>2019-07-20</td>\n",
              "      <td>Papua New Guinea</td>\n",
              "      <td>Fiji</td>\n",
              "      <td>1</td>\n",
              "      <td>1</td>\n",
              "      <td>Pacific Games</td>\n",
              "      <td>Apia</td>\n",
              "      <td>Samoa</td>\n",
              "      <td>True</td>\n",
              "    </tr>\n",
              "  </tbody>\n",
              "</table>\n",
              "</div>"
            ],
            "text/plain": [
              "             date         home_team  ... country  neutral\n",
              "40834  2019-07-18    American Samoa  ...   Samoa     True\n",
              "40835  2019-07-18              Fiji  ...   Samoa     True\n",
              "40836  2019-07-19           Senegal  ...   Egypt     True\n",
              "40837  2019-07-19        Tajikistan  ...   India     True\n",
              "40838  2019-07-20  Papua New Guinea  ...   Samoa     True\n",
              "\n",
              "[5 rows x 9 columns]"
            ]
          },
          "metadata": {
            "tags": []
          },
          "execution_count": 9
        }
      ]
    },
    {
      "cell_type": "code",
      "metadata": {
        "colab": {
          "base_uri": "https://localhost:8080/"
        },
        "id": "jUAKAKbKJJd1",
        "outputId": "908a801f-db39-4d5b-f6ae-972d216a7337"
      },
      "source": [
        "print(' column names, number of observations dtypes of the columns')\n",
        "print('\\n')\n",
        "results.info()"
      ],
      "execution_count": 10,
      "outputs": [
        {
          "output_type": "stream",
          "text": [
            " column names, number of observations dtypes of the columns\n",
            "\n",
            "\n",
            "<class 'pandas.core.frame.DataFrame'>\n",
            "RangeIndex: 40839 entries, 0 to 40838\n",
            "Data columns (total 9 columns):\n",
            " #   Column      Non-Null Count  Dtype \n",
            "---  ------      --------------  ----- \n",
            " 0   date        40839 non-null  object\n",
            " 1   home_team   40839 non-null  object\n",
            " 2   away_team   40839 non-null  object\n",
            " 3   home_score  40839 non-null  int64 \n",
            " 4   away_score  40839 non-null  int64 \n",
            " 5   tournament  40839 non-null  object\n",
            " 6   city        40839 non-null  object\n",
            " 7   country     40839 non-null  object\n",
            " 8   neutral     40839 non-null  bool  \n",
            "dtypes: bool(1), int64(2), object(6)\n",
            "memory usage: 2.5+ MB\n"
          ],
          "name": "stdout"
        }
      ]
    },
    {
      "cell_type": "markdown",
      "metadata": {
        "id": "GXveuN14Mcw_"
      },
      "source": [
        "# DATA CLEANING"
      ]
    },
    {
      "cell_type": "markdown",
      "metadata": {
        "id": "Z-0UzawNMg8x"
      },
      "source": [
        "### FifaRankings DataFrame"
      ]
    },
    {
      "cell_type": "markdown",
      "metadata": {
        "id": "oDos73zzMnWT"
      },
      "source": [
        "#### Consistency"
      ]
    },
    {
      "cell_type": "code",
      "metadata": {
        "colab": {
          "base_uri": "https://localhost:8080/"
        },
        "id": "6wbwNIYbM36J",
        "outputId": "4ed9f7d0-c60e-4a93-ae35-a9b015f6b30c"
      },
      "source": [
        "#we will look for the number of rows with duplicate records\n",
        "print('Number of rows with duplicated values',fifarank.duplicated().sum())\n",
        "\n",
        "#we then drop the rows with duplicated records\n",
        "fifarank.drop_duplicates(inplace=True)\n",
        "print('After dropping there are',fifarank.duplicated().sum(), \"Duplicated rows\")\n",
        "\n",
        "print('Shape of dataframe after dropping duplicated rows', fifarank.shape)"
      ],
      "execution_count": 11,
      "outputs": [
        {
          "output_type": "stream",
          "text": [
            "Number of rows with duplicated values 37\n",
            "After dropping there are 0 Duplicated rows\n",
            "Shape of dataframe after dropping duplicated rows (57756, 16)\n"
          ],
          "name": "stdout"
        }
      ]
    },
    {
      "cell_type": "markdown",
      "metadata": {
        "id": "kQXYgSgAMvLt"
      },
      "source": [
        "#### Completness"
      ]
    },
    {
      "cell_type": "code",
      "metadata": {
        "colab": {
          "base_uri": "https://localhost:8080/"
        },
        "id": "3_SOzo1kQS6c",
        "outputId": "47df3254-aea6-4d93-febf-5e4a9afceacc"
      },
      "source": [
        "#look for columns with missing values\n",
        "fifarank.isna().sum()\n",
        "#There are no null values in our dataset"
      ],
      "execution_count": 12,
      "outputs": [
        {
          "output_type": "execute_result",
          "data": {
            "text/plain": [
              "rank                       0\n",
              "country_full               0\n",
              "country_abrv               0\n",
              "total_points               0\n",
              "previous_points            0\n",
              "rank_change                0\n",
              "cur_year_avg               0\n",
              "cur_year_avg_weighted      0\n",
              "last_year_avg              0\n",
              "last_year_avg_weighted     0\n",
              "two_year_ago_avg           0\n",
              "two_year_ago_weighted      0\n",
              "three_year_ago_avg         0\n",
              "three_year_ago_weighted    0\n",
              "confederation              0\n",
              "rank_date                  0\n",
              "dtype: int64"
            ]
          },
          "metadata": {
            "tags": []
          },
          "execution_count": 12
        }
      ]
    },
    {
      "cell_type": "markdown",
      "metadata": {
        "id": "zZ3PtMQ-M1K0"
      },
      "source": [
        "#### Uniformity"
      ]
    },
    {
      "cell_type": "code",
      "metadata": {
        "colab": {
          "base_uri": "https://localhost:8080/"
        },
        "id": "Chlr8PE4gwXS",
        "outputId": "91172e87-8a9d-4b91-f607-00b91cab2881"
      },
      "source": [
        "# we will rename the columns into a uniform naming convention\n",
        "fifarank.columns=fifarank.columns.str.strip().str.lower().str.replace(' ','_').str.replace('(','').str.replace(')','')\n",
        "\n",
        "#rename the rank_date into date\n",
        "fifarank.rename(columns={'rank_date':'date'},inplace=True)\n",
        "#confirm if the code above has been implemented\n",
        "fifarank.columns"
      ],
      "execution_count": 13,
      "outputs": [
        {
          "output_type": "execute_result",
          "data": {
            "text/plain": [
              "Index(['rank', 'country_full', 'country_abrv', 'total_points',\n",
              "       'previous_points', 'rank_change', 'cur_year_avg',\n",
              "       'cur_year_avg_weighted', 'last_year_avg', 'last_year_avg_weighted',\n",
              "       'two_year_ago_avg', 'two_year_ago_weighted', 'three_year_ago_avg',\n",
              "       'three_year_ago_weighted', 'confederation', 'date'],\n",
              "      dtype='object')"
            ]
          },
          "metadata": {
            "tags": []
          },
          "execution_count": 13
        }
      ]
    },
    {
      "cell_type": "markdown",
      "metadata": {
        "id": "XVFYptc9MyoX"
      },
      "source": [
        "#### Validity"
      ]
    },
    {
      "cell_type": "code",
      "metadata": {
        "id": "66IxZmnEUGY1"
      },
      "source": [
        "#converting the dtype of the column date from object to datetime\n",
        "fifarank['date']=pd.to_datetime(fifarank['date'],infer_datetime_format=True)"
      ],
      "execution_count": 14,
      "outputs": []
    },
    {
      "cell_type": "code",
      "metadata": {
        "id": "ibg2Iqw6gMPv"
      },
      "source": [
        "#create a new column with year values\n",
        "fifarank['year'] = fifarank.date.dt.year\n",
        "fifarank['month'] = fifarank.date.dt.month"
      ],
      "execution_count": 15,
      "outputs": []
    },
    {
      "cell_type": "code",
      "metadata": {
        "colab": {
          "base_uri": "https://localhost:8080/",
          "height": 0
        },
        "id": "01EBA487swAK",
        "outputId": "bc697029-70d3-4d9f-f042-12d1f22b879b"
      },
      "source": [
        "#Drop irrelevant columns\n",
        "fifarank.drop(['country_abrv','total_points','previous_points','cur_year_avg',\n",
        "           'cur_year_avg_weighted', 'last_year_avg','last_year_avg_weighted','two_year_ago_avg',\n",
        "           'two_year_ago_weighted','three_year_ago_avg','three_year_ago_weighted', 'date'], axis = 1, inplace = True)\n",
        "\n",
        "# let us confirm that we have dropped the unnecessary columns\n",
        "fifarank.head()"
      ],
      "execution_count": 16,
      "outputs": [
        {
          "output_type": "execute_result",
          "data": {
            "text/html": [
              "<div>\n",
              "<style scoped>\n",
              "    .dataframe tbody tr th:only-of-type {\n",
              "        vertical-align: middle;\n",
              "    }\n",
              "\n",
              "    .dataframe tbody tr th {\n",
              "        vertical-align: top;\n",
              "    }\n",
              "\n",
              "    .dataframe thead th {\n",
              "        text-align: right;\n",
              "    }\n",
              "</style>\n",
              "<table border=\"1\" class=\"dataframe\">\n",
              "  <thead>\n",
              "    <tr style=\"text-align: right;\">\n",
              "      <th></th>\n",
              "      <th>rank</th>\n",
              "      <th>country_full</th>\n",
              "      <th>rank_change</th>\n",
              "      <th>confederation</th>\n",
              "      <th>year</th>\n",
              "      <th>month</th>\n",
              "    </tr>\n",
              "  </thead>\n",
              "  <tbody>\n",
              "    <tr>\n",
              "      <th>0</th>\n",
              "      <td>1</td>\n",
              "      <td>Germany</td>\n",
              "      <td>0</td>\n",
              "      <td>UEFA</td>\n",
              "      <td>1993</td>\n",
              "      <td>8</td>\n",
              "    </tr>\n",
              "    <tr>\n",
              "      <th>1</th>\n",
              "      <td>2</td>\n",
              "      <td>Italy</td>\n",
              "      <td>0</td>\n",
              "      <td>UEFA</td>\n",
              "      <td>1993</td>\n",
              "      <td>8</td>\n",
              "    </tr>\n",
              "    <tr>\n",
              "      <th>2</th>\n",
              "      <td>3</td>\n",
              "      <td>Switzerland</td>\n",
              "      <td>9</td>\n",
              "      <td>UEFA</td>\n",
              "      <td>1993</td>\n",
              "      <td>8</td>\n",
              "    </tr>\n",
              "    <tr>\n",
              "      <th>3</th>\n",
              "      <td>4</td>\n",
              "      <td>Sweden</td>\n",
              "      <td>0</td>\n",
              "      <td>UEFA</td>\n",
              "      <td>1993</td>\n",
              "      <td>8</td>\n",
              "    </tr>\n",
              "    <tr>\n",
              "      <th>4</th>\n",
              "      <td>5</td>\n",
              "      <td>Argentina</td>\n",
              "      <td>5</td>\n",
              "      <td>CONMEBOL</td>\n",
              "      <td>1993</td>\n",
              "      <td>8</td>\n",
              "    </tr>\n",
              "  </tbody>\n",
              "</table>\n",
              "</div>"
            ],
            "text/plain": [
              "   rank country_full  rank_change confederation  year  month\n",
              "0     1      Germany            0          UEFA  1993      8\n",
              "1     2        Italy            0          UEFA  1993      8\n",
              "2     3  Switzerland            9          UEFA  1993      8\n",
              "3     4       Sweden            0          UEFA  1993      8\n",
              "4     5    Argentina            5      CONMEBOL  1993      8"
            ]
          },
          "metadata": {
            "tags": []
          },
          "execution_count": 16
        }
      ]
    },
    {
      "cell_type": "markdown",
      "metadata": {
        "id": "WLIEdafGW4I5"
      },
      "source": [
        "### Results DataFrame"
      ]
    },
    {
      "cell_type": "markdown",
      "metadata": {
        "id": "o2xDGriTXAuz"
      },
      "source": [
        "#### Consistency"
      ]
    },
    {
      "cell_type": "code",
      "metadata": {
        "colab": {
          "base_uri": "https://localhost:8080/"
        },
        "id": "41MzLYHMXPgI",
        "outputId": "11f9a4a1-8f8c-4753-f1f2-1b50225cad6d"
      },
      "source": [
        "#check for rows with duplicated records\n",
        "results.duplicated().sum()\n",
        "#There are no duplicated rows"
      ],
      "execution_count": 17,
      "outputs": [
        {
          "output_type": "execute_result",
          "data": {
            "text/plain": [
              "0"
            ]
          },
          "metadata": {
            "tags": []
          },
          "execution_count": 17
        }
      ]
    },
    {
      "cell_type": "markdown",
      "metadata": {
        "id": "ZBvwRYWwXD9u"
      },
      "source": [
        "#### Completness"
      ]
    },
    {
      "cell_type": "code",
      "metadata": {
        "colab": {
          "base_uri": "https://localhost:8080/"
        },
        "id": "cUoaZN7wXcnF",
        "outputId": "b1ceca06-f4ea-48ad-da06-4434b8cf3ca1"
      },
      "source": [
        "#check for columns with missing values\n",
        "results.isna().sum()\n",
        "#There are no missing values"
      ],
      "execution_count": 18,
      "outputs": [
        {
          "output_type": "execute_result",
          "data": {
            "text/plain": [
              "date          0\n",
              "home_team     0\n",
              "away_team     0\n",
              "home_score    0\n",
              "away_score    0\n",
              "tournament    0\n",
              "city          0\n",
              "country       0\n",
              "neutral       0\n",
              "dtype: int64"
            ]
          },
          "metadata": {
            "tags": []
          },
          "execution_count": 18
        }
      ]
    },
    {
      "cell_type": "markdown",
      "metadata": {
        "id": "Oqf_r9jJXF_N"
      },
      "source": [
        "#### Validity"
      ]
    },
    {
      "cell_type": "code",
      "metadata": {
        "id": "fh4Hd2v4XjeA"
      },
      "source": [
        "#convert the date from object class into datetime\n",
        "results['date']=pd.to_datetime(results['date'], infer_datetime_format=True)"
      ],
      "execution_count": 19,
      "outputs": []
    },
    {
      "cell_type": "code",
      "metadata": {
        "id": "G1Vpu8BKalyl"
      },
      "source": [
        "#create another column with year values only\n",
        "results['year'] = results.date.dt.year\n",
        "results['month'] = results.date.dt.month"
      ],
      "execution_count": 20,
      "outputs": []
    },
    {
      "cell_type": "code",
      "metadata": {
        "colab": {
          "base_uri": "https://localhost:8080/",
          "height": 0
        },
        "id": "y0TMZq1nvyqg",
        "outputId": "b7c8f5ad-dcd4-4436-e70b-9dfb37ed6bac"
      },
      "source": [
        "#drop irrelevant columns\n",
        "results.drop(['city', 'date'], axis = 1, inplace = True)\n",
        "# preview to check if dropped\n",
        "results.head()"
      ],
      "execution_count": 21,
      "outputs": [
        {
          "output_type": "execute_result",
          "data": {
            "text/html": [
              "<div>\n",
              "<style scoped>\n",
              "    .dataframe tbody tr th:only-of-type {\n",
              "        vertical-align: middle;\n",
              "    }\n",
              "\n",
              "    .dataframe tbody tr th {\n",
              "        vertical-align: top;\n",
              "    }\n",
              "\n",
              "    .dataframe thead th {\n",
              "        text-align: right;\n",
              "    }\n",
              "</style>\n",
              "<table border=\"1\" class=\"dataframe\">\n",
              "  <thead>\n",
              "    <tr style=\"text-align: right;\">\n",
              "      <th></th>\n",
              "      <th>home_team</th>\n",
              "      <th>away_team</th>\n",
              "      <th>home_score</th>\n",
              "      <th>away_score</th>\n",
              "      <th>tournament</th>\n",
              "      <th>country</th>\n",
              "      <th>neutral</th>\n",
              "      <th>year</th>\n",
              "      <th>month</th>\n",
              "    </tr>\n",
              "  </thead>\n",
              "  <tbody>\n",
              "    <tr>\n",
              "      <th>0</th>\n",
              "      <td>Scotland</td>\n",
              "      <td>England</td>\n",
              "      <td>0</td>\n",
              "      <td>0</td>\n",
              "      <td>Friendly</td>\n",
              "      <td>Scotland</td>\n",
              "      <td>False</td>\n",
              "      <td>1872</td>\n",
              "      <td>11</td>\n",
              "    </tr>\n",
              "    <tr>\n",
              "      <th>1</th>\n",
              "      <td>England</td>\n",
              "      <td>Scotland</td>\n",
              "      <td>4</td>\n",
              "      <td>2</td>\n",
              "      <td>Friendly</td>\n",
              "      <td>England</td>\n",
              "      <td>False</td>\n",
              "      <td>1873</td>\n",
              "      <td>3</td>\n",
              "    </tr>\n",
              "    <tr>\n",
              "      <th>2</th>\n",
              "      <td>Scotland</td>\n",
              "      <td>England</td>\n",
              "      <td>2</td>\n",
              "      <td>1</td>\n",
              "      <td>Friendly</td>\n",
              "      <td>Scotland</td>\n",
              "      <td>False</td>\n",
              "      <td>1874</td>\n",
              "      <td>3</td>\n",
              "    </tr>\n",
              "    <tr>\n",
              "      <th>3</th>\n",
              "      <td>England</td>\n",
              "      <td>Scotland</td>\n",
              "      <td>2</td>\n",
              "      <td>2</td>\n",
              "      <td>Friendly</td>\n",
              "      <td>England</td>\n",
              "      <td>False</td>\n",
              "      <td>1875</td>\n",
              "      <td>3</td>\n",
              "    </tr>\n",
              "    <tr>\n",
              "      <th>4</th>\n",
              "      <td>Scotland</td>\n",
              "      <td>England</td>\n",
              "      <td>3</td>\n",
              "      <td>0</td>\n",
              "      <td>Friendly</td>\n",
              "      <td>Scotland</td>\n",
              "      <td>False</td>\n",
              "      <td>1876</td>\n",
              "      <td>3</td>\n",
              "    </tr>\n",
              "  </tbody>\n",
              "</table>\n",
              "</div>"
            ],
            "text/plain": [
              "  home_team away_team  home_score  away_score  ...   country neutral  year  month\n",
              "0  Scotland   England           0           0  ...  Scotland   False  1872     11\n",
              "1   England  Scotland           4           2  ...   England   False  1873      3\n",
              "2  Scotland   England           2           1  ...  Scotland   False  1874      3\n",
              "3   England  Scotland           2           2  ...   England   False  1875      3\n",
              "4  Scotland   England           3           0  ...  Scotland   False  1876      3\n",
              "\n",
              "[5 rows x 9 columns]"
            ]
          },
          "metadata": {
            "tags": []
          },
          "execution_count": 21
        }
      ]
    },
    {
      "cell_type": "markdown",
      "metadata": {
        "id": "RoUv_DmUXIr0"
      },
      "source": [
        "#### Uniformity"
      ]
    },
    {
      "cell_type": "code",
      "metadata": {
        "colab": {
          "base_uri": "https://localhost:8080/"
        },
        "id": "-yKRqR1NXLfg",
        "outputId": "03e8e48a-8238-4037-80f5-5bbea557514a"
      },
      "source": [
        "#Renaming to uniform naming convections \n",
        "results.columns=results.columns.str.strip().str.lower().str.replace(' ','_').str.replace('(','').str.replace(')','')\n",
        "results.columns"
      ],
      "execution_count": 22,
      "outputs": [
        {
          "output_type": "execute_result",
          "data": {
            "text/plain": [
              "Index(['home_team', 'away_team', 'home_score', 'away_score', 'tournament',\n",
              "       'country', 'neutral', 'year', 'month'],\n",
              "      dtype='object')"
            ]
          },
          "metadata": {
            "tags": []
          },
          "execution_count": 22
        }
      ]
    },
    {
      "cell_type": "code",
      "metadata": {
        "id": "gNam8wWuSUjq",
        "colab": {
          "base_uri": "https://localhost:8080/",
          "height": 0
        },
        "outputId": "0d1b4180-ef2c-4e53-8182-7fba06eb020d"
      },
      "source": [
        "results.head()"
      ],
      "execution_count": 23,
      "outputs": [
        {
          "output_type": "execute_result",
          "data": {
            "text/html": [
              "<div>\n",
              "<style scoped>\n",
              "    .dataframe tbody tr th:only-of-type {\n",
              "        vertical-align: middle;\n",
              "    }\n",
              "\n",
              "    .dataframe tbody tr th {\n",
              "        vertical-align: top;\n",
              "    }\n",
              "\n",
              "    .dataframe thead th {\n",
              "        text-align: right;\n",
              "    }\n",
              "</style>\n",
              "<table border=\"1\" class=\"dataframe\">\n",
              "  <thead>\n",
              "    <tr style=\"text-align: right;\">\n",
              "      <th></th>\n",
              "      <th>home_team</th>\n",
              "      <th>away_team</th>\n",
              "      <th>home_score</th>\n",
              "      <th>away_score</th>\n",
              "      <th>tournament</th>\n",
              "      <th>country</th>\n",
              "      <th>neutral</th>\n",
              "      <th>year</th>\n",
              "      <th>month</th>\n",
              "    </tr>\n",
              "  </thead>\n",
              "  <tbody>\n",
              "    <tr>\n",
              "      <th>0</th>\n",
              "      <td>Scotland</td>\n",
              "      <td>England</td>\n",
              "      <td>0</td>\n",
              "      <td>0</td>\n",
              "      <td>Friendly</td>\n",
              "      <td>Scotland</td>\n",
              "      <td>False</td>\n",
              "      <td>1872</td>\n",
              "      <td>11</td>\n",
              "    </tr>\n",
              "    <tr>\n",
              "      <th>1</th>\n",
              "      <td>England</td>\n",
              "      <td>Scotland</td>\n",
              "      <td>4</td>\n",
              "      <td>2</td>\n",
              "      <td>Friendly</td>\n",
              "      <td>England</td>\n",
              "      <td>False</td>\n",
              "      <td>1873</td>\n",
              "      <td>3</td>\n",
              "    </tr>\n",
              "    <tr>\n",
              "      <th>2</th>\n",
              "      <td>Scotland</td>\n",
              "      <td>England</td>\n",
              "      <td>2</td>\n",
              "      <td>1</td>\n",
              "      <td>Friendly</td>\n",
              "      <td>Scotland</td>\n",
              "      <td>False</td>\n",
              "      <td>1874</td>\n",
              "      <td>3</td>\n",
              "    </tr>\n",
              "    <tr>\n",
              "      <th>3</th>\n",
              "      <td>England</td>\n",
              "      <td>Scotland</td>\n",
              "      <td>2</td>\n",
              "      <td>2</td>\n",
              "      <td>Friendly</td>\n",
              "      <td>England</td>\n",
              "      <td>False</td>\n",
              "      <td>1875</td>\n",
              "      <td>3</td>\n",
              "    </tr>\n",
              "    <tr>\n",
              "      <th>4</th>\n",
              "      <td>Scotland</td>\n",
              "      <td>England</td>\n",
              "      <td>3</td>\n",
              "      <td>0</td>\n",
              "      <td>Friendly</td>\n",
              "      <td>Scotland</td>\n",
              "      <td>False</td>\n",
              "      <td>1876</td>\n",
              "      <td>3</td>\n",
              "    </tr>\n",
              "  </tbody>\n",
              "</table>\n",
              "</div>"
            ],
            "text/plain": [
              "  home_team away_team  home_score  away_score  ...   country neutral  year  month\n",
              "0  Scotland   England           0           0  ...  Scotland   False  1872     11\n",
              "1   England  Scotland           4           2  ...   England   False  1873      3\n",
              "2  Scotland   England           2           1  ...  Scotland   False  1874      3\n",
              "3   England  Scotland           2           2  ...   England   False  1875      3\n",
              "4  Scotland   England           3           0  ...  Scotland   False  1876      3\n",
              "\n",
              "[5 rows x 9 columns]"
            ]
          },
          "metadata": {
            "tags": []
          },
          "execution_count": 23
        }
      ]
    },
    {
      "cell_type": "code",
      "metadata": {
        "id": "LPgVECiftwCg"
      },
      "source": [
        ""
      ],
      "execution_count": 23,
      "outputs": []
    },
    {
      "cell_type": "markdown",
      "metadata": {
        "id": "MKMwshdlvl3V"
      },
      "source": [
        "## Merging the dataset"
      ]
    },
    {
      "cell_type": "markdown",
      "metadata": {
        "id": "91AqQo9ovl3W"
      },
      "source": [
        "### Merge to get Home Rank"
      ]
    },
    {
      "cell_type": "code",
      "metadata": {
        "colab": {
          "base_uri": "https://localhost:8080/"
        },
        "id": "Nu9tY9XwxFar",
        "outputId": "ee3c49da-8276-49f0-ab62-184f5b81bc35"
      },
      "source": [
        "#We shall take country full from the fifarank as the home team country\n",
        "#Renaming it to home_team\n",
        "fifarank.rename(columns={'country_full': 'home_team'}, inplace=True)\n",
        "fifarank.columns"
      ],
      "execution_count": 24,
      "outputs": [
        {
          "output_type": "execute_result",
          "data": {
            "text/plain": [
              "Index(['rank', 'home_team', 'rank_change', 'confederation', 'year', 'month'], dtype='object')"
            ]
          },
          "metadata": {
            "tags": []
          },
          "execution_count": 24
        }
      ]
    },
    {
      "cell_type": "code",
      "metadata": {
        "colab": {
          "base_uri": "https://localhost:8080/",
          "height": 0
        },
        "id": "Y0erQzWWxgUz",
        "outputId": "8fdbc91e-6a23-453b-aa03-145f56d641e3"
      },
      "source": [
        "#merging on home team and year since there are similiar\n",
        "home=pd.merge(fifarank,results,  how='right', on=['home_team','year', 'month'])\n",
        "home.head()"
      ],
      "execution_count": 25,
      "outputs": [
        {
          "output_type": "execute_result",
          "data": {
            "text/html": [
              "<div>\n",
              "<style scoped>\n",
              "    .dataframe tbody tr th:only-of-type {\n",
              "        vertical-align: middle;\n",
              "    }\n",
              "\n",
              "    .dataframe tbody tr th {\n",
              "        vertical-align: top;\n",
              "    }\n",
              "\n",
              "    .dataframe thead th {\n",
              "        text-align: right;\n",
              "    }\n",
              "</style>\n",
              "<table border=\"1\" class=\"dataframe\">\n",
              "  <thead>\n",
              "    <tr style=\"text-align: right;\">\n",
              "      <th></th>\n",
              "      <th>rank</th>\n",
              "      <th>home_team</th>\n",
              "      <th>rank_change</th>\n",
              "      <th>confederation</th>\n",
              "      <th>year</th>\n",
              "      <th>month</th>\n",
              "      <th>away_team</th>\n",
              "      <th>home_score</th>\n",
              "      <th>away_score</th>\n",
              "      <th>tournament</th>\n",
              "      <th>country</th>\n",
              "      <th>neutral</th>\n",
              "    </tr>\n",
              "  </thead>\n",
              "  <tbody>\n",
              "    <tr>\n",
              "      <th>0</th>\n",
              "      <td>NaN</td>\n",
              "      <td>Scotland</td>\n",
              "      <td>NaN</td>\n",
              "      <td>NaN</td>\n",
              "      <td>1872</td>\n",
              "      <td>11</td>\n",
              "      <td>England</td>\n",
              "      <td>0</td>\n",
              "      <td>0</td>\n",
              "      <td>Friendly</td>\n",
              "      <td>Scotland</td>\n",
              "      <td>False</td>\n",
              "    </tr>\n",
              "    <tr>\n",
              "      <th>1</th>\n",
              "      <td>NaN</td>\n",
              "      <td>England</td>\n",
              "      <td>NaN</td>\n",
              "      <td>NaN</td>\n",
              "      <td>1873</td>\n",
              "      <td>3</td>\n",
              "      <td>Scotland</td>\n",
              "      <td>4</td>\n",
              "      <td>2</td>\n",
              "      <td>Friendly</td>\n",
              "      <td>England</td>\n",
              "      <td>False</td>\n",
              "    </tr>\n",
              "    <tr>\n",
              "      <th>2</th>\n",
              "      <td>NaN</td>\n",
              "      <td>Scotland</td>\n",
              "      <td>NaN</td>\n",
              "      <td>NaN</td>\n",
              "      <td>1874</td>\n",
              "      <td>3</td>\n",
              "      <td>England</td>\n",
              "      <td>2</td>\n",
              "      <td>1</td>\n",
              "      <td>Friendly</td>\n",
              "      <td>Scotland</td>\n",
              "      <td>False</td>\n",
              "    </tr>\n",
              "    <tr>\n",
              "      <th>3</th>\n",
              "      <td>NaN</td>\n",
              "      <td>England</td>\n",
              "      <td>NaN</td>\n",
              "      <td>NaN</td>\n",
              "      <td>1875</td>\n",
              "      <td>3</td>\n",
              "      <td>Scotland</td>\n",
              "      <td>2</td>\n",
              "      <td>2</td>\n",
              "      <td>Friendly</td>\n",
              "      <td>England</td>\n",
              "      <td>False</td>\n",
              "    </tr>\n",
              "    <tr>\n",
              "      <th>4</th>\n",
              "      <td>NaN</td>\n",
              "      <td>Scotland</td>\n",
              "      <td>NaN</td>\n",
              "      <td>NaN</td>\n",
              "      <td>1876</td>\n",
              "      <td>3</td>\n",
              "      <td>England</td>\n",
              "      <td>3</td>\n",
              "      <td>0</td>\n",
              "      <td>Friendly</td>\n",
              "      <td>Scotland</td>\n",
              "      <td>False</td>\n",
              "    </tr>\n",
              "  </tbody>\n",
              "</table>\n",
              "</div>"
            ],
            "text/plain": [
              "   rank home_team  rank_change  ... tournament   country  neutral\n",
              "0   NaN  Scotland          NaN  ...   Friendly  Scotland    False\n",
              "1   NaN   England          NaN  ...   Friendly   England    False\n",
              "2   NaN  Scotland          NaN  ...   Friendly  Scotland    False\n",
              "3   NaN   England          NaN  ...   Friendly   England    False\n",
              "4   NaN  Scotland          NaN  ...   Friendly  Scotland    False\n",
              "\n",
              "[5 rows x 12 columns]"
            ]
          },
          "metadata": {
            "tags": []
          },
          "execution_count": 25
        }
      ]
    },
    {
      "cell_type": "code",
      "metadata": {
        "colab": {
          "base_uri": "https://localhost:8080/"
        },
        "id": "jfjasNFGxzxe",
        "outputId": "d474bd36-72e4-4a46-a893-f7de66dbb3c0"
      },
      "source": [
        "#lets check the shape and compare with parent datasets\n",
        "print(fifarank.shape)\n",
        "print(results.shape)\n",
        "print(home.shape)"
      ],
      "execution_count": 26,
      "outputs": [
        {
          "output_type": "stream",
          "text": [
            "(57756, 6)\n",
            "(40839, 9)\n",
            "(40892, 12)\n"
          ],
          "name": "stdout"
        }
      ]
    },
    {
      "cell_type": "code",
      "metadata": {
        "colab": {
          "base_uri": "https://localhost:8080/"
        },
        "id": "0x_NP2eD11RO",
        "outputId": "a1e754c5-3151-4985-f839-4bbf19e5b704"
      },
      "source": [
        "#Check for null values\n",
        "home.isnull().sum()"
      ],
      "execution_count": 27,
      "outputs": [
        {
          "output_type": "execute_result",
          "data": {
            "text/plain": [
              "rank             22299\n",
              "home_team            0\n",
              "rank_change      22299\n",
              "confederation    22299\n",
              "year                 0\n",
              "month                0\n",
              "away_team            0\n",
              "home_score           0\n",
              "away_score           0\n",
              "tournament           0\n",
              "country              0\n",
              "neutral              0\n",
              "dtype: int64"
            ]
          },
          "metadata": {
            "tags": []
          },
          "execution_count": 27
        }
      ]
    },
    {
      "cell_type": "code",
      "metadata": {
        "colab": {
          "base_uri": "https://localhost:8080/"
        },
        "id": "d8k6sOhp2LgL",
        "outputId": "e36dfc0f-2ef0-49b0-85dd-c4832f2b000c"
      },
      "source": [
        "# Let us drop these null values\n",
        "home.dropna(inplace=True)\n",
        "home.isnull().sum()"
      ],
      "execution_count": 28,
      "outputs": [
        {
          "output_type": "execute_result",
          "data": {
            "text/plain": [
              "rank             0\n",
              "home_team        0\n",
              "rank_change      0\n",
              "confederation    0\n",
              "year             0\n",
              "month            0\n",
              "away_team        0\n",
              "home_score       0\n",
              "away_score       0\n",
              "tournament       0\n",
              "country          0\n",
              "neutral          0\n",
              "dtype: int64"
            ]
          },
          "metadata": {
            "tags": []
          },
          "execution_count": 28
        }
      ]
    },
    {
      "cell_type": "code",
      "metadata": {
        "colab": {
          "base_uri": "https://localhost:8080/"
        },
        "id": "_yLNI4o02Ok5",
        "outputId": "29d63891-5edb-4905-852b-9c0d76df12c3"
      },
      "source": [
        "#Check the shape\n",
        "home.shape"
      ],
      "execution_count": 29,
      "outputs": [
        {
          "output_type": "execute_result",
          "data": {
            "text/plain": [
              "(18593, 12)"
            ]
          },
          "metadata": {
            "tags": []
          },
          "execution_count": 29
        }
      ]
    },
    {
      "cell_type": "markdown",
      "metadata": {
        "id": "3W56geEy2iSS"
      },
      "source": [
        "### Merge to get Away Rank"
      ]
    },
    {
      "cell_type": "code",
      "metadata": {
        "colab": {
          "base_uri": "https://localhost:8080/"
        },
        "id": "tzd73s3M2iSS",
        "outputId": "48e433fb-0975-4c79-b1be-5cb2b81841bd"
      },
      "source": [
        "#We shall take country full from the fifarank as the away team country\n",
        "#Renaming it to away_team\n",
        "fifarank.rename(columns={'home_team': 'away_team'}, inplace=True)\n",
        "fifarank.columns"
      ],
      "execution_count": 30,
      "outputs": [
        {
          "output_type": "execute_result",
          "data": {
            "text/plain": [
              "Index(['rank', 'away_team', 'rank_change', 'confederation', 'year', 'month'], dtype='object')"
            ]
          },
          "metadata": {
            "tags": []
          },
          "execution_count": 30
        }
      ]
    },
    {
      "cell_type": "code",
      "metadata": {
        "colab": {
          "base_uri": "https://localhost:8080/",
          "height": 0
        },
        "id": "PQVmOo6l2iST",
        "outputId": "63d55b09-b777-4d9a-eb29-bb6ddfb4cf48"
      },
      "source": [
        "#merging on home team and year since there are similiar\n",
        "away=pd.merge(fifarank,results,  how='right', on=['away_team','year', 'month'])\n",
        "away.head()"
      ],
      "execution_count": 31,
      "outputs": [
        {
          "output_type": "execute_result",
          "data": {
            "text/html": [
              "<div>\n",
              "<style scoped>\n",
              "    .dataframe tbody tr th:only-of-type {\n",
              "        vertical-align: middle;\n",
              "    }\n",
              "\n",
              "    .dataframe tbody tr th {\n",
              "        vertical-align: top;\n",
              "    }\n",
              "\n",
              "    .dataframe thead th {\n",
              "        text-align: right;\n",
              "    }\n",
              "</style>\n",
              "<table border=\"1\" class=\"dataframe\">\n",
              "  <thead>\n",
              "    <tr style=\"text-align: right;\">\n",
              "      <th></th>\n",
              "      <th>rank</th>\n",
              "      <th>away_team</th>\n",
              "      <th>rank_change</th>\n",
              "      <th>confederation</th>\n",
              "      <th>year</th>\n",
              "      <th>month</th>\n",
              "      <th>home_team</th>\n",
              "      <th>home_score</th>\n",
              "      <th>away_score</th>\n",
              "      <th>tournament</th>\n",
              "      <th>country</th>\n",
              "      <th>neutral</th>\n",
              "    </tr>\n",
              "  </thead>\n",
              "  <tbody>\n",
              "    <tr>\n",
              "      <th>0</th>\n",
              "      <td>NaN</td>\n",
              "      <td>England</td>\n",
              "      <td>NaN</td>\n",
              "      <td>NaN</td>\n",
              "      <td>1872</td>\n",
              "      <td>11</td>\n",
              "      <td>Scotland</td>\n",
              "      <td>0</td>\n",
              "      <td>0</td>\n",
              "      <td>Friendly</td>\n",
              "      <td>Scotland</td>\n",
              "      <td>False</td>\n",
              "    </tr>\n",
              "    <tr>\n",
              "      <th>1</th>\n",
              "      <td>NaN</td>\n",
              "      <td>Scotland</td>\n",
              "      <td>NaN</td>\n",
              "      <td>NaN</td>\n",
              "      <td>1873</td>\n",
              "      <td>3</td>\n",
              "      <td>England</td>\n",
              "      <td>4</td>\n",
              "      <td>2</td>\n",
              "      <td>Friendly</td>\n",
              "      <td>England</td>\n",
              "      <td>False</td>\n",
              "    </tr>\n",
              "    <tr>\n",
              "      <th>2</th>\n",
              "      <td>NaN</td>\n",
              "      <td>England</td>\n",
              "      <td>NaN</td>\n",
              "      <td>NaN</td>\n",
              "      <td>1874</td>\n",
              "      <td>3</td>\n",
              "      <td>Scotland</td>\n",
              "      <td>2</td>\n",
              "      <td>1</td>\n",
              "      <td>Friendly</td>\n",
              "      <td>Scotland</td>\n",
              "      <td>False</td>\n",
              "    </tr>\n",
              "    <tr>\n",
              "      <th>3</th>\n",
              "      <td>NaN</td>\n",
              "      <td>Scotland</td>\n",
              "      <td>NaN</td>\n",
              "      <td>NaN</td>\n",
              "      <td>1875</td>\n",
              "      <td>3</td>\n",
              "      <td>England</td>\n",
              "      <td>2</td>\n",
              "      <td>2</td>\n",
              "      <td>Friendly</td>\n",
              "      <td>England</td>\n",
              "      <td>False</td>\n",
              "    </tr>\n",
              "    <tr>\n",
              "      <th>4</th>\n",
              "      <td>NaN</td>\n",
              "      <td>England</td>\n",
              "      <td>NaN</td>\n",
              "      <td>NaN</td>\n",
              "      <td>1876</td>\n",
              "      <td>3</td>\n",
              "      <td>Scotland</td>\n",
              "      <td>3</td>\n",
              "      <td>0</td>\n",
              "      <td>Friendly</td>\n",
              "      <td>Scotland</td>\n",
              "      <td>False</td>\n",
              "    </tr>\n",
              "  </tbody>\n",
              "</table>\n",
              "</div>"
            ],
            "text/plain": [
              "   rank away_team  rank_change  ... tournament   country  neutral\n",
              "0   NaN   England          NaN  ...   Friendly  Scotland    False\n",
              "1   NaN  Scotland          NaN  ...   Friendly   England    False\n",
              "2   NaN   England          NaN  ...   Friendly  Scotland    False\n",
              "3   NaN  Scotland          NaN  ...   Friendly   England    False\n",
              "4   NaN   England          NaN  ...   Friendly  Scotland    False\n",
              "\n",
              "[5 rows x 12 columns]"
            ]
          },
          "metadata": {
            "tags": []
          },
          "execution_count": 31
        }
      ]
    },
    {
      "cell_type": "code",
      "metadata": {
        "colab": {
          "base_uri": "https://localhost:8080/"
        },
        "id": "HaSDLV4q2iST",
        "outputId": "7890f336-7125-4672-ce51-62c9364a8d5c"
      },
      "source": [
        "#lets check the shape and compare with parent datasets\n",
        "print(fifarank.shape)\n",
        "print(results.shape)\n",
        "print(away.shape)"
      ],
      "execution_count": 32,
      "outputs": [
        {
          "output_type": "stream",
          "text": [
            "(57756, 6)\n",
            "(40839, 9)\n",
            "(40891, 12)\n"
          ],
          "name": "stdout"
        }
      ]
    },
    {
      "cell_type": "code",
      "metadata": {
        "colab": {
          "base_uri": "https://localhost:8080/"
        },
        "id": "l8acCZld2iST",
        "outputId": "39d9e211-cd86-4a8b-d489-83c65e260e69"
      },
      "source": [
        "#Check for null values\n",
        "away.isnull().sum()"
      ],
      "execution_count": 33,
      "outputs": [
        {
          "output_type": "execute_result",
          "data": {
            "text/plain": [
              "rank             22389\n",
              "away_team            0\n",
              "rank_change      22389\n",
              "confederation    22389\n",
              "year                 0\n",
              "month                0\n",
              "home_team            0\n",
              "home_score           0\n",
              "away_score           0\n",
              "tournament           0\n",
              "country              0\n",
              "neutral              0\n",
              "dtype: int64"
            ]
          },
          "metadata": {
            "tags": []
          },
          "execution_count": 33
        }
      ]
    },
    {
      "cell_type": "code",
      "metadata": {
        "colab": {
          "base_uri": "https://localhost:8080/"
        },
        "id": "GP1DOyTa2iST",
        "outputId": "5b7acf7f-98c9-48dd-98e2-8e22dcd20632"
      },
      "source": [
        "# Let us drop these null values\n",
        "away.dropna(inplace=True)\n",
        "away.isnull().sum()"
      ],
      "execution_count": 34,
      "outputs": [
        {
          "output_type": "execute_result",
          "data": {
            "text/plain": [
              "rank             0\n",
              "away_team        0\n",
              "rank_change      0\n",
              "confederation    0\n",
              "year             0\n",
              "month            0\n",
              "home_team        0\n",
              "home_score       0\n",
              "away_score       0\n",
              "tournament       0\n",
              "country          0\n",
              "neutral          0\n",
              "dtype: int64"
            ]
          },
          "metadata": {
            "tags": []
          },
          "execution_count": 34
        }
      ]
    },
    {
      "cell_type": "code",
      "metadata": {
        "colab": {
          "base_uri": "https://localhost:8080/"
        },
        "id": "G5sYBHNi2iST",
        "outputId": "50ff7340-625f-4112-b54d-a7714acc5423"
      },
      "source": [
        "#Check the shape\n",
        "away.shape"
      ],
      "execution_count": 35,
      "outputs": [
        {
          "output_type": "execute_result",
          "data": {
            "text/plain": [
              "(18502, 12)"
            ]
          },
          "metadata": {
            "tags": []
          },
          "execution_count": 35
        }
      ]
    },
    {
      "cell_type": "code",
      "metadata": {
        "id": "Kv4oVypt2iSU"
      },
      "source": [
        ""
      ],
      "execution_count": 35,
      "outputs": []
    },
    {
      "cell_type": "markdown",
      "metadata": {
        "id": "nvmA4VUb4G8L"
      },
      "source": [
        "### Merging the away and home "
      ]
    },
    {
      "cell_type": "code",
      "metadata": {
        "colab": {
          "base_uri": "https://localhost:8080/",
          "height": 0
        },
        "id": "NZjolVlR4G8S",
        "outputId": "7127950e-8292-43eb-c348-6ed2822a00f4"
      },
      "source": [
        "#We shall take country full from the fifarank as the away team country\n",
        "#Renaming it to away_team\n",
        "df = pd.merge(home, away, how = 'inner', left_on = ['year', 'month','away_team'],\n",
        "              right_on = ['year', 'month','away_team'])\n",
        "df.head()"
      ],
      "execution_count": 36,
      "outputs": [
        {
          "output_type": "execute_result",
          "data": {
            "text/html": [
              "<div>\n",
              "<style scoped>\n",
              "    .dataframe tbody tr th:only-of-type {\n",
              "        vertical-align: middle;\n",
              "    }\n",
              "\n",
              "    .dataframe tbody tr th {\n",
              "        vertical-align: top;\n",
              "    }\n",
              "\n",
              "    .dataframe thead th {\n",
              "        text-align: right;\n",
              "    }\n",
              "</style>\n",
              "<table border=\"1\" class=\"dataframe\">\n",
              "  <thead>\n",
              "    <tr style=\"text-align: right;\">\n",
              "      <th></th>\n",
              "      <th>rank_x</th>\n",
              "      <th>home_team_x</th>\n",
              "      <th>rank_change_x</th>\n",
              "      <th>confederation_x</th>\n",
              "      <th>year</th>\n",
              "      <th>month</th>\n",
              "      <th>away_team</th>\n",
              "      <th>home_score_x</th>\n",
              "      <th>away_score_x</th>\n",
              "      <th>tournament_x</th>\n",
              "      <th>country_x</th>\n",
              "      <th>neutral_x</th>\n",
              "      <th>rank_y</th>\n",
              "      <th>rank_change_y</th>\n",
              "      <th>confederation_y</th>\n",
              "      <th>home_team_y</th>\n",
              "      <th>home_score_y</th>\n",
              "      <th>away_score_y</th>\n",
              "      <th>tournament_y</th>\n",
              "      <th>country_y</th>\n",
              "      <th>neutral_y</th>\n",
              "    </tr>\n",
              "  </thead>\n",
              "  <tbody>\n",
              "    <tr>\n",
              "      <th>0</th>\n",
              "      <td>19.0</td>\n",
              "      <td>Colombia</td>\n",
              "      <td>16.0</td>\n",
              "      <td>CONMEBOL</td>\n",
              "      <td>1993</td>\n",
              "      <td>8</td>\n",
              "      <td>Paraguay</td>\n",
              "      <td>0</td>\n",
              "      <td>0</td>\n",
              "      <td>FIFA World Cup qualification</td>\n",
              "      <td>Colombia</td>\n",
              "      <td>False</td>\n",
              "      <td>67.0</td>\n",
              "      <td>1.0</td>\n",
              "      <td>CONMEBOL</td>\n",
              "      <td>Colombia</td>\n",
              "      <td>0</td>\n",
              "      <td>0</td>\n",
              "      <td>FIFA World Cup qualification</td>\n",
              "      <td>Colombia</td>\n",
              "      <td>False</td>\n",
              "    </tr>\n",
              "    <tr>\n",
              "      <th>1</th>\n",
              "      <td>19.0</td>\n",
              "      <td>Colombia</td>\n",
              "      <td>16.0</td>\n",
              "      <td>CONMEBOL</td>\n",
              "      <td>1993</td>\n",
              "      <td>8</td>\n",
              "      <td>Paraguay</td>\n",
              "      <td>0</td>\n",
              "      <td>0</td>\n",
              "      <td>FIFA World Cup qualification</td>\n",
              "      <td>Colombia</td>\n",
              "      <td>False</td>\n",
              "      <td>67.0</td>\n",
              "      <td>1.0</td>\n",
              "      <td>CONMEBOL</td>\n",
              "      <td>Argentina</td>\n",
              "      <td>0</td>\n",
              "      <td>0</td>\n",
              "      <td>FIFA World Cup qualification</td>\n",
              "      <td>Argentina</td>\n",
              "      <td>False</td>\n",
              "    </tr>\n",
              "    <tr>\n",
              "      <th>2</th>\n",
              "      <td>5.0</td>\n",
              "      <td>Argentina</td>\n",
              "      <td>5.0</td>\n",
              "      <td>CONMEBOL</td>\n",
              "      <td>1993</td>\n",
              "      <td>8</td>\n",
              "      <td>Paraguay</td>\n",
              "      <td>0</td>\n",
              "      <td>0</td>\n",
              "      <td>FIFA World Cup qualification</td>\n",
              "      <td>Argentina</td>\n",
              "      <td>False</td>\n",
              "      <td>67.0</td>\n",
              "      <td>1.0</td>\n",
              "      <td>CONMEBOL</td>\n",
              "      <td>Colombia</td>\n",
              "      <td>0</td>\n",
              "      <td>0</td>\n",
              "      <td>FIFA World Cup qualification</td>\n",
              "      <td>Colombia</td>\n",
              "      <td>False</td>\n",
              "    </tr>\n",
              "    <tr>\n",
              "      <th>3</th>\n",
              "      <td>5.0</td>\n",
              "      <td>Argentina</td>\n",
              "      <td>5.0</td>\n",
              "      <td>CONMEBOL</td>\n",
              "      <td>1993</td>\n",
              "      <td>8</td>\n",
              "      <td>Paraguay</td>\n",
              "      <td>0</td>\n",
              "      <td>0</td>\n",
              "      <td>FIFA World Cup qualification</td>\n",
              "      <td>Argentina</td>\n",
              "      <td>False</td>\n",
              "      <td>67.0</td>\n",
              "      <td>1.0</td>\n",
              "      <td>CONMEBOL</td>\n",
              "      <td>Argentina</td>\n",
              "      <td>0</td>\n",
              "      <td>0</td>\n",
              "      <td>FIFA World Cup qualification</td>\n",
              "      <td>Argentina</td>\n",
              "      <td>False</td>\n",
              "    </tr>\n",
              "    <tr>\n",
              "      <th>4</th>\n",
              "      <td>19.0</td>\n",
              "      <td>Colombia</td>\n",
              "      <td>16.0</td>\n",
              "      <td>CONMEBOL</td>\n",
              "      <td>1993</td>\n",
              "      <td>8</td>\n",
              "      <td>Argentina</td>\n",
              "      <td>2</td>\n",
              "      <td>1</td>\n",
              "      <td>FIFA World Cup qualification</td>\n",
              "      <td>Colombia</td>\n",
              "      <td>False</td>\n",
              "      <td>5.0</td>\n",
              "      <td>5.0</td>\n",
              "      <td>CONMEBOL</td>\n",
              "      <td>Peru</td>\n",
              "      <td>0</td>\n",
              "      <td>1</td>\n",
              "      <td>FIFA World Cup qualification</td>\n",
              "      <td>Peru</td>\n",
              "      <td>False</td>\n",
              "    </tr>\n",
              "  </tbody>\n",
              "</table>\n",
              "</div>"
            ],
            "text/plain": [
              "   rank_x home_team_x  ...  country_y neutral_y\n",
              "0    19.0    Colombia  ...   Colombia     False\n",
              "1    19.0    Colombia  ...  Argentina     False\n",
              "2     5.0   Argentina  ...   Colombia     False\n",
              "3     5.0   Argentina  ...  Argentina     False\n",
              "4    19.0    Colombia  ...       Peru     False\n",
              "\n",
              "[5 rows x 21 columns]"
            ]
          },
          "metadata": {
            "tags": []
          },
          "execution_count": 36
        }
      ]
    },
    {
      "cell_type": "code",
      "metadata": {
        "colab": {
          "base_uri": "https://localhost:8080/"
        },
        "id": "4iDnX1p34G8T",
        "outputId": "65a1af59-829e-42e5-e44a-8761f340035c"
      },
      "source": [
        "#Check for null values\n",
        "df.isnull().sum()"
      ],
      "execution_count": 37,
      "outputs": [
        {
          "output_type": "execute_result",
          "data": {
            "text/plain": [
              "rank_x             0\n",
              "home_team_x        0\n",
              "rank_change_x      0\n",
              "confederation_x    0\n",
              "year               0\n",
              "month              0\n",
              "away_team          0\n",
              "home_score_x       0\n",
              "away_score_x       0\n",
              "tournament_x       0\n",
              "country_x          0\n",
              "neutral_x          0\n",
              "rank_y             0\n",
              "rank_change_y      0\n",
              "confederation_y    0\n",
              "home_team_y        0\n",
              "home_score_y       0\n",
              "away_score_y       0\n",
              "tournament_y       0\n",
              "country_y          0\n",
              "neutral_y          0\n",
              "dtype: int64"
            ]
          },
          "metadata": {
            "tags": []
          },
          "execution_count": 37
        }
      ]
    },
    {
      "cell_type": "code",
      "metadata": {
        "colab": {
          "base_uri": "https://localhost:8080/"
        },
        "id": "0NTjVtaJ4G8T",
        "outputId": "0b06a59f-0fa7-4684-c630-c10557153557"
      },
      "source": [
        "#Check the shape\n",
        "df.shape"
      ],
      "execution_count": 38,
      "outputs": [
        {
          "output_type": "execute_result",
          "data": {
            "text/plain": [
              "(28439, 21)"
            ]
          },
          "metadata": {
            "tags": []
          },
          "execution_count": 38
        }
      ]
    },
    {
      "cell_type": "code",
      "metadata": {
        "colab": {
          "base_uri": "https://localhost:8080/",
          "height": 0
        },
        "id": "3X8hBJUGCEiH",
        "outputId": "4848ab06-05a0-4101-d0fe-307c3d3151ae"
      },
      "source": [
        "# let us rename our columns\n",
        "df.rename(columns={'home_team_x':'home_team',\n",
        "                   'rank_change_x':'rank_change',\n",
        "                   'confederation_x':'confederation',\n",
        "                   'home_score_x':'home_score',\n",
        "                   'away_score_x':'away_score',\n",
        "                   'tournament_x':'tournament',\n",
        "                   'neutral_x':'neutral',\n",
        "                   'rank_x':'home_rank',\n",
        "                   'rank_y':'away_rank'},\n",
        "                   inplace=True)\n",
        "df.head()"
      ],
      "execution_count": 39,
      "outputs": [
        {
          "output_type": "execute_result",
          "data": {
            "text/html": [
              "<div>\n",
              "<style scoped>\n",
              "    .dataframe tbody tr th:only-of-type {\n",
              "        vertical-align: middle;\n",
              "    }\n",
              "\n",
              "    .dataframe tbody tr th {\n",
              "        vertical-align: top;\n",
              "    }\n",
              "\n",
              "    .dataframe thead th {\n",
              "        text-align: right;\n",
              "    }\n",
              "</style>\n",
              "<table border=\"1\" class=\"dataframe\">\n",
              "  <thead>\n",
              "    <tr style=\"text-align: right;\">\n",
              "      <th></th>\n",
              "      <th>home_rank</th>\n",
              "      <th>home_team</th>\n",
              "      <th>rank_change</th>\n",
              "      <th>confederation</th>\n",
              "      <th>year</th>\n",
              "      <th>month</th>\n",
              "      <th>away_team</th>\n",
              "      <th>home_score</th>\n",
              "      <th>away_score</th>\n",
              "      <th>tournament</th>\n",
              "      <th>country_x</th>\n",
              "      <th>neutral</th>\n",
              "      <th>away_rank</th>\n",
              "      <th>rank_change_y</th>\n",
              "      <th>confederation_y</th>\n",
              "      <th>home_team_y</th>\n",
              "      <th>home_score_y</th>\n",
              "      <th>away_score_y</th>\n",
              "      <th>tournament_y</th>\n",
              "      <th>country_y</th>\n",
              "      <th>neutral_y</th>\n",
              "    </tr>\n",
              "  </thead>\n",
              "  <tbody>\n",
              "    <tr>\n",
              "      <th>0</th>\n",
              "      <td>19.0</td>\n",
              "      <td>Colombia</td>\n",
              "      <td>16.0</td>\n",
              "      <td>CONMEBOL</td>\n",
              "      <td>1993</td>\n",
              "      <td>8</td>\n",
              "      <td>Paraguay</td>\n",
              "      <td>0</td>\n",
              "      <td>0</td>\n",
              "      <td>FIFA World Cup qualification</td>\n",
              "      <td>Colombia</td>\n",
              "      <td>False</td>\n",
              "      <td>67.0</td>\n",
              "      <td>1.0</td>\n",
              "      <td>CONMEBOL</td>\n",
              "      <td>Colombia</td>\n",
              "      <td>0</td>\n",
              "      <td>0</td>\n",
              "      <td>FIFA World Cup qualification</td>\n",
              "      <td>Colombia</td>\n",
              "      <td>False</td>\n",
              "    </tr>\n",
              "    <tr>\n",
              "      <th>1</th>\n",
              "      <td>19.0</td>\n",
              "      <td>Colombia</td>\n",
              "      <td>16.0</td>\n",
              "      <td>CONMEBOL</td>\n",
              "      <td>1993</td>\n",
              "      <td>8</td>\n",
              "      <td>Paraguay</td>\n",
              "      <td>0</td>\n",
              "      <td>0</td>\n",
              "      <td>FIFA World Cup qualification</td>\n",
              "      <td>Colombia</td>\n",
              "      <td>False</td>\n",
              "      <td>67.0</td>\n",
              "      <td>1.0</td>\n",
              "      <td>CONMEBOL</td>\n",
              "      <td>Argentina</td>\n",
              "      <td>0</td>\n",
              "      <td>0</td>\n",
              "      <td>FIFA World Cup qualification</td>\n",
              "      <td>Argentina</td>\n",
              "      <td>False</td>\n",
              "    </tr>\n",
              "    <tr>\n",
              "      <th>2</th>\n",
              "      <td>5.0</td>\n",
              "      <td>Argentina</td>\n",
              "      <td>5.0</td>\n",
              "      <td>CONMEBOL</td>\n",
              "      <td>1993</td>\n",
              "      <td>8</td>\n",
              "      <td>Paraguay</td>\n",
              "      <td>0</td>\n",
              "      <td>0</td>\n",
              "      <td>FIFA World Cup qualification</td>\n",
              "      <td>Argentina</td>\n",
              "      <td>False</td>\n",
              "      <td>67.0</td>\n",
              "      <td>1.0</td>\n",
              "      <td>CONMEBOL</td>\n",
              "      <td>Colombia</td>\n",
              "      <td>0</td>\n",
              "      <td>0</td>\n",
              "      <td>FIFA World Cup qualification</td>\n",
              "      <td>Colombia</td>\n",
              "      <td>False</td>\n",
              "    </tr>\n",
              "    <tr>\n",
              "      <th>3</th>\n",
              "      <td>5.0</td>\n",
              "      <td>Argentina</td>\n",
              "      <td>5.0</td>\n",
              "      <td>CONMEBOL</td>\n",
              "      <td>1993</td>\n",
              "      <td>8</td>\n",
              "      <td>Paraguay</td>\n",
              "      <td>0</td>\n",
              "      <td>0</td>\n",
              "      <td>FIFA World Cup qualification</td>\n",
              "      <td>Argentina</td>\n",
              "      <td>False</td>\n",
              "      <td>67.0</td>\n",
              "      <td>1.0</td>\n",
              "      <td>CONMEBOL</td>\n",
              "      <td>Argentina</td>\n",
              "      <td>0</td>\n",
              "      <td>0</td>\n",
              "      <td>FIFA World Cup qualification</td>\n",
              "      <td>Argentina</td>\n",
              "      <td>False</td>\n",
              "    </tr>\n",
              "    <tr>\n",
              "      <th>4</th>\n",
              "      <td>19.0</td>\n",
              "      <td>Colombia</td>\n",
              "      <td>16.0</td>\n",
              "      <td>CONMEBOL</td>\n",
              "      <td>1993</td>\n",
              "      <td>8</td>\n",
              "      <td>Argentina</td>\n",
              "      <td>2</td>\n",
              "      <td>1</td>\n",
              "      <td>FIFA World Cup qualification</td>\n",
              "      <td>Colombia</td>\n",
              "      <td>False</td>\n",
              "      <td>5.0</td>\n",
              "      <td>5.0</td>\n",
              "      <td>CONMEBOL</td>\n",
              "      <td>Peru</td>\n",
              "      <td>0</td>\n",
              "      <td>1</td>\n",
              "      <td>FIFA World Cup qualification</td>\n",
              "      <td>Peru</td>\n",
              "      <td>False</td>\n",
              "    </tr>\n",
              "  </tbody>\n",
              "</table>\n",
              "</div>"
            ],
            "text/plain": [
              "   home_rank  home_team  ...  country_y neutral_y\n",
              "0       19.0   Colombia  ...   Colombia     False\n",
              "1       19.0   Colombia  ...  Argentina     False\n",
              "2        5.0  Argentina  ...   Colombia     False\n",
              "3        5.0  Argentina  ...  Argentina     False\n",
              "4       19.0   Colombia  ...       Peru     False\n",
              "\n",
              "[5 rows x 21 columns]"
            ]
          },
          "metadata": {
            "tags": []
          },
          "execution_count": 39
        }
      ]
    },
    {
      "cell_type": "code",
      "metadata": {
        "colab": {
          "base_uri": "https://localhost:8080/",
          "height": 0
        },
        "id": "_4Dvojl3Celh",
        "outputId": "3edabce5-9f85-47b9-d1d1-b40a4c131c30"
      },
      "source": [
        "# Drop irrelevant columns\n",
        "df.drop(columns= ['country_x','rank_change_y','confederation_y', 'home_team_y','home_score_y','away_score_y','tournament_y','country_y','neutral_y'], inplace=True)\n",
        "df.head()"
      ],
      "execution_count": 40,
      "outputs": [
        {
          "output_type": "execute_result",
          "data": {
            "text/html": [
              "<div>\n",
              "<style scoped>\n",
              "    .dataframe tbody tr th:only-of-type {\n",
              "        vertical-align: middle;\n",
              "    }\n",
              "\n",
              "    .dataframe tbody tr th {\n",
              "        vertical-align: top;\n",
              "    }\n",
              "\n",
              "    .dataframe thead th {\n",
              "        text-align: right;\n",
              "    }\n",
              "</style>\n",
              "<table border=\"1\" class=\"dataframe\">\n",
              "  <thead>\n",
              "    <tr style=\"text-align: right;\">\n",
              "      <th></th>\n",
              "      <th>home_rank</th>\n",
              "      <th>home_team</th>\n",
              "      <th>rank_change</th>\n",
              "      <th>confederation</th>\n",
              "      <th>year</th>\n",
              "      <th>month</th>\n",
              "      <th>away_team</th>\n",
              "      <th>home_score</th>\n",
              "      <th>away_score</th>\n",
              "      <th>tournament</th>\n",
              "      <th>neutral</th>\n",
              "      <th>away_rank</th>\n",
              "    </tr>\n",
              "  </thead>\n",
              "  <tbody>\n",
              "    <tr>\n",
              "      <th>0</th>\n",
              "      <td>19.0</td>\n",
              "      <td>Colombia</td>\n",
              "      <td>16.0</td>\n",
              "      <td>CONMEBOL</td>\n",
              "      <td>1993</td>\n",
              "      <td>8</td>\n",
              "      <td>Paraguay</td>\n",
              "      <td>0</td>\n",
              "      <td>0</td>\n",
              "      <td>FIFA World Cup qualification</td>\n",
              "      <td>False</td>\n",
              "      <td>67.0</td>\n",
              "    </tr>\n",
              "    <tr>\n",
              "      <th>1</th>\n",
              "      <td>19.0</td>\n",
              "      <td>Colombia</td>\n",
              "      <td>16.0</td>\n",
              "      <td>CONMEBOL</td>\n",
              "      <td>1993</td>\n",
              "      <td>8</td>\n",
              "      <td>Paraguay</td>\n",
              "      <td>0</td>\n",
              "      <td>0</td>\n",
              "      <td>FIFA World Cup qualification</td>\n",
              "      <td>False</td>\n",
              "      <td>67.0</td>\n",
              "    </tr>\n",
              "    <tr>\n",
              "      <th>2</th>\n",
              "      <td>5.0</td>\n",
              "      <td>Argentina</td>\n",
              "      <td>5.0</td>\n",
              "      <td>CONMEBOL</td>\n",
              "      <td>1993</td>\n",
              "      <td>8</td>\n",
              "      <td>Paraguay</td>\n",
              "      <td>0</td>\n",
              "      <td>0</td>\n",
              "      <td>FIFA World Cup qualification</td>\n",
              "      <td>False</td>\n",
              "      <td>67.0</td>\n",
              "    </tr>\n",
              "    <tr>\n",
              "      <th>3</th>\n",
              "      <td>5.0</td>\n",
              "      <td>Argentina</td>\n",
              "      <td>5.0</td>\n",
              "      <td>CONMEBOL</td>\n",
              "      <td>1993</td>\n",
              "      <td>8</td>\n",
              "      <td>Paraguay</td>\n",
              "      <td>0</td>\n",
              "      <td>0</td>\n",
              "      <td>FIFA World Cup qualification</td>\n",
              "      <td>False</td>\n",
              "      <td>67.0</td>\n",
              "    </tr>\n",
              "    <tr>\n",
              "      <th>4</th>\n",
              "      <td>19.0</td>\n",
              "      <td>Colombia</td>\n",
              "      <td>16.0</td>\n",
              "      <td>CONMEBOL</td>\n",
              "      <td>1993</td>\n",
              "      <td>8</td>\n",
              "      <td>Argentina</td>\n",
              "      <td>2</td>\n",
              "      <td>1</td>\n",
              "      <td>FIFA World Cup qualification</td>\n",
              "      <td>False</td>\n",
              "      <td>5.0</td>\n",
              "    </tr>\n",
              "  </tbody>\n",
              "</table>\n",
              "</div>"
            ],
            "text/plain": [
              "   home_rank  home_team  ...  neutral away_rank\n",
              "0       19.0   Colombia  ...    False      67.0\n",
              "1       19.0   Colombia  ...    False      67.0\n",
              "2        5.0  Argentina  ...    False      67.0\n",
              "3        5.0  Argentina  ...    False      67.0\n",
              "4       19.0   Colombia  ...    False       5.0\n",
              "\n",
              "[5 rows x 12 columns]"
            ]
          },
          "metadata": {
            "tags": []
          },
          "execution_count": 40
        }
      ]
    },
    {
      "cell_type": "code",
      "metadata": {
        "colab": {
          "base_uri": "https://localhost:8080/"
        },
        "id": "946JCvFsCSvZ",
        "outputId": "932469ee-7379-45d2-9343-e4f942bc01c3"
      },
      "source": [
        "df.shape"
      ],
      "execution_count": 41,
      "outputs": [
        {
          "output_type": "execute_result",
          "data": {
            "text/plain": [
              "(28439, 12)"
            ]
          },
          "metadata": {
            "tags": []
          },
          "execution_count": 41
        }
      ]
    },
    {
      "cell_type": "markdown",
      "metadata": {
        "id": "OpD7jUPl71u2"
      },
      "source": [
        "## Features Engineering"
      ]
    },
    {
      "cell_type": "code",
      "metadata": {
        "colab": {
          "base_uri": "https://localhost:8080/",
          "height": 0
        },
        "id": "51swbci771u3",
        "outputId": "7a1595fd-45b2-4e48-cd64-012764877a0f"
      },
      "source": [
        "#Lets create a columns to hold the status of team; either a win, loss or draw\n",
        "df['goal_diff']=df['home_score']-df['away_score']\n",
        "df.head()"
      ],
      "execution_count": 42,
      "outputs": [
        {
          "output_type": "execute_result",
          "data": {
            "text/html": [
              "<div>\n",
              "<style scoped>\n",
              "    .dataframe tbody tr th:only-of-type {\n",
              "        vertical-align: middle;\n",
              "    }\n",
              "\n",
              "    .dataframe tbody tr th {\n",
              "        vertical-align: top;\n",
              "    }\n",
              "\n",
              "    .dataframe thead th {\n",
              "        text-align: right;\n",
              "    }\n",
              "</style>\n",
              "<table border=\"1\" class=\"dataframe\">\n",
              "  <thead>\n",
              "    <tr style=\"text-align: right;\">\n",
              "      <th></th>\n",
              "      <th>home_rank</th>\n",
              "      <th>home_team</th>\n",
              "      <th>rank_change</th>\n",
              "      <th>confederation</th>\n",
              "      <th>year</th>\n",
              "      <th>month</th>\n",
              "      <th>away_team</th>\n",
              "      <th>home_score</th>\n",
              "      <th>away_score</th>\n",
              "      <th>tournament</th>\n",
              "      <th>neutral</th>\n",
              "      <th>away_rank</th>\n",
              "      <th>goal_diff</th>\n",
              "    </tr>\n",
              "  </thead>\n",
              "  <tbody>\n",
              "    <tr>\n",
              "      <th>0</th>\n",
              "      <td>19.0</td>\n",
              "      <td>Colombia</td>\n",
              "      <td>16.0</td>\n",
              "      <td>CONMEBOL</td>\n",
              "      <td>1993</td>\n",
              "      <td>8</td>\n",
              "      <td>Paraguay</td>\n",
              "      <td>0</td>\n",
              "      <td>0</td>\n",
              "      <td>FIFA World Cup qualification</td>\n",
              "      <td>False</td>\n",
              "      <td>67.0</td>\n",
              "      <td>0</td>\n",
              "    </tr>\n",
              "    <tr>\n",
              "      <th>1</th>\n",
              "      <td>19.0</td>\n",
              "      <td>Colombia</td>\n",
              "      <td>16.0</td>\n",
              "      <td>CONMEBOL</td>\n",
              "      <td>1993</td>\n",
              "      <td>8</td>\n",
              "      <td>Paraguay</td>\n",
              "      <td>0</td>\n",
              "      <td>0</td>\n",
              "      <td>FIFA World Cup qualification</td>\n",
              "      <td>False</td>\n",
              "      <td>67.0</td>\n",
              "      <td>0</td>\n",
              "    </tr>\n",
              "    <tr>\n",
              "      <th>2</th>\n",
              "      <td>5.0</td>\n",
              "      <td>Argentina</td>\n",
              "      <td>5.0</td>\n",
              "      <td>CONMEBOL</td>\n",
              "      <td>1993</td>\n",
              "      <td>8</td>\n",
              "      <td>Paraguay</td>\n",
              "      <td>0</td>\n",
              "      <td>0</td>\n",
              "      <td>FIFA World Cup qualification</td>\n",
              "      <td>False</td>\n",
              "      <td>67.0</td>\n",
              "      <td>0</td>\n",
              "    </tr>\n",
              "    <tr>\n",
              "      <th>3</th>\n",
              "      <td>5.0</td>\n",
              "      <td>Argentina</td>\n",
              "      <td>5.0</td>\n",
              "      <td>CONMEBOL</td>\n",
              "      <td>1993</td>\n",
              "      <td>8</td>\n",
              "      <td>Paraguay</td>\n",
              "      <td>0</td>\n",
              "      <td>0</td>\n",
              "      <td>FIFA World Cup qualification</td>\n",
              "      <td>False</td>\n",
              "      <td>67.0</td>\n",
              "      <td>0</td>\n",
              "    </tr>\n",
              "    <tr>\n",
              "      <th>4</th>\n",
              "      <td>19.0</td>\n",
              "      <td>Colombia</td>\n",
              "      <td>16.0</td>\n",
              "      <td>CONMEBOL</td>\n",
              "      <td>1993</td>\n",
              "      <td>8</td>\n",
              "      <td>Argentina</td>\n",
              "      <td>2</td>\n",
              "      <td>1</td>\n",
              "      <td>FIFA World Cup qualification</td>\n",
              "      <td>False</td>\n",
              "      <td>5.0</td>\n",
              "      <td>1</td>\n",
              "    </tr>\n",
              "  </tbody>\n",
              "</table>\n",
              "</div>"
            ],
            "text/plain": [
              "   home_rank  home_team  rank_change  ... neutral  away_rank  goal_diff\n",
              "0       19.0   Colombia         16.0  ...   False       67.0          0\n",
              "1       19.0   Colombia         16.0  ...   False       67.0          0\n",
              "2        5.0  Argentina          5.0  ...   False       67.0          0\n",
              "3        5.0  Argentina          5.0  ...   False       67.0          0\n",
              "4       19.0   Colombia         16.0  ...   False        5.0          1\n",
              "\n",
              "[5 rows x 13 columns]"
            ]
          },
          "metadata": {
            "tags": []
          },
          "execution_count": 42
        }
      ]
    },
    {
      "cell_type": "code",
      "metadata": {
        "colab": {
          "base_uri": "https://localhost:8080/",
          "height": 0
        },
        "id": "uAF2odXiMKxQ",
        "outputId": "679d332f-6039-4622-cfd1-e390e07c7bad"
      },
      "source": [
        "#win, loss, draw\n",
        "status=[]\n",
        "for i in df['goal_diff']:\n",
        "  if i > 0:\n",
        "    status.append('win')\n",
        "  elif i==0:\n",
        "    status.append('draw')\n",
        "  else:\n",
        "    status.append('loss')\n",
        "\n",
        "df['status']= status\n",
        "df.head()"
      ],
      "execution_count": 43,
      "outputs": [
        {
          "output_type": "execute_result",
          "data": {
            "text/html": [
              "<div>\n",
              "<style scoped>\n",
              "    .dataframe tbody tr th:only-of-type {\n",
              "        vertical-align: middle;\n",
              "    }\n",
              "\n",
              "    .dataframe tbody tr th {\n",
              "        vertical-align: top;\n",
              "    }\n",
              "\n",
              "    .dataframe thead th {\n",
              "        text-align: right;\n",
              "    }\n",
              "</style>\n",
              "<table border=\"1\" class=\"dataframe\">\n",
              "  <thead>\n",
              "    <tr style=\"text-align: right;\">\n",
              "      <th></th>\n",
              "      <th>home_rank</th>\n",
              "      <th>home_team</th>\n",
              "      <th>rank_change</th>\n",
              "      <th>confederation</th>\n",
              "      <th>year</th>\n",
              "      <th>month</th>\n",
              "      <th>away_team</th>\n",
              "      <th>home_score</th>\n",
              "      <th>away_score</th>\n",
              "      <th>tournament</th>\n",
              "      <th>neutral</th>\n",
              "      <th>away_rank</th>\n",
              "      <th>goal_diff</th>\n",
              "      <th>status</th>\n",
              "    </tr>\n",
              "  </thead>\n",
              "  <tbody>\n",
              "    <tr>\n",
              "      <th>0</th>\n",
              "      <td>19.0</td>\n",
              "      <td>Colombia</td>\n",
              "      <td>16.0</td>\n",
              "      <td>CONMEBOL</td>\n",
              "      <td>1993</td>\n",
              "      <td>8</td>\n",
              "      <td>Paraguay</td>\n",
              "      <td>0</td>\n",
              "      <td>0</td>\n",
              "      <td>FIFA World Cup qualification</td>\n",
              "      <td>False</td>\n",
              "      <td>67.0</td>\n",
              "      <td>0</td>\n",
              "      <td>draw</td>\n",
              "    </tr>\n",
              "    <tr>\n",
              "      <th>1</th>\n",
              "      <td>19.0</td>\n",
              "      <td>Colombia</td>\n",
              "      <td>16.0</td>\n",
              "      <td>CONMEBOL</td>\n",
              "      <td>1993</td>\n",
              "      <td>8</td>\n",
              "      <td>Paraguay</td>\n",
              "      <td>0</td>\n",
              "      <td>0</td>\n",
              "      <td>FIFA World Cup qualification</td>\n",
              "      <td>False</td>\n",
              "      <td>67.0</td>\n",
              "      <td>0</td>\n",
              "      <td>draw</td>\n",
              "    </tr>\n",
              "    <tr>\n",
              "      <th>2</th>\n",
              "      <td>5.0</td>\n",
              "      <td>Argentina</td>\n",
              "      <td>5.0</td>\n",
              "      <td>CONMEBOL</td>\n",
              "      <td>1993</td>\n",
              "      <td>8</td>\n",
              "      <td>Paraguay</td>\n",
              "      <td>0</td>\n",
              "      <td>0</td>\n",
              "      <td>FIFA World Cup qualification</td>\n",
              "      <td>False</td>\n",
              "      <td>67.0</td>\n",
              "      <td>0</td>\n",
              "      <td>draw</td>\n",
              "    </tr>\n",
              "    <tr>\n",
              "      <th>3</th>\n",
              "      <td>5.0</td>\n",
              "      <td>Argentina</td>\n",
              "      <td>5.0</td>\n",
              "      <td>CONMEBOL</td>\n",
              "      <td>1993</td>\n",
              "      <td>8</td>\n",
              "      <td>Paraguay</td>\n",
              "      <td>0</td>\n",
              "      <td>0</td>\n",
              "      <td>FIFA World Cup qualification</td>\n",
              "      <td>False</td>\n",
              "      <td>67.0</td>\n",
              "      <td>0</td>\n",
              "      <td>draw</td>\n",
              "    </tr>\n",
              "    <tr>\n",
              "      <th>4</th>\n",
              "      <td>19.0</td>\n",
              "      <td>Colombia</td>\n",
              "      <td>16.0</td>\n",
              "      <td>CONMEBOL</td>\n",
              "      <td>1993</td>\n",
              "      <td>8</td>\n",
              "      <td>Argentina</td>\n",
              "      <td>2</td>\n",
              "      <td>1</td>\n",
              "      <td>FIFA World Cup qualification</td>\n",
              "      <td>False</td>\n",
              "      <td>5.0</td>\n",
              "      <td>1</td>\n",
              "      <td>win</td>\n",
              "    </tr>\n",
              "  </tbody>\n",
              "</table>\n",
              "</div>"
            ],
            "text/plain": [
              "   home_rank  home_team  rank_change  ... away_rank  goal_diff  status\n",
              "0       19.0   Colombia         16.0  ...      67.0          0    draw\n",
              "1       19.0   Colombia         16.0  ...      67.0          0    draw\n",
              "2        5.0  Argentina          5.0  ...      67.0          0    draw\n",
              "3        5.0  Argentina          5.0  ...      67.0          0    draw\n",
              "4       19.0   Colombia         16.0  ...       5.0          1     win\n",
              "\n",
              "[5 rows x 14 columns]"
            ]
          },
          "metadata": {
            "tags": []
          },
          "execution_count": 43
        }
      ]
    },
    {
      "cell_type": "code",
      "metadata": {
        "colab": {
          "base_uri": "https://localhost:8080/"
        },
        "id": "uBFe59uvMNFO",
        "outputId": "9eb3a8d6-a5c6-46aa-ced0-1e89116be73f"
      },
      "source": [
        "#Redifining the tournaments variables\n",
        "df.tournament.unique()"
      ],
      "execution_count": 44,
      "outputs": [
        {
          "output_type": "execute_result",
          "data": {
            "text/plain": [
              "array(['FIFA World Cup qualification', 'Friendly',\n",
              "       'African Cup of Nations qualification', 'Amílcar Cabral Cup',\n",
              "       'United Arab Emirates Friendship Tournament',\n",
              "       'Malta International Tournament',\n",
              "       'CFU Caribbean Cup qualification', 'African Cup of Nations',\n",
              "       'CFU Caribbean Cup', 'UEFA Euro qualification', 'Kirin Cup',\n",
              "       'FIFA World Cup', 'Oceania Nations Cup qualification',\n",
              "       'Baltic Cup', 'Gulf Cup', 'Simba Tournament', 'CECAFA Cup',\n",
              "       'Dynasty Cup', \"King's Cup\", 'SAFF Cup', 'Copa Paz del Chaco',\n",
              "       'Korea Cup', 'USA Cup', 'Copa América', 'Merdeka Tournament',\n",
              "       'South Pacific Games', 'UNCAF Cup', 'Oceania Nations Cup',\n",
              "       'Windward Islands Tournament', 'AFC Asian Cup qualification',\n",
              "       'Gold Cup', 'Lunar New Year Cup', 'AFF Championship',\n",
              "       'AFC Asian Cup', 'King Hassan II Tournament', 'Dunhill Cup',\n",
              "       'Cyprus International Tournament', 'Nehru Cup', 'COSAFA Cup',\n",
              "       'Tournoi de France', 'Confederations Cup', 'UAFA Cup',\n",
              "       'Gold Cup qualification', 'UNIFFAC Cup', 'Nordic Championship',\n",
              "       'WAFF Championship', 'UEFA Euro', 'Millennium Cup',\n",
              "       \"Prime Minister's Cup\", 'SKN Football Festival',\n",
              "       'EAFF Championship', 'AFC Challenge Cup', 'Copa del Pacífico',\n",
              "       'UAFA Cup qualification', 'AFC Challenge Cup qualification',\n",
              "       'African Nations Championship', 'VFF Cup', 'Dragon Cup',\n",
              "       'Nile Basin Tournament', 'Nations Cup', 'Pacific Games',\n",
              "       'ABCS Tournament', 'OSN Cup', 'Copa América qualification',\n",
              "       'Intercontinental Cup'], dtype=object)"
            ]
          },
          "metadata": {
            "tags": []
          },
          "execution_count": 44
        }
      ]
    },
    {
      "cell_type": "code",
      "metadata": {
        "colab": {
          "base_uri": "https://localhost:8080/"
        },
        "id": "OlxMRKywMqa_",
        "outputId": "80b89569-6d93-4235-e46c-5d9ac9baa9e5"
      },
      "source": [
        "#We shall only pick variables of world cup and friendly and name the rest as others\n",
        "def tournment_type(i):\n",
        "  if i == 'FIFA World Cup':\n",
        "    return 'World Cup'\n",
        "  elif i == 'Friendly':\n",
        "    return 'Friendly'\n",
        "  else:\n",
        "    return 'Other'\n",
        "\n",
        "df['tournament'] = df.tournament.apply(lambda x: tournment_type(x))\n",
        "#Check for unique \n",
        "df.tournament.unique()"
      ],
      "execution_count": 45,
      "outputs": [
        {
          "output_type": "execute_result",
          "data": {
            "text/plain": [
              "array(['Other', 'Friendly', 'World Cup'], dtype=object)"
            ]
          },
          "metadata": {
            "tags": []
          },
          "execution_count": 45
        }
      ]
    },
    {
      "cell_type": "markdown",
      "metadata": {
        "id": "NJVm6w_7NeLS"
      },
      "source": [
        "## Exporting our clean data"
      ]
    },
    {
      "cell_type": "code",
      "metadata": {
        "id": "L6UFkeIbNeLm"
      },
      "source": [
        "df.to_csv('fifarank.csv')"
      ],
      "execution_count": 46,
      "outputs": []
    },
    {
      "cell_type": "markdown",
      "metadata": {
        "id": "ZpvBoNRcNvsp"
      },
      "source": [
        "## Exploratory Data Analysis"
      ]
    },
    {
      "cell_type": "markdown",
      "metadata": {
        "id": "awsuNuhrN97G"
      },
      "source": [
        "### Univariate Analysis"
      ]
    },
    {
      "cell_type": "code",
      "metadata": {
        "colab": {
          "base_uri": "https://localhost:8080/",
          "height": 0
        },
        "id": "NMc_cSlKNvsq",
        "outputId": "052b8a99-09a8-4750-d50c-303f6bd0fdfa"
      },
      "source": [
        "#We shall visulize the statistical summaries of our data\n",
        "df.describe()"
      ],
      "execution_count": 47,
      "outputs": [
        {
          "output_type": "execute_result",
          "data": {
            "text/html": [
              "<div>\n",
              "<style scoped>\n",
              "    .dataframe tbody tr th:only-of-type {\n",
              "        vertical-align: middle;\n",
              "    }\n",
              "\n",
              "    .dataframe tbody tr th {\n",
              "        vertical-align: top;\n",
              "    }\n",
              "\n",
              "    .dataframe thead th {\n",
              "        text-align: right;\n",
              "    }\n",
              "</style>\n",
              "<table border=\"1\" class=\"dataframe\">\n",
              "  <thead>\n",
              "    <tr style=\"text-align: right;\">\n",
              "      <th></th>\n",
              "      <th>home_rank</th>\n",
              "      <th>rank_change</th>\n",
              "      <th>year</th>\n",
              "      <th>month</th>\n",
              "      <th>home_score</th>\n",
              "      <th>away_score</th>\n",
              "      <th>away_rank</th>\n",
              "      <th>goal_diff</th>\n",
              "    </tr>\n",
              "  </thead>\n",
              "  <tbody>\n",
              "    <tr>\n",
              "      <th>count</th>\n",
              "      <td>28439.000000</td>\n",
              "      <td>28439.000000</td>\n",
              "      <td>28439.000000</td>\n",
              "      <td>28439.000000</td>\n",
              "      <td>28439.000000</td>\n",
              "      <td>28439.000000</td>\n",
              "      <td>28439.000000</td>\n",
              "      <td>28439.000000</td>\n",
              "    </tr>\n",
              "    <tr>\n",
              "      <th>mean</th>\n",
              "      <td>78.387813</td>\n",
              "      <td>1.106052</td>\n",
              "      <td>2006.179437</td>\n",
              "      <td>6.720841</td>\n",
              "      <td>1.596821</td>\n",
              "      <td>1.101445</td>\n",
              "      <td>81.409192</td>\n",
              "      <td>0.495376</td>\n",
              "    </tr>\n",
              "    <tr>\n",
              "      <th>std</th>\n",
              "      <td>51.097232</td>\n",
              "      <td>7.029156</td>\n",
              "      <td>6.844128</td>\n",
              "      <td>3.357881</td>\n",
              "      <td>1.635258</td>\n",
              "      <td>1.279389</td>\n",
              "      <td>52.575171</td>\n",
              "      <td>2.232646</td>\n",
              "    </tr>\n",
              "    <tr>\n",
              "      <th>min</th>\n",
              "      <td>1.000000</td>\n",
              "      <td>-62.000000</td>\n",
              "      <td>1993.000000</td>\n",
              "      <td>1.000000</td>\n",
              "      <td>0.000000</td>\n",
              "      <td>0.000000</td>\n",
              "      <td>1.000000</td>\n",
              "      <td>-15.000000</td>\n",
              "    </tr>\n",
              "    <tr>\n",
              "      <th>25%</th>\n",
              "      <td>35.000000</td>\n",
              "      <td>-2.000000</td>\n",
              "      <td>2000.000000</td>\n",
              "      <td>4.000000</td>\n",
              "      <td>0.000000</td>\n",
              "      <td>0.000000</td>\n",
              "      <td>38.000000</td>\n",
              "      <td>-1.000000</td>\n",
              "    </tr>\n",
              "    <tr>\n",
              "      <th>50%</th>\n",
              "      <td>73.000000</td>\n",
              "      <td>0.000000</td>\n",
              "      <td>2006.000000</td>\n",
              "      <td>6.000000</td>\n",
              "      <td>1.000000</td>\n",
              "      <td>1.000000</td>\n",
              "      <td>76.000000</td>\n",
              "      <td>0.000000</td>\n",
              "    </tr>\n",
              "    <tr>\n",
              "      <th>75%</th>\n",
              "      <td>114.000000</td>\n",
              "      <td>3.000000</td>\n",
              "      <td>2012.000000</td>\n",
              "      <td>10.000000</td>\n",
              "      <td>2.000000</td>\n",
              "      <td>2.000000</td>\n",
              "      <td>119.000000</td>\n",
              "      <td>2.000000</td>\n",
              "    </tr>\n",
              "    <tr>\n",
              "      <th>max</th>\n",
              "      <td>209.000000</td>\n",
              "      <td>73.000000</td>\n",
              "      <td>2018.000000</td>\n",
              "      <td>12.000000</td>\n",
              "      <td>31.000000</td>\n",
              "      <td>15.000000</td>\n",
              "      <td>209.000000</td>\n",
              "      <td>31.000000</td>\n",
              "    </tr>\n",
              "  </tbody>\n",
              "</table>\n",
              "</div>"
            ],
            "text/plain": [
              "          home_rank   rank_change  ...     away_rank     goal_diff\n",
              "count  28439.000000  28439.000000  ...  28439.000000  28439.000000\n",
              "mean      78.387813      1.106052  ...     81.409192      0.495376\n",
              "std       51.097232      7.029156  ...     52.575171      2.232646\n",
              "min        1.000000    -62.000000  ...      1.000000    -15.000000\n",
              "25%       35.000000     -2.000000  ...     38.000000     -1.000000\n",
              "50%       73.000000      0.000000  ...     76.000000      0.000000\n",
              "75%      114.000000      3.000000  ...    119.000000      2.000000\n",
              "max      209.000000     73.000000  ...    209.000000     31.000000\n",
              "\n",
              "[8 rows x 8 columns]"
            ]
          },
          "metadata": {
            "tags": []
          },
          "execution_count": 47
        }
      ]
    },
    {
      "cell_type": "code",
      "metadata": {
        "colab": {
          "base_uri": "https://localhost:8080/"
        },
        "id": "bJxAIjEIOW4i",
        "outputId": "3274221f-1b8f-4903-a8e4-d9947e9f3d9c"
      },
      "source": [
        "df.columns"
      ],
      "execution_count": 48,
      "outputs": [
        {
          "output_type": "execute_result",
          "data": {
            "text/plain": [
              "Index(['home_rank', 'home_team', 'rank_change', 'confederation', 'year',\n",
              "       'month', 'away_team', 'home_score', 'away_score', 'tournament',\n",
              "       'neutral', 'away_rank', 'goal_diff', 'status'],\n",
              "      dtype='object')"
            ]
          },
          "metadata": {
            "tags": []
          },
          "execution_count": 48
        }
      ]
    },
    {
      "cell_type": "code",
      "metadata": {
        "colab": {
          "base_uri": "https://localhost:8080/",
          "height": 0
        },
        "id": "NBgtsk0sOfZJ",
        "outputId": "1b00a32b-e437-470b-d103-8d41d2f4b061"
      },
      "source": [
        "#Visulize how any games were played in neautral grounds\n",
        "sns.countplot(df['neutral'])\n",
        "#Most games were played in eaither home grounds or away grounds"
      ],
      "execution_count": 49,
      "outputs": [
        {
          "output_type": "execute_result",
          "data": {
            "text/plain": [
              "<matplotlib.axes._subplots.AxesSubplot at 0x7f1a9d30e650>"
            ]
          },
          "metadata": {
            "tags": []
          },
          "execution_count": 49
        },
        {
          "output_type": "display_data",
          "data": {
            "image/png": "[encoded data removed]",
            "text/plain": [
              "<Figure size 432x288 with 1 Axes>"
            ]
          },
          "metadata": {
            "tags": [],
            "needs_background": "light"
          }
        }
      ]
    },
    {
      "cell_type": "code",
      "metadata": {
        "colab": {
          "base_uri": "https://localhost:8080/",
          "height": 0
        },
        "id": "5SLqLIj0OoO9",
        "outputId": "73558836-f089-4de5-c6e3-5ddbd44f7c2d"
      },
      "source": [
        "#Visulize the how many games were world cup games\n",
        "df['tournament'].value_counts().plot(kind= 'pie', figsize=[6,6], autopct = '%1.1f%%')\n",
        "plt.title('A Pie chart of Tournaments played')"
      ],
      "execution_count": 50,
      "outputs": [
        {
          "output_type": "execute_result",
          "data": {
            "text/plain": [
              "Text(0.5, 1.0, 'A Pie chart of Tournaments played')"
            ]
          },
          "metadata": {
            "tags": []
          },
          "execution_count": 50
        },
        {
          "output_type": "display_data",
          "data": {
            "image/png": "[encoded data removed]",
            "text/plain": [
              "<Figure size 432x432 with 1 Axes>"
            ]
          },
          "metadata": {
            "tags": []
          }
        }
      ]
    },
    {
      "cell_type": "code",
      "metadata": {
        "colab": {
          "base_uri": "https://localhost:8080/",
          "height": 0
        },
        "id": "ZElCQ9lgRuYI",
        "outputId": "1155a227-aeab-47be-ba67-67466c4c7059"
      },
      "source": [
        "#Visulizing to Results\n",
        "df['status'].value_counts().plot(kind= 'pie', figsize=[7,7], autopct = '%1.1f%%')\n",
        "plt.title('A Pie chart of Results of the Match') \n",
        "# Most matches played ended up with wins(48.6%)"
      ],
      "execution_count": 51,
      "outputs": [
        {
          "output_type": "execute_result",
          "data": {
            "text/plain": [
              "Text(0.5, 1.0, 'A Pie chart of Results of the Match')"
            ]
          },
          "metadata": {
            "tags": []
          },
          "execution_count": 51
        },
        {
          "output_type": "display_data",
          "data": {
            "image/png": "[encoded data removed]",
            "text/plain": [
              "<Figure size 504x504 with 1 Axes>"
            ]
          },
          "metadata": {
            "tags": []
          }
        }
      ]
    },
    {
      "cell_type": "code",
      "metadata": {
        "colab": {
          "base_uri": "https://localhost:8080/",
          "height": 0
        },
        "id": "8LtDHfmnRvAu",
        "outputId": "a0c74cf3-7fc4-4679-a7d0-b121ec9af62d"
      },
      "source": [
        "# Bar graph showing confederations\n",
        "df.confederation.value_counts().head(10).plot.bar()\n",
        "plt.title('Confederations')\n",
        "# UEFA Confederations are the highest games in our dataset."
      ],
      "execution_count": 52,
      "outputs": [
        {
          "output_type": "execute_result",
          "data": {
            "text/plain": [
              "Text(0.5, 1.0, 'Confederations')"
            ]
          },
          "metadata": {
            "tags": []
          },
          "execution_count": 52
        },
        {
          "output_type": "display_data",
          "data": {
            "image/png": "[encoded data removed]",
            "text/plain": [
              "<Figure size 432x288 with 1 Axes>"
            ]
          },
          "metadata": {
            "tags": [],
            "needs_background": "light"
          }
        }
      ]
    },
    {
      "cell_type": "code",
      "metadata": {
        "colab": {
          "base_uri": "https://localhost:8080/",
          "height": 0
        },
        "id": "xaGtYvNuStVI",
        "outputId": "10ad282d-0507-483b-8137-08651d0eeca1"
      },
      "source": [
        "#Visulizing the distributions\n",
        "numerical=df.select_dtypes(include=['int64','Float64'])\n",
        "cols=numerical.columns\n",
        "\n",
        "#fig, axes = plt.subplots(2, 3, figsize=(18, 10))\n",
        "#fig.suptitle('Distribution of Numerical Data')\n",
        "for i in cols:\n",
        "  sns.displot(df[i])"
      ],
      "execution_count": 53,
      "outputs": [
        {
          "output_type": "display_data",
          "data": {
            "image/png": "[encoded data removed]",
            "text/plain": [
              "<Figure size 360x360 with 1 Axes>"
            ]
          },
          "metadata": {
            "tags": [],
            "needs_background": "light"
          }
        },
        {
          "output_type": "display_data",
          "data": {
            "image/png": "[encoded data removed]",
            "text/plain": [
              "<Figure size 360x360 with 1 Axes>"
            ]
          },
          "metadata": {
            "tags": [],
            "needs_background": "light"
          }
        },
        {
          "output_type": "display_data",
          "data": {
            "image/png": "[encoded data removed]",
            "text/plain": [
              "<Figure size 360x360 with 1 Axes>"
            ]
          },
          "metadata": {
            "tags": [],
            "needs_background": "light"
          }
        }
      ]
    },
    {
      "cell_type": "markdown",
      "metadata": {
        "id": "4WI-F1O2RYJM"
      },
      "source": [
        "### Bivarient Analysis"
      ]
    },
    {
      "cell_type": "code",
      "metadata": {
        "colab": {
          "base_uri": "https://localhost:8080/",
          "height": 0
        },
        "id": "z5XScEljVPeo",
        "outputId": "809461de-4564-4377-fdf4-2156fb86669e"
      },
      "source": [
        "#Check for correlation\n",
        "corr=df.corr()\n",
        "sns.heatmap(corr, annot=True)\n",
        "#There is correlation between columns in our dataset.\n",
        "# However, the correlation is not high except for home score and goal difference"
      ],
      "execution_count": 54,
      "outputs": [
        {
          "output_type": "execute_result",
          "data": {
            "text/plain": [
              "<matplotlib.axes._subplots.AxesSubplot at 0x7f1a935e0910>"
            ]
          },
          "metadata": {
            "tags": []
          },
          "execution_count": 54
        },
        {
          "output_type": "display_data",
          "data": {
            "image/png": "[encoded data removed]",
            "text/plain": [
              "<Figure size 432x288 with 2 Axes>"
            ]
          },
          "metadata": {
            "tags": [],
            "needs_background": "light"
          }
        }
      ]
    },
    {
      "cell_type": "code",
      "metadata": {
        "colab": {
          "base_uri": "https://localhost:8080/"
        },
        "id": "XsJp2tulPQlS",
        "outputId": "4d724661-9ce8-4c04-b06e-ba101b37d434"
      },
      "source": [
        "#Getting the year where more goals were scored by home teams\n",
        "df.groupby('year')['home_score'].sum().sort_values(ascending=False).head()\n",
        "#Most home goals were scored in 2001."
      ],
      "execution_count": 55,
      "outputs": [
        {
          "output_type": "execute_result",
          "data": {
            "text/plain": [
              "year\n",
              "2001    3028\n",
              "2000    2718\n",
              "2004    2464\n",
              "2008    2411\n",
              "2011    2116\n",
              "Name: home_score, dtype: int64"
            ]
          },
          "metadata": {
            "tags": []
          },
          "execution_count": 55
        }
      ]
    },
    {
      "cell_type": "code",
      "metadata": {
        "colab": {
          "base_uri": "https://localhost:8080/"
        },
        "id": "i6MOAoioRSQM",
        "outputId": "54b8b47f-d246-437f-8c42-96748d82c0fe"
      },
      "source": [
        "#Getting the year where more goals were scored by away teams\n",
        "df.groupby('year')['away_score'].sum().sort_values(ascending=False).head()\n",
        "#Most away goals were scored in 2004 followed by 2011."
      ],
      "execution_count": 56,
      "outputs": [
        {
          "output_type": "execute_result",
          "data": {
            "text/plain": [
              "year\n",
              "2004    1818\n",
              "2001    1777\n",
              "2007    1635\n",
              "2000    1618\n",
              "2008    1587\n",
              "Name: away_score, dtype: int64"
            ]
          },
          "metadata": {
            "tags": []
          },
          "execution_count": 56
        }
      ]
    },
    {
      "cell_type": "markdown",
      "metadata": {
        "id": "_PgLkoocW8jY"
      },
      "source": [
        "### Multivarient Analysis"
      ]
    },
    {
      "cell_type": "code",
      "metadata": {
        "colab": {
          "base_uri": "https://localhost:8080/",
          "height": 223
        },
        "id": "nPI5tmudXyb_",
        "outputId": "0cdac5ad-217e-44ff-f5e4-26110fec4e2d"
      },
      "source": [
        "df.head()"
      ],
      "execution_count": 57,
      "outputs": [
        {
          "output_type": "execute_result",
          "data": {
            "text/html": [
              "<div>\n",
              "<style scoped>\n",
              "    .dataframe tbody tr th:only-of-type {\n",
              "        vertical-align: middle;\n",
              "    }\n",
              "\n",
              "    .dataframe tbody tr th {\n",
              "        vertical-align: top;\n",
              "    }\n",
              "\n",
              "    .dataframe thead th {\n",
              "        text-align: right;\n",
              "    }\n",
              "</style>\n",
              "<table border=\"1\" class=\"dataframe\">\n",
              "  <thead>\n",
              "    <tr style=\"text-align: right;\">\n",
              "      <th></th>\n",
              "      <th>home_rank</th>\n",
              "      <th>home_team</th>\n",
              "      <th>rank_change</th>\n",
              "      <th>confederation</th>\n",
              "      <th>year</th>\n",
              "      <th>month</th>\n",
              "      <th>away_team</th>\n",
              "      <th>home_score</th>\n",
              "      <th>away_score</th>\n",
              "      <th>tournament</th>\n",
              "      <th>neutral</th>\n",
              "      <th>away_rank</th>\n",
              "      <th>goal_diff</th>\n",
              "      <th>status</th>\n",
              "    </tr>\n",
              "  </thead>\n",
              "  <tbody>\n",
              "    <tr>\n",
              "      <th>0</th>\n",
              "      <td>19.0</td>\n",
              "      <td>Colombia</td>\n",
              "      <td>16.0</td>\n",
              "      <td>CONMEBOL</td>\n",
              "      <td>1993</td>\n",
              "      <td>8</td>\n",
              "      <td>Paraguay</td>\n",
              "      <td>0</td>\n",
              "      <td>0</td>\n",
              "      <td>Other</td>\n",
              "      <td>False</td>\n",
              "      <td>67.0</td>\n",
              "      <td>0</td>\n",
              "      <td>draw</td>\n",
              "    </tr>\n",
              "    <tr>\n",
              "      <th>1</th>\n",
              "      <td>19.0</td>\n",
              "      <td>Colombia</td>\n",
              "      <td>16.0</td>\n",
              "      <td>CONMEBOL</td>\n",
              "      <td>1993</td>\n",
              "      <td>8</td>\n",
              "      <td>Paraguay</td>\n",
              "      <td>0</td>\n",
              "      <td>0</td>\n",
              "      <td>Other</td>\n",
              "      <td>False</td>\n",
              "      <td>67.0</td>\n",
              "      <td>0</td>\n",
              "      <td>draw</td>\n",
              "    </tr>\n",
              "    <tr>\n",
              "      <th>2</th>\n",
              "      <td>5.0</td>\n",
              "      <td>Argentina</td>\n",
              "      <td>5.0</td>\n",
              "      <td>CONMEBOL</td>\n",
              "      <td>1993</td>\n",
              "      <td>8</td>\n",
              "      <td>Paraguay</td>\n",
              "      <td>0</td>\n",
              "      <td>0</td>\n",
              "      <td>Other</td>\n",
              "      <td>False</td>\n",
              "      <td>67.0</td>\n",
              "      <td>0</td>\n",
              "      <td>draw</td>\n",
              "    </tr>\n",
              "    <tr>\n",
              "      <th>3</th>\n",
              "      <td>5.0</td>\n",
              "      <td>Argentina</td>\n",
              "      <td>5.0</td>\n",
              "      <td>CONMEBOL</td>\n",
              "      <td>1993</td>\n",
              "      <td>8</td>\n",
              "      <td>Paraguay</td>\n",
              "      <td>0</td>\n",
              "      <td>0</td>\n",
              "      <td>Other</td>\n",
              "      <td>False</td>\n",
              "      <td>67.0</td>\n",
              "      <td>0</td>\n",
              "      <td>draw</td>\n",
              "    </tr>\n",
              "    <tr>\n",
              "      <th>4</th>\n",
              "      <td>19.0</td>\n",
              "      <td>Colombia</td>\n",
              "      <td>16.0</td>\n",
              "      <td>CONMEBOL</td>\n",
              "      <td>1993</td>\n",
              "      <td>8</td>\n",
              "      <td>Argentina</td>\n",
              "      <td>2</td>\n",
              "      <td>1</td>\n",
              "      <td>Other</td>\n",
              "      <td>False</td>\n",
              "      <td>5.0</td>\n",
              "      <td>1</td>\n",
              "      <td>win</td>\n",
              "    </tr>\n",
              "  </tbody>\n",
              "</table>\n",
              "</div>"
            ],
            "text/plain": [
              "   home_rank  home_team  rank_change  ... away_rank  goal_diff  status\n",
              "0       19.0   Colombia         16.0  ...      67.0          0    draw\n",
              "1       19.0   Colombia         16.0  ...      67.0          0    draw\n",
              "2        5.0  Argentina          5.0  ...      67.0          0    draw\n",
              "3        5.0  Argentina          5.0  ...      67.0          0    draw\n",
              "4       19.0   Colombia         16.0  ...       5.0          1     win\n",
              "\n",
              "[5 rows x 14 columns]"
            ]
          },
          "metadata": {
            "tags": []
          },
          "execution_count": 57
        }
      ]
    },
    {
      "cell_type": "code",
      "metadata": {
        "id": "C0gamcgNYPUZ"
      },
      "source": [
        "#Encoding using label encoder\n",
        "from sklearn.preprocessing import LabelEncoder\n",
        "le = LabelEncoder()\n",
        "df.home_team=le.fit_transform(df.home_team)\n",
        "df.away_team=le.fit_transform(df.away_team)\n",
        "df.tournament=le.fit_transform(df.tournament)\n",
        "df.neutral=le.fit_transform(df.neutral)\n",
        "df.status=le.fit_transform(df.status)"
      ],
      "execution_count": 58,
      "outputs": []
    },
    {
      "cell_type": "code",
      "metadata": {
        "colab": {
          "base_uri": "https://localhost:8080/"
        },
        "id": "PIJTwb8kEEDi",
        "outputId": "83bdc8ca-8111-4919-8116-821d170773fc"
      },
      "source": [
        "df.columns"
      ],
      "execution_count": 59,
      "outputs": [
        {
          "output_type": "execute_result",
          "data": {
            "text/plain": [
              "Index(['home_rank', 'home_team', 'rank_change', 'confederation', 'year',\n",
              "       'month', 'away_team', 'home_score', 'away_score', 'tournament',\n",
              "       'neutral', 'away_rank', 'goal_diff', 'status'],\n",
              "      dtype='object')"
            ]
          },
          "metadata": {
            "tags": []
          },
          "execution_count": 59
        }
      ]
    },
    {
      "cell_type": "markdown",
      "metadata": {
        "id": "ZU-B005xjzHC"
      },
      "source": [
        "#### 1. Results of the match"
      ]
    },
    {
      "cell_type": "code",
      "metadata": {
        "colab": {
          "base_uri": "https://localhost:8080/"
        },
        "id": "eCcC59GQRnHP",
        "outputId": "0dd4ca71-f4e2-4e15-ff7a-f57ed7f0ac81"
      },
      "source": [
        "#We shall apply Linear Discriminate Analysis\n",
        "#Status\n",
        "#define x and y\n",
        "x=df[['home_rank', 'home_team', 'rank_change', 'year',\n",
        "       'month', 'away_team', 'home_score', 'away_score', 'tournament',\n",
        "       'neutral', 'away_rank', 'goal_diff']]\n",
        "y=df['status']\n",
        "\n",
        "#Perorming LDA\n",
        "from sklearn.discriminant_analysis import LinearDiscriminantAnalysis as LDA\n",
        "lda=LDA()\n",
        "lda_=lda.fit(x,y)\n",
        "lda_x=lda_.transform(x)\n",
        "lda_.coef_"
      ],
      "execution_count": 60,
      "outputs": [
        {
          "output_type": "execute_result",
          "data": {
            "text/plain": [
              "array([[ 1.19518085e-03,  4.49612075e-04, -7.53918793e-03,\n",
              "        -3.99750061e-04,  5.73118910e-03, -3.42851714e-04,\n",
              "        -2.87787110e-01, -2.62608747e-01, -1.43362257e-01,\n",
              "         6.72817207e-02, -1.83960346e-03, -1.23163124e-01],\n",
              "       [ 6.34916904e-03,  1.88905064e-04, -2.54323581e-02,\n",
              "         5.34929282e-03, -1.72948150e-02,  1.25102506e-04,\n",
              "        -2.61171675e-01,  1.00637124e+00,  2.40608881e-01,\n",
              "         9.10941959e-02, -5.84757488e-03, -7.21106179e-01],\n",
              "       [-4.40274150e-03, -3.40777537e-04,  1.90299117e-02,\n",
              "        -2.99666566e-03,  7.43958553e-03,  9.88905774e-05,\n",
              "         3.02007021e-01, -4.68817830e-01, -7.12627555e-02,\n",
              "        -8.85688912e-02,  4.42926125e-03,  4.93667390e-01]])"
            ]
          },
          "metadata": {
            "tags": []
          },
          "execution_count": 60
        }
      ]
    },
    {
      "cell_type": "code",
      "metadata": {
        "colab": {
          "base_uri": "https://localhost:8080/",
          "height": 0
        },
        "id": "eKyQdAfzXnvJ",
        "outputId": "0963c056-1266-4251-e29c-897bc1557279"
      },
      "source": [
        "#getting the columns names\n",
        "result=pd.DataFrame(index=x.columns.values,data=lda_.coef_[0])\n",
        "result.sort_values(0,ascending=False)"
      ],
      "execution_count": 61,
      "outputs": [
        {
          "output_type": "execute_result",
          "data": {
            "text/html": [
              "<div>\n",
              "<style scoped>\n",
              "    .dataframe tbody tr th:only-of-type {\n",
              "        vertical-align: middle;\n",
              "    }\n",
              "\n",
              "    .dataframe tbody tr th {\n",
              "        vertical-align: top;\n",
              "    }\n",
              "\n",
              "    .dataframe thead th {\n",
              "        text-align: right;\n",
              "    }\n",
              "</style>\n",
              "<table border=\"1\" class=\"dataframe\">\n",
              "  <thead>\n",
              "    <tr style=\"text-align: right;\">\n",
              "      <th></th>\n",
              "      <th>0</th>\n",
              "    </tr>\n",
              "  </thead>\n",
              "  <tbody>\n",
              "    <tr>\n",
              "      <th>neutral</th>\n",
              "      <td>0.067282</td>\n",
              "    </tr>\n",
              "    <tr>\n",
              "      <th>month</th>\n",
              "      <td>0.005731</td>\n",
              "    </tr>\n",
              "    <tr>\n",
              "      <th>home_rank</th>\n",
              "      <td>0.001195</td>\n",
              "    </tr>\n",
              "    <tr>\n",
              "      <th>home_team</th>\n",
              "      <td>0.000450</td>\n",
              "    </tr>\n",
              "    <tr>\n",
              "      <th>away_team</th>\n",
              "      <td>-0.000343</td>\n",
              "    </tr>\n",
              "    <tr>\n",
              "      <th>year</th>\n",
              "      <td>-0.000400</td>\n",
              "    </tr>\n",
              "    <tr>\n",
              "      <th>away_rank</th>\n",
              "      <td>-0.001840</td>\n",
              "    </tr>\n",
              "    <tr>\n",
              "      <th>rank_change</th>\n",
              "      <td>-0.007539</td>\n",
              "    </tr>\n",
              "    <tr>\n",
              "      <th>goal_diff</th>\n",
              "      <td>-0.123163</td>\n",
              "    </tr>\n",
              "    <tr>\n",
              "      <th>tournament</th>\n",
              "      <td>-0.143362</td>\n",
              "    </tr>\n",
              "    <tr>\n",
              "      <th>away_score</th>\n",
              "      <td>-0.262609</td>\n",
              "    </tr>\n",
              "    <tr>\n",
              "      <th>home_score</th>\n",
              "      <td>-0.287787</td>\n",
              "    </tr>\n",
              "  </tbody>\n",
              "</table>\n",
              "</div>"
            ],
            "text/plain": [
              "                    0\n",
              "neutral      0.067282\n",
              "month        0.005731\n",
              "home_rank    0.001195\n",
              "home_team    0.000450\n",
              "away_team   -0.000343\n",
              "year        -0.000400\n",
              "away_rank   -0.001840\n",
              "rank_change -0.007539\n",
              "goal_diff   -0.123163\n",
              "tournament  -0.143362\n",
              "away_score  -0.262609\n",
              "home_score  -0.287787"
            ]
          },
          "metadata": {
            "tags": []
          },
          "execution_count": 61
        }
      ]
    },
    {
      "cell_type": "markdown",
      "metadata": {
        "id": "mZR84pZacYLP"
      },
      "source": [
        "#### 2. Home Goals"
      ]
    },
    {
      "cell_type": "code",
      "metadata": {
        "colab": {
          "base_uri": "https://localhost:8080/"
        },
        "id": "Xr6mh5k6YBpq",
        "outputId": "e7a3bb73-6ec4-49b9-dc45-5e80345d5988"
      },
      "source": [
        "# 2. Home Goals \n",
        "#We shall apply Linear Discriminate Analysis\n",
        "\n",
        "#define x and y\n",
        "x=df[['home_rank', 'home_team', 'rank_change', 'year',\n",
        "       'month', 'away_team', 'status', 'away_score', 'tournament',\n",
        "       'neutral', 'away_rank', 'goal_diff']]\n",
        "y=df['home_score']\n",
        "\n",
        "#Perorming LDA\n",
        "from sklearn.discriminant_analysis import LinearDiscriminantAnalysis as LDA\n",
        "lda=LDA()\n",
        "lda_=lda.fit(x,y)\n",
        "lda_x=lda_.transform(x)\n",
        "lda_.coef_"
      ],
      "execution_count": 62,
      "outputs": [
        {
          "output_type": "execute_result",
          "data": {
            "text/plain": [
              "array([[ 6.81912657e-03, -2.43635788e-04, -5.14670040e-03,\n",
              "         1.22531322e-02, -1.28033835e-02,  2.33098782e-04,\n",
              "        -1.13465730e+00,  2.37547714e-01,  3.23059725e-03,\n",
              "         7.48126402e-03, -7.86059460e-03, -2.37547714e-01],\n",
              "       [ 4.70762921e-05,  2.81588071e-04,  1.99555117e-03,\n",
              "         4.11611993e-03, -6.52436975e-03,  2.99543271e-04,\n",
              "        -4.37108053e-01,  8.04667422e-02, -6.51721720e-02,\n",
              "        -2.58494718e-02, -1.78984447e-03, -8.04667422e-02],\n",
              "       [-2.77329362e-03,  2.31059534e-04,  3.08601848e-03,\n",
              "        -2.58945176e-03,  1.73050040e-03, -2.80192796e-04,\n",
              "         7.07084777e-01, -3.26597957e-02, -6.69566388e-02,\n",
              "         1.15601912e-02,  1.70590042e-03,  3.26597957e-02],\n",
              "       [-5.44034271e-03, -4.21065918e-04,  4.34144224e-03,\n",
              "        -9.20049820e-03,  3.30103173e-02,  2.54429815e-04,\n",
              "         1.31008640e+00, -1.89031854e-01, -3.41235340e-02,\n",
              "        -4.75882333e-02,  6.56077884e-03,  1.89031854e-01],\n",
              "       [-6.80859766e-03, -2.55804163e-04, -4.41025941e-03,\n",
              "        -1.93673257e-02,  1.96102020e-02, -8.24072035e-04,\n",
              "         1.42626538e+00, -3.51869005e-01,  1.98252159e-01,\n",
              "         6.96237005e-02,  1.18058306e-02,  3.51869005e-01],\n",
              "       [-6.70384512e-03,  6.27253116e-04,  6.07855260e-03,\n",
              "        -2.62180225e-02,  6.25987434e-03, -2.59232091e-04,\n",
              "         1.28642792e+00, -5.59079399e-01,  2.36873709e-01,\n",
              "         4.66432481e-02,  1.60222513e-02,  5.59079399e-01],\n",
              "       [-9.36285990e-03, -4.17851340e-04, -9.26690767e-03,\n",
              "        -2.89767038e-02,  1.49726863e-02, -2.17919695e-03,\n",
              "         1.11092435e+00, -7.79942594e-01,  7.85073544e-01,\n",
              "        -1.98847428e-01,  1.98786320e-02,  7.79942594e-01],\n",
              "       [-5.85460154e-03, -2.62608736e-03,  1.28724090e-02,\n",
              "        -5.25090525e-02,  2.61791670e-02,  5.56023061e-04,\n",
              "         9.37900148e-01, -1.01046558e+00,  6.28506003e-01,\n",
              "        -7.21518486e-03,  2.24243690e-02,  1.01046558e+00],\n",
              "       [-7.59649622e-03, -2.66842994e-03, -5.30668878e-02,\n",
              "        -3.27939696e-02,  4.62171334e-02, -2.25737476e-03,\n",
              "         8.97798224e-01, -1.10919827e+00,  9.30257420e-01,\n",
              "         1.23183384e-01,  2.24674391e-02,  1.10919827e+00],\n",
              "       [ 1.34608095e-02,  6.95113981e-03,  6.17301742e-02,\n",
              "        -8.38690436e-02, -3.15452748e-02, -9.38180099e-03,\n",
              "         7.92179216e-01, -1.27269263e+00,  8.92084757e-01,\n",
              "         7.51769186e-01,  1.67345255e-02,  1.27269263e+00],\n",
              "       [-5.54109455e-03, -1.40066713e-03, -9.48119385e-02,\n",
              "        -5.16515982e-02,  2.07809576e-02, -1.02511695e-03,\n",
              "         6.55475844e-01, -1.44632774e+00,  1.02387397e+00,\n",
              "         1.00569400e+00,  3.19517308e-02,  1.44632774e+00],\n",
              "       [ 1.95829855e-02,  7.68104290e-03, -1.70780273e-02,\n",
              "        -1.05679073e-01, -2.74092085e-01, -6.12873843e-03,\n",
              "         3.82746067e-01, -1.85881749e+00,  1.70861188e+00,\n",
              "         3.24750899e-01,  2.06661509e-02,  1.85881749e+00],\n",
              "       [ 3.21267612e-02,  6.09326782e-03,  7.74256222e-03,\n",
              "        -9.57578982e-02, -1.95558607e-02, -8.84656592e-03,\n",
              "         3.21436483e-01, -2.05772224e+00,  1.44280609e+00,\n",
              "         9.78909554e-01,  1.07242446e-02,  2.05772224e+00],\n",
              "       [ 2.11391571e-02, -1.98109506e-02, -1.07550059e-01,\n",
              "        -1.70358937e-01,  8.16645198e-02,  4.73325011e-03,\n",
              "         2.67318840e-01, -2.11886563e+00,  1.72822247e+00,\n",
              "         3.28660292e-01,  1.64444337e-02,  2.11886563e+00],\n",
              "       [ 5.52358882e-02, -5.00489164e-03, -1.97246331e-01,\n",
              "        -1.77365791e-01, -2.06210335e-01, -3.24698135e-02,\n",
              "         2.29808893e-01, -2.50602110e+00,  1.29628711e+00,\n",
              "         3.67607350e+00, -1.30267294e-03,  2.50602110e+00],\n",
              "       [ 3.14762615e-02, -2.08113547e-03, -1.69101111e-01,\n",
              "         6.45408364e-03,  7.28501285e-02, -1.54800780e-02,\n",
              "         1.83152428e-01, -2.44779544e+00,  1.32728720e+00,\n",
              "         2.96772578e+00,  8.67392360e-03,  2.44779544e+00],\n",
              "       [ 2.27863744e-02, -7.44152951e-03, -1.22035292e-01,\n",
              "        -2.21723938e-01,  3.36960354e-01, -1.52800595e-02,\n",
              "        -1.26296724e-01, -2.77949670e+00,  1.25889581e+00,\n",
              "         2.61292225e+00,  1.90681847e-02,  2.77949670e+00],\n",
              "       [ 4.59417577e-02, -2.84891885e-02, -6.67868832e-02,\n",
              "        -1.47899293e-01,  9.91316163e-02, -2.14259861e-02,\n",
              "        -2.61206899e-01, -3.08981191e+00,  1.16635378e+00,\n",
              "         3.77301500e+00,  4.13629951e-04,  3.08981191e+00],\n",
              "       [ 3.49567327e-02, -2.21355457e-02, -1.17990247e-01,\n",
              "        -2.12991952e-01, -4.30214610e-01, -9.03957686e-03,\n",
              "        -5.11258237e-01, -3.36295169e+00,  1.41141309e+00,\n",
              "         4.65392487e+00,  1.34939237e-02,  3.36295169e+00],\n",
              "       [ 4.00286583e-02, -3.47002622e-02, -1.48851758e-01,\n",
              "        -1.68947032e-01, -2.23998434e-01,  2.64152407e-02,\n",
              "        -8.44874412e-01, -3.83901967e+00,  2.52507388e+00,\n",
              "        -1.87156845e-02, -1.93099633e-04,  3.83901967e+00],\n",
              "       [ 6.73419537e-02, -3.44056220e-02, -1.86646087e-01,\n",
              "        -2.05748674e-01, -1.62021150e-01, -3.04985468e-02,\n",
              "        -1.82083496e+00, -5.45673593e+00,  2.55391948e+00,\n",
              "         1.47057364e+00, -1.35339417e-02,  5.45673593e+00]])"
            ]
          },
          "metadata": {
            "tags": []
          },
          "execution_count": 62
        }
      ]
    },
    {
      "cell_type": "code",
      "metadata": {
        "colab": {
          "base_uri": "https://localhost:8080/",
          "height": 0
        },
        "id": "qa3sSO0gYBMh",
        "outputId": "dcf3aceb-8465-46bd-a37e-f8235ed1e70e"
      },
      "source": [
        "#getting the columns names\n",
        "result=pd.DataFrame(index=x.columns.values,data=lda_.coef_[0])\n",
        "result.sort_values(0,ascending=False)"
      ],
      "execution_count": 63,
      "outputs": [
        {
          "output_type": "execute_result",
          "data": {
            "text/html": [
              "<div>\n",
              "<style scoped>\n",
              "    .dataframe tbody tr th:only-of-type {\n",
              "        vertical-align: middle;\n",
              "    }\n",
              "\n",
              "    .dataframe tbody tr th {\n",
              "        vertical-align: top;\n",
              "    }\n",
              "\n",
              "    .dataframe thead th {\n",
              "        text-align: right;\n",
              "    }\n",
              "</style>\n",
              "<table border=\"1\" class=\"dataframe\">\n",
              "  <thead>\n",
              "    <tr style=\"text-align: right;\">\n",
              "      <th></th>\n",
              "      <th>0</th>\n",
              "    </tr>\n",
              "  </thead>\n",
              "  <tbody>\n",
              "    <tr>\n",
              "      <th>away_score</th>\n",
              "      <td>0.237548</td>\n",
              "    </tr>\n",
              "    <tr>\n",
              "      <th>year</th>\n",
              "      <td>0.012253</td>\n",
              "    </tr>\n",
              "    <tr>\n",
              "      <th>neutral</th>\n",
              "      <td>0.007481</td>\n",
              "    </tr>\n",
              "    <tr>\n",
              "      <th>home_rank</th>\n",
              "      <td>0.006819</td>\n",
              "    </tr>\n",
              "    <tr>\n",
              "      <th>tournament</th>\n",
              "      <td>0.003231</td>\n",
              "    </tr>\n",
              "    <tr>\n",
              "      <th>away_team</th>\n",
              "      <td>0.000233</td>\n",
              "    </tr>\n",
              "    <tr>\n",
              "      <th>home_team</th>\n",
              "      <td>-0.000244</td>\n",
              "    </tr>\n",
              "    <tr>\n",
              "      <th>rank_change</th>\n",
              "      <td>-0.005147</td>\n",
              "    </tr>\n",
              "    <tr>\n",
              "      <th>away_rank</th>\n",
              "      <td>-0.007861</td>\n",
              "    </tr>\n",
              "    <tr>\n",
              "      <th>month</th>\n",
              "      <td>-0.012803</td>\n",
              "    </tr>\n",
              "    <tr>\n",
              "      <th>goal_diff</th>\n",
              "      <td>-0.237548</td>\n",
              "    </tr>\n",
              "    <tr>\n",
              "      <th>status</th>\n",
              "      <td>-1.134657</td>\n",
              "    </tr>\n",
              "  </tbody>\n",
              "</table>\n",
              "</div>"
            ],
            "text/plain": [
              "                    0\n",
              "away_score   0.237548\n",
              "year         0.012253\n",
              "neutral      0.007481\n",
              "home_rank    0.006819\n",
              "tournament   0.003231\n",
              "away_team    0.000233\n",
              "home_team   -0.000244\n",
              "rank_change -0.005147\n",
              "away_rank   -0.007861\n",
              "month       -0.012803\n",
              "goal_diff   -0.237548\n",
              "status      -1.134657"
            ]
          },
          "metadata": {
            "tags": []
          },
          "execution_count": 63
        }
      ]
    },
    {
      "cell_type": "markdown",
      "metadata": {
        "id": "MNF9KiS8cUSq"
      },
      "source": [
        "#### 3. Away Goals to be scored"
      ]
    },
    {
      "cell_type": "code",
      "metadata": {
        "colab": {
          "base_uri": "https://localhost:8080/"
        },
        "id": "fb7IfAybcT4z",
        "outputId": "3d63d4f4-04eb-4b8c-8598-f1cef058c053"
      },
      "source": [
        "#We shall apply Linear Discriminate Analysis\n",
        "\n",
        "#define x and y\n",
        "x=df[['home_rank', 'home_team', 'rank_change', 'year',\n",
        "       'month', 'away_team', 'status', 'home_score', 'tournament',\n",
        "       'neutral', 'away_rank', 'goal_diff']]\n",
        "y=df['away_score']\n",
        "\n",
        "#Perorming LDA\n",
        "from sklearn.discriminant_analysis import LinearDiscriminantAnalysis as LDA\n",
        "lda=LDA()\n",
        "lda_=lda.fit(x,y)\n",
        "lda_x=lda_.transform(x)\n",
        "lda_.coef_"
      ],
      "execution_count": 64,
      "outputs": [
        {
          "output_type": "execute_result",
          "data": {
            "text/plain": [
              "array([[-5.14610251e-03,  1.83359005e-04,  7.84896673e-03,\n",
              "         6.21836113e-03, -8.48762979e-03,  1.66009759e-04,\n",
              "         2.04202003e-01,  1.02322261e-01, -3.31683896e-02,\n",
              "        -2.62851937e-01,  4.60259027e-03,  1.02322261e-01],\n",
              "       [-8.93703360e-04, -1.83639522e-04,  2.12367531e-03,\n",
              "         5.97182975e-04, -3.63751203e-03,  1.73996640e-04,\n",
              "        -2.64757391e-01,  3.73384547e-02, -2.25479867e-02,\n",
              "        -9.56427700e-03, -8.62220751e-05,  3.73384547e-02],\n",
              "       [ 4.47330819e-03, -2.05665232e-04, -9.72884160e-03,\n",
              "        -3.86064144e-03,  1.29051803e-02, -1.14634621e-04,\n",
              "        -2.85019855e-01, -6.04533250e-02, -1.03973320e-01,\n",
              "         3.12684763e-01, -4.87516562e-03, -6.04533250e-02],\n",
              "       [ 9.52051355e-03,  2.92797833e-04, -1.89908340e-02,\n",
              "        -9.36383250e-03,  1.26256649e-02, -7.99649917e-04,\n",
              "         1.57647357e-01, -2.14019302e-01,  2.11888119e-01,\n",
              "         2.92937260e-01, -8.37675115e-03, -2.14019302e-01],\n",
              "       [ 1.46841655e-02,  1.09614521e-03, -1.30784218e-02,\n",
              "        -5.22104058e-03,  2.17947351e-02, -2.51731167e-03,\n",
              "         6.46678691e-01, -4.26270613e-01,  4.22559493e-01,\n",
              "         4.77895328e-01, -9.48688043e-03, -4.26270613e-01],\n",
              "       [ 1.87201719e-02,  8.29721268e-04, -3.42545691e-02,\n",
              "        -5.13636405e-02,  3.51597837e-02,  4.77402883e-04,\n",
              "         9.86248081e-01, -5.84472852e-01,  5.77173705e-01,\n",
              "         4.94990290e-01, -8.70191248e-03, -5.84472852e-01],\n",
              "       [ 3.12955358e-02, -1.50964672e-03,  5.07610883e-03,\n",
              "        -4.77363773e-02,  3.07935663e-02,  5.16025779e-04,\n",
              "         1.51269173e+00, -7.97287198e-01,  6.72480812e-01,\n",
              "         9.02144333e-01, -1.31729597e-02, -7.97287198e-01],\n",
              "       [ 2.29742444e-02, -1.57255008e-03, -2.39848742e-02,\n",
              "        -7.72720175e-02,  4.03155786e-03,  3.41162723e-03,\n",
              "         1.61944963e+00, -9.42681790e-01,  7.46957028e-01,\n",
              "         1.33015539e+00,  3.55539805e-03, -9.42681790e-01],\n",
              "       [ 3.79274737e-02, -1.36204017e-03, -2.90647905e-02,\n",
              "        -5.85900769e-02,  1.43802408e-01, -2.58279158e-03,\n",
              "         1.88380206e+00, -1.01317762e+00,  5.20739833e-01,\n",
              "         1.99317466e+00, -6.73654727e-04, -1.01317762e+00],\n",
              "       [ 3.09370539e-02, -1.39506679e-02, -1.59579929e-02,\n",
              "        -5.87487158e-02,  1.86180865e-01,  2.08835253e-03,\n",
              "         2.04755430e+00, -1.14035860e+00,  1.23000060e-01,\n",
              "         2.17512239e+00,  6.68779813e-03, -1.14035860e+00],\n",
              "       [ 1.35219927e-02, -1.50448960e-02,  3.55069463e-02,\n",
              "        -4.75769646e-02, -2.09732821e-02, -3.76998785e-03,\n",
              "         2.52894918e+00, -1.60645522e+00,  9.75699692e-01,\n",
              "         2.38246905e+00,  4.10591574e-02, -1.60645522e+00],\n",
              "       [ 2.36071835e-02,  3.95230652e-03, -2.81174589e-02,\n",
              "        -2.70951904e-01, -7.51923976e-02,  1.55880048e-02,\n",
              "         3.24044543e+00, -1.83491363e+00,  1.19158908e+00,\n",
              "         2.53731850e+00,  2.26355910e-02, -1.83491363e+00],\n",
              "       [ 6.87475147e-02,  1.88706848e-02, -8.05021765e-02,\n",
              "        -5.40849442e-02,  1.68929467e-01, -1.63004252e-02,\n",
              "         3.72678661e+00, -1.63424573e+00,  2.14525806e+00,\n",
              "        -1.50720973e+00, -4.67471745e-02, -1.63424573e+00],\n",
              "       [ 8.23160350e-03, -2.54512333e-02, -2.76326583e-03,\n",
              "        -9.13279328e-02, -3.96260635e-02,  1.05896532e-02,\n",
              "         3.92799511e+00, -2.36686826e+00,  1.24347941e+00,\n",
              "         1.98485213e+00,  5.73490516e-02, -2.36686826e+00]])"
            ]
          },
          "metadata": {
            "tags": []
          },
          "execution_count": 64
        }
      ]
    },
    {
      "cell_type": "code",
      "metadata": {
        "colab": {
          "base_uri": "https://localhost:8080/",
          "height": 418
        },
        "id": "SwwMz57zclDn",
        "outputId": "4b202a00-4088-4aa6-d478-79667a3687b4"
      },
      "source": [
        "#getting the columns names\n",
        "result=pd.DataFrame(index=x.columns.values,data=lda_.coef_[0])\n",
        "result.sort_values(0,ascending=False)\n",
        "## "
      ],
      "execution_count": 65,
      "outputs": [
        {
          "output_type": "execute_result",
          "data": {
            "text/html": [
              "<div>\n",
              "<style scoped>\n",
              "    .dataframe tbody tr th:only-of-type {\n",
              "        vertical-align: middle;\n",
              "    }\n",
              "\n",
              "    .dataframe tbody tr th {\n",
              "        vertical-align: top;\n",
              "    }\n",
              "\n",
              "    .dataframe thead th {\n",
              "        text-align: right;\n",
              "    }\n",
              "</style>\n",
              "<table border=\"1\" class=\"dataframe\">\n",
              "  <thead>\n",
              "    <tr style=\"text-align: right;\">\n",
              "      <th></th>\n",
              "      <th>0</th>\n",
              "    </tr>\n",
              "  </thead>\n",
              "  <tbody>\n",
              "    <tr>\n",
              "      <th>status</th>\n",
              "      <td>0.204202</td>\n",
              "    </tr>\n",
              "    <tr>\n",
              "      <th>home_score</th>\n",
              "      <td>0.102322</td>\n",
              "    </tr>\n",
              "    <tr>\n",
              "      <th>goal_diff</th>\n",
              "      <td>0.102322</td>\n",
              "    </tr>\n",
              "    <tr>\n",
              "      <th>rank_change</th>\n",
              "      <td>0.007849</td>\n",
              "    </tr>\n",
              "    <tr>\n",
              "      <th>year</th>\n",
              "      <td>0.006218</td>\n",
              "    </tr>\n",
              "    <tr>\n",
              "      <th>away_rank</th>\n",
              "      <td>0.004603</td>\n",
              "    </tr>\n",
              "    <tr>\n",
              "      <th>home_team</th>\n",
              "      <td>0.000183</td>\n",
              "    </tr>\n",
              "    <tr>\n",
              "      <th>away_team</th>\n",
              "      <td>0.000166</td>\n",
              "    </tr>\n",
              "    <tr>\n",
              "      <th>home_rank</th>\n",
              "      <td>-0.005146</td>\n",
              "    </tr>\n",
              "    <tr>\n",
              "      <th>month</th>\n",
              "      <td>-0.008488</td>\n",
              "    </tr>\n",
              "    <tr>\n",
              "      <th>tournament</th>\n",
              "      <td>-0.033168</td>\n",
              "    </tr>\n",
              "    <tr>\n",
              "      <th>neutral</th>\n",
              "      <td>-0.262852</td>\n",
              "    </tr>\n",
              "  </tbody>\n",
              "</table>\n",
              "</div>"
            ],
            "text/plain": [
              "                    0\n",
              "status       0.204202\n",
              "home_score   0.102322\n",
              "goal_diff    0.102322\n",
              "rank_change  0.007849\n",
              "year         0.006218\n",
              "away_rank    0.004603\n",
              "home_team    0.000183\n",
              "away_team    0.000166\n",
              "home_rank   -0.005146\n",
              "month       -0.008488\n",
              "tournament  -0.033168\n",
              "neutral     -0.262852"
            ]
          },
          "metadata": {
            "tags": []
          },
          "execution_count": 65
        }
      ]
    },
    {
      "cell_type": "markdown",
      "metadata": {
        "id": "XHiqnrPQ9j3a"
      },
      "source": [
        "# Modelling"
      ]
    },
    {
      "cell_type": "code",
      "metadata": {
        "id": "mMwcYxqbaWw6"
      },
      "source": [
        "# creating a copy\n",
        "data = df.copy()"
      ],
      "execution_count": 66,
      "outputs": []
    },
    {
      "cell_type": "markdown",
      "metadata": {
        "id": "miPHGCJ-hPOO"
      },
      "source": [
        "### Polynomial Analysis"
      ]
    },
    {
      "cell_type": "markdown",
      "metadata": {
        "id": "Qw6muDdwhXpW"
      },
      "source": [
        "#### Predict Number of goals to be scored by home team"
      ]
    },
    {
      "cell_type": "code",
      "metadata": {
        "colab": {
          "base_uri": "https://localhost:8080/",
          "height": 223
        },
        "id": "AHYXh7Jlhxp6",
        "outputId": "fe57889c-3437-4ae0-ab5c-2e1e83e73521"
      },
      "source": [
        "data.head()"
      ],
      "execution_count": 67,
      "outputs": [
        {
          "output_type": "execute_result",
          "data": {
            "text/html": [
              "<div>\n",
              "<style scoped>\n",
              "    .dataframe tbody tr th:only-of-type {\n",
              "        vertical-align: middle;\n",
              "    }\n",
              "\n",
              "    .dataframe tbody tr th {\n",
              "        vertical-align: top;\n",
              "    }\n",
              "\n",
              "    .dataframe thead th {\n",
              "        text-align: right;\n",
              "    }\n",
              "</style>\n",
              "<table border=\"1\" class=\"dataframe\">\n",
              "  <thead>\n",
              "    <tr style=\"text-align: right;\">\n",
              "      <th></th>\n",
              "      <th>home_rank</th>\n",
              "      <th>home_team</th>\n",
              "      <th>rank_change</th>\n",
              "      <th>confederation</th>\n",
              "      <th>year</th>\n",
              "      <th>month</th>\n",
              "      <th>away_team</th>\n",
              "      <th>home_score</th>\n",
              "      <th>away_score</th>\n",
              "      <th>tournament</th>\n",
              "      <th>neutral</th>\n",
              "      <th>away_rank</th>\n",
              "      <th>goal_diff</th>\n",
              "      <th>status</th>\n",
              "    </tr>\n",
              "  </thead>\n",
              "  <tbody>\n",
              "    <tr>\n",
              "      <th>0</th>\n",
              "      <td>19.0</td>\n",
              "      <td>41</td>\n",
              "      <td>16.0</td>\n",
              "      <td>CONMEBOL</td>\n",
              "      <td>1993</td>\n",
              "      <td>8</td>\n",
              "      <td>137</td>\n",
              "      <td>0</td>\n",
              "      <td>0</td>\n",
              "      <td>1</td>\n",
              "      <td>0</td>\n",
              "      <td>67.0</td>\n",
              "      <td>0</td>\n",
              "      <td>0</td>\n",
              "    </tr>\n",
              "    <tr>\n",
              "      <th>1</th>\n",
              "      <td>19.0</td>\n",
              "      <td>41</td>\n",
              "      <td>16.0</td>\n",
              "      <td>CONMEBOL</td>\n",
              "      <td>1993</td>\n",
              "      <td>8</td>\n",
              "      <td>137</td>\n",
              "      <td>0</td>\n",
              "      <td>0</td>\n",
              "      <td>1</td>\n",
              "      <td>0</td>\n",
              "      <td>67.0</td>\n",
              "      <td>0</td>\n",
              "      <td>0</td>\n",
              "    </tr>\n",
              "    <tr>\n",
              "      <th>2</th>\n",
              "      <td>5.0</td>\n",
              "      <td>8</td>\n",
              "      <td>5.0</td>\n",
              "      <td>CONMEBOL</td>\n",
              "      <td>1993</td>\n",
              "      <td>8</td>\n",
              "      <td>137</td>\n",
              "      <td>0</td>\n",
              "      <td>0</td>\n",
              "      <td>1</td>\n",
              "      <td>0</td>\n",
              "      <td>67.0</td>\n",
              "      <td>0</td>\n",
              "      <td>0</td>\n",
              "    </tr>\n",
              "    <tr>\n",
              "      <th>3</th>\n",
              "      <td>5.0</td>\n",
              "      <td>8</td>\n",
              "      <td>5.0</td>\n",
              "      <td>CONMEBOL</td>\n",
              "      <td>1993</td>\n",
              "      <td>8</td>\n",
              "      <td>137</td>\n",
              "      <td>0</td>\n",
              "      <td>0</td>\n",
              "      <td>1</td>\n",
              "      <td>0</td>\n",
              "      <td>67.0</td>\n",
              "      <td>0</td>\n",
              "      <td>0</td>\n",
              "    </tr>\n",
              "    <tr>\n",
              "      <th>4</th>\n",
              "      <td>19.0</td>\n",
              "      <td>41</td>\n",
              "      <td>16.0</td>\n",
              "      <td>CONMEBOL</td>\n",
              "      <td>1993</td>\n",
              "      <td>8</td>\n",
              "      <td>8</td>\n",
              "      <td>2</td>\n",
              "      <td>1</td>\n",
              "      <td>1</td>\n",
              "      <td>0</td>\n",
              "      <td>5.0</td>\n",
              "      <td>1</td>\n",
              "      <td>2</td>\n",
              "    </tr>\n",
              "  </tbody>\n",
              "</table>\n",
              "</div>"
            ],
            "text/plain": [
              "   home_rank  home_team  rank_change  ... away_rank  goal_diff  status\n",
              "0       19.0         41         16.0  ...      67.0          0       0\n",
              "1       19.0         41         16.0  ...      67.0          0       0\n",
              "2        5.0          8          5.0  ...      67.0          0       0\n",
              "3        5.0          8          5.0  ...      67.0          0       0\n",
              "4       19.0         41         16.0  ...       5.0          1       2\n",
              "\n",
              "[5 rows x 14 columns]"
            ]
          },
          "metadata": {
            "tags": []
          },
          "execution_count": 67
        }
      ]
    },
    {
      "cell_type": "code",
      "metadata": {
        "id": "_U4vGs9caWw6"
      },
      "source": [
        "#Variable to use are home rank, away rank and tournament\n",
        "#Selecting dependent and independet variables\n",
        "X=data[['home_rank', 'away_score', 'away_rank','tournament']]\n",
        "y=data['home_score']"
      ],
      "execution_count": 68,
      "outputs": []
    },
    {
      "cell_type": "markdown",
      "metadata": {
        "id": "BnX0QK0pEtod"
      },
      "source": [
        "##### Multicollinearity"
      ]
    },
    {
      "cell_type": "code",
      "metadata": {
        "colab": {
          "base_uri": "https://localhost:8080/",
          "height": 172
        },
        "id": "BhZkrnvWEotX",
        "outputId": "cb69fce6-18f4-4918-f857-aff1212ddfbb"
      },
      "source": [
        "#gett the correlations \n",
        "correlations=X.corr()\n",
        "correlations"
      ],
      "execution_count": 69,
      "outputs": [
        {
          "output_type": "execute_result",
          "data": {
            "text/html": [
              "<div>\n",
              "<style scoped>\n",
              "    .dataframe tbody tr th:only-of-type {\n",
              "        vertical-align: middle;\n",
              "    }\n",
              "\n",
              "    .dataframe tbody tr th {\n",
              "        vertical-align: top;\n",
              "    }\n",
              "\n",
              "    .dataframe thead th {\n",
              "        text-align: right;\n",
              "    }\n",
              "</style>\n",
              "<table border=\"1\" class=\"dataframe\">\n",
              "  <thead>\n",
              "    <tr style=\"text-align: right;\">\n",
              "      <th></th>\n",
              "      <th>home_rank</th>\n",
              "      <th>away_score</th>\n",
              "      <th>away_rank</th>\n",
              "      <th>tournament</th>\n",
              "    </tr>\n",
              "  </thead>\n",
              "  <tbody>\n",
              "    <tr>\n",
              "      <th>home_rank</th>\n",
              "      <td>1.000000</td>\n",
              "      <td>0.221365</td>\n",
              "      <td>0.515308</td>\n",
              "      <td>0.045492</td>\n",
              "    </tr>\n",
              "    <tr>\n",
              "      <th>away_score</th>\n",
              "      <td>0.221365</td>\n",
              "      <td>1.000000</td>\n",
              "      <td>-0.151487</td>\n",
              "      <td>0.041351</td>\n",
              "    </tr>\n",
              "    <tr>\n",
              "      <th>away_rank</th>\n",
              "      <td>0.515308</td>\n",
              "      <td>-0.151487</td>\n",
              "      <td>1.000000</td>\n",
              "      <td>0.069008</td>\n",
              "    </tr>\n",
              "    <tr>\n",
              "      <th>tournament</th>\n",
              "      <td>0.045492</td>\n",
              "      <td>0.041351</td>\n",
              "      <td>0.069008</td>\n",
              "      <td>1.000000</td>\n",
              "    </tr>\n",
              "  </tbody>\n",
              "</table>\n",
              "</div>"
            ],
            "text/plain": [
              "            home_rank  away_score  away_rank  tournament\n",
              "home_rank    1.000000    0.221365   0.515308    0.045492\n",
              "away_score   0.221365    1.000000  -0.151487    0.041351\n",
              "away_rank    0.515308   -0.151487   1.000000    0.069008\n",
              "tournament   0.045492    0.041351   0.069008    1.000000"
            ]
          },
          "metadata": {
            "tags": []
          },
          "execution_count": 69
        }
      ]
    },
    {
      "cell_type": "code",
      "metadata": {
        "colab": {
          "base_uri": "https://localhost:8080/",
          "height": 172
        },
        "id": "G-j1ZE_0Eor4",
        "outputId": "d883841e-b17e-4f74-d9b5-7b5c288608ee"
      },
      "source": [
        "#checking for multicollinearity usibg VIF \n",
        "pd.DataFrame(np.linalg.inv(correlations.values), index = correlations.index, columns=correlations.columns)\n",
        "#all the VIF scores are below 5"
      ],
      "execution_count": 70,
      "outputs": [
        {
          "output_type": "execute_result",
          "data": {
            "text/html": [
              "<div>\n",
              "<style scoped>\n",
              "    .dataframe tbody tr th:only-of-type {\n",
              "        vertical-align: middle;\n",
              "    }\n",
              "\n",
              "    .dataframe tbody tr th {\n",
              "        vertical-align: top;\n",
              "    }\n",
              "\n",
              "    .dataframe thead th {\n",
              "        text-align: right;\n",
              "    }\n",
              "</style>\n",
              "<table border=\"1\" class=\"dataframe\">\n",
              "  <thead>\n",
              "    <tr style=\"text-align: right;\">\n",
              "      <th></th>\n",
              "      <th>home_rank</th>\n",
              "      <th>away_score</th>\n",
              "      <th>away_rank</th>\n",
              "      <th>tournament</th>\n",
              "    </tr>\n",
              "  </thead>\n",
              "  <tbody>\n",
              "    <tr>\n",
              "      <th>home_rank</th>\n",
              "      <td>1.556032</td>\n",
              "      <td>-0.477356</td>\n",
              "      <td>-0.874792</td>\n",
              "      <td>0.009320</td>\n",
              "    </tr>\n",
              "    <tr>\n",
              "      <th>away_score</th>\n",
              "      <td>-0.477356</td>\n",
              "      <td>1.172762</td>\n",
              "      <td>0.427528</td>\n",
              "      <td>-0.056283</td>\n",
              "    </tr>\n",
              "    <tr>\n",
              "      <th>away_rank</th>\n",
              "      <td>-0.874792</td>\n",
              "      <td>0.427528</td>\n",
              "      <td>1.521270</td>\n",
              "      <td>-0.082863</td>\n",
              "    </tr>\n",
              "    <tr>\n",
              "      <th>tournament</th>\n",
              "      <td>0.009320</td>\n",
              "      <td>-0.056283</td>\n",
              "      <td>-0.082863</td>\n",
              "      <td>1.007622</td>\n",
              "    </tr>\n",
              "  </tbody>\n",
              "</table>\n",
              "</div>"
            ],
            "text/plain": [
              "            home_rank  away_score  away_rank  tournament\n",
              "home_rank    1.556032   -0.477356  -0.874792    0.009320\n",
              "away_score  -0.477356    1.172762   0.427528   -0.056283\n",
              "away_rank   -0.874792    0.427528   1.521270   -0.082863\n",
              "tournament   0.009320   -0.056283  -0.082863    1.007622"
            ]
          },
          "metadata": {
            "tags": []
          },
          "execution_count": 70
        }
      ]
    },
    {
      "cell_type": "markdown",
      "metadata": {
        "id": "8xCcnx-uGLI9"
      },
      "source": [
        "##### Building our model"
      ]
    },
    {
      "cell_type": "code",
      "metadata": {
        "colab": {
          "base_uri": "https://localhost:8080/"
        },
        "id": "DW05yVq1EonX",
        "outputId": "89993e82-85b9-4f87-c181-2b1a05be0ed0"
      },
      "source": [
        "#Spliting data into train and test\n",
        "X_train, y_train, X_test, y_test = train_test_split(X,y, test_size = 0.2, random_state=0)\n",
        "# Fit polynomial Regression \n",
        "from sklearn.preprocessing import PolynomialFeatures\n",
        "\n",
        "poly_reg = PolynomialFeatures(degree = 4) \n",
        "X_poly = poly_reg.fit_transform(X)\n",
        "\n",
        "pol_reg = LinearRegression()\n",
        "pol_reg.fit(X_poly, y)\n",
        "\n",
        "#prediction\n",
        "y_pred = pol_reg.predict(X_poly)\n",
        "y_pred"
      ],
      "execution_count": 71,
      "outputs": [
        {
          "output_type": "execute_result",
          "data": {
            "text/plain": [
              "array([2.10201303, 2.10201303, 2.50458177, ..., 1.65533329, 1.25798034,\n",
              "       1.25798034])"
            ]
          },
          "metadata": {
            "tags": []
          },
          "execution_count": 71
        }
      ]
    },
    {
      "cell_type": "code",
      "metadata": {
        "colab": {
          "base_uri": "https://localhost:8080/"
        },
        "id": "wdi3KfDjEoj4",
        "outputId": "5d33259d-4b53-49aa-bca0-79e7e640c3cb"
      },
      "source": [
        "#evaluating our model\n",
        "from sklearn.metrics import mean_squared_error\n",
        "rmse = np.sqrt(mean_squared_error(y, y_pred))\n",
        "print(rmse) \n",
        "#RMSE is low than the mean hence its a good model"
      ],
      "execution_count": 72,
      "outputs": [
        {
          "output_type": "stream",
          "text": [
            "1.4210859033658023\n"
          ],
          "name": "stdout"
        }
      ]
    },
    {
      "cell_type": "markdown",
      "metadata": {
        "id": "MgoHkbFUIBxJ"
      },
      "source": [
        "##### Cross Validation"
      ]
    },
    {
      "cell_type": "code",
      "metadata": {
        "colab": {
          "base_uri": "https://localhost:8080/"
        },
        "id": "Oap9r4SdH1oV",
        "outputId": "fa01a88f-65ee-4a31-c09e-6bb776f89ed1"
      },
      "source": [
        "from sklearn.model_selection import KFold\n",
        "X=data[['home_rank', 'away_score', 'away_rank','tournament']].values\n",
        "y=data['home_score'].values\n",
        "folds = KFold(n_splits=5)\n",
        "\n",
        "print('we are using ' +str(folds.get_n_splits(X)) + ' folds')\n",
        "\n",
        "RMSES = [] \n",
        "count = 1 \n",
        "for train_index, test_index in folds.split(X):\n",
        "  print('\\nTraining model ' + str(count))\n",
        "  \n",
        "  X_train, X_test = X[train_index], X[test_index]\n",
        "  y_train, y_test = y[train_index], y[test_index]\n",
        "  \n",
        "  # fit a model accordingly\n",
        "  regressor = LinearRegression()  \n",
        "  regressor.fit(X_train, y_train)\n",
        "  \n",
        "  # assess the accuraccy of the model\n",
        "  y_pred = regressor.predict(X_test)\n",
        "  \n",
        "  rmse_value =  np.sqrt(metrics.mean_squared_error(y_test, y_pred))\n",
        "  RMSES.append(rmse_value)\n",
        "  \n",
        "  print('Model ' + str(count) + ' Root Mean Squared Error:',rmse_value)\n",
        "  count = count + 1"
      ],
      "execution_count": 73,
      "outputs": [
        {
          "output_type": "stream",
          "text": [
            "we are using 5 folds\n",
            "\n",
            "Training model 1\n",
            "Model 1 Root Mean Squared Error: 1.508214927616083\n",
            "\n",
            "Training model 2\n",
            "Model 2 Root Mean Squared Error: 1.7119362400466442\n",
            "\n",
            "Training model 3\n",
            "Model 3 Root Mean Squared Error: 1.3892485217453652\n",
            "\n",
            "Training model 4\n",
            "Model 4 Root Mean Squared Error: 1.355736793440984\n",
            "\n",
            "Training model 5\n",
            "Model 5 Root Mean Squared Error: 1.3485048919616804\n"
          ],
          "name": "stdout"
        }
      ]
    },
    {
      "cell_type": "markdown",
      "metadata": {
        "id": "cVPjKbZ-fhxV"
      },
      "source": [
        "##### Residual plots and Bartlett's test"
      ]
    },
    {
      "cell_type": "code",
      "metadata": {
        "colab": {
          "base_uri": "https://localhost:8080/",
          "height": 295
        },
        "id": "u9WtBf6UejvC",
        "outputId": "f02da907-3fb7-4ebd-cf73-74b77f68b667"
      },
      "source": [
        "# Checking for Residuals in our predicted values\n",
        "residuals_home = y_pred - y_test\n",
        "\n",
        "# Plotting the prediction errors\n",
        "plt.scatter(y_pred, residuals_home)\n",
        "plt.title('Residuals')\n",
        "plt.ylabel('residuals')\n",
        "plt.xlabel('fitted values')\n",
        "plt.axhline(y= residuals_home.mean(), color='blue')\n",
        "plt.show()\n",
        "\n",
        "# There are residuals are close to the mean hence our model is quite good."
      ],
      "execution_count": 74,
      "outputs": [
        {
          "output_type": "display_data",
          "data": {
            "image/png": "[encoded data removed]",
            "text/plain": [
              "<Figure size 432x288 with 1 Axes>"
            ]
          },
          "metadata": {
            "tags": [],
            "needs_background": "light"
          }
        }
      ]
    },
    {
      "cell_type": "code",
      "metadata": {
        "colab": {
          "base_uri": "https://localhost:8080/"
        },
        "id": "VOizVKRZe-nt",
        "outputId": "008de997-288f-4fce-db7d-05d0f1c9c324"
      },
      "source": [
        "#bartletts test\n",
        "\n",
        "import scipy as sp\n",
        "\n",
        "test_result, p_value = sp.stats.bartlett(y_pred, residuals_home)\n",
        "\n",
        "# To interpret the results we must also compute a critical value of the chi squared distribution\n",
        "degree_of_freedom = len(y_pred)-1\n",
        "probability = 1 - p_value\n",
        "\n",
        "critical_value = sp.stats.chi2.ppf(probability, degree_of_freedom)\n",
        "print(critical_value)\n",
        "\n",
        "if (test_result > critical_value):\n",
        "  print('the variances are unequal, and the model should be reassessed')\n",
        "else:\n",
        "  print('the variances are homogeneous!')"
      ],
      "execution_count": 75,
      "outputs": [
        {
          "output_type": "stream",
          "text": [
            "inf\n",
            "the variances are homogeneous!\n"
          ],
          "name": "stdout"
        }
      ]
    },
    {
      "cell_type": "markdown",
      "metadata": {
        "id": "6dU-sa4kgoep"
      },
      "source": [
        "#### Predict Number of goals to be scored by away team"
      ]
    },
    {
      "cell_type": "code",
      "metadata": {
        "id": "ovbr13pogoer"
      },
      "source": [
        "#Variable to use are home rank, away rank and tournament\n",
        "#Selecting dependent and independet variables\n",
        "away_X=data[['home_rank', 'away_score', 'away_rank','tournament']]\n",
        "away_y=data['away_score']"
      ],
      "execution_count": 76,
      "outputs": []
    },
    {
      "cell_type": "markdown",
      "metadata": {
        "id": "SdiQ_M8bgoer"
      },
      "source": [
        "##### Multicollinearity"
      ]
    },
    {
      "cell_type": "code",
      "metadata": {
        "colab": {
          "base_uri": "https://localhost:8080/",
          "height": 172
        },
        "id": "tteKt5jMgoes",
        "outputId": "d0cd1384-a637-42d0-b2fa-584d6fe0a903"
      },
      "source": [
        "#gett the correlations \n",
        "away_corr=away_X.corr()\n",
        "away_corr"
      ],
      "execution_count": 77,
      "outputs": [
        {
          "output_type": "execute_result",
          "data": {
            "text/html": [
              "<div>\n",
              "<style scoped>\n",
              "    .dataframe tbody tr th:only-of-type {\n",
              "        vertical-align: middle;\n",
              "    }\n",
              "\n",
              "    .dataframe tbody tr th {\n",
              "        vertical-align: top;\n",
              "    }\n",
              "\n",
              "    .dataframe thead th {\n",
              "        text-align: right;\n",
              "    }\n",
              "</style>\n",
              "<table border=\"1\" class=\"dataframe\">\n",
              "  <thead>\n",
              "    <tr style=\"text-align: right;\">\n",
              "      <th></th>\n",
              "      <th>home_rank</th>\n",
              "      <th>away_score</th>\n",
              "      <th>away_rank</th>\n",
              "      <th>tournament</th>\n",
              "    </tr>\n",
              "  </thead>\n",
              "  <tbody>\n",
              "    <tr>\n",
              "      <th>home_rank</th>\n",
              "      <td>1.000000</td>\n",
              "      <td>0.221365</td>\n",
              "      <td>0.515308</td>\n",
              "      <td>0.045492</td>\n",
              "    </tr>\n",
              "    <tr>\n",
              "      <th>away_score</th>\n",
              "      <td>0.221365</td>\n",
              "      <td>1.000000</td>\n",
              "      <td>-0.151487</td>\n",
              "      <td>0.041351</td>\n",
              "    </tr>\n",
              "    <tr>\n",
              "      <th>away_rank</th>\n",
              "      <td>0.515308</td>\n",
              "      <td>-0.151487</td>\n",
              "      <td>1.000000</td>\n",
              "      <td>0.069008</td>\n",
              "    </tr>\n",
              "    <tr>\n",
              "      <th>tournament</th>\n",
              "      <td>0.045492</td>\n",
              "      <td>0.041351</td>\n",
              "      <td>0.069008</td>\n",
              "      <td>1.000000</td>\n",
              "    </tr>\n",
              "  </tbody>\n",
              "</table>\n",
              "</div>"
            ],
            "text/plain": [
              "            home_rank  away_score  away_rank  tournament\n",
              "home_rank    1.000000    0.221365   0.515308    0.045492\n",
              "away_score   0.221365    1.000000  -0.151487    0.041351\n",
              "away_rank    0.515308   -0.151487   1.000000    0.069008\n",
              "tournament   0.045492    0.041351   0.069008    1.000000"
            ]
          },
          "metadata": {
            "tags": []
          },
          "execution_count": 77
        }
      ]
    },
    {
      "cell_type": "code",
      "metadata": {
        "colab": {
          "base_uri": "https://localhost:8080/",
          "height": 172
        },
        "id": "jRggUcQSgoes",
        "outputId": "4150dd21-61da-4ad7-89da-a1b5de2c3f12"
      },
      "source": [
        "#checking for multicollinearity usibg VIF \n",
        "pd.DataFrame(np.linalg.inv(away_corr.values), index = away_corr.index, columns=away_corr.columns)\n",
        "#all the VIF scores are below 5"
      ],
      "execution_count": 78,
      "outputs": [
        {
          "output_type": "execute_result",
          "data": {
            "text/html": [
              "<div>\n",
              "<style scoped>\n",
              "    .dataframe tbody tr th:only-of-type {\n",
              "        vertical-align: middle;\n",
              "    }\n",
              "\n",
              "    .dataframe tbody tr th {\n",
              "        vertical-align: top;\n",
              "    }\n",
              "\n",
              "    .dataframe thead th {\n",
              "        text-align: right;\n",
              "    }\n",
              "</style>\n",
              "<table border=\"1\" class=\"dataframe\">\n",
              "  <thead>\n",
              "    <tr style=\"text-align: right;\">\n",
              "      <th></th>\n",
              "      <th>home_rank</th>\n",
              "      <th>away_score</th>\n",
              "      <th>away_rank</th>\n",
              "      <th>tournament</th>\n",
              "    </tr>\n",
              "  </thead>\n",
              "  <tbody>\n",
              "    <tr>\n",
              "      <th>home_rank</th>\n",
              "      <td>1.556032</td>\n",
              "      <td>-0.477356</td>\n",
              "      <td>-0.874792</td>\n",
              "      <td>0.009320</td>\n",
              "    </tr>\n",
              "    <tr>\n",
              "      <th>away_score</th>\n",
              "      <td>-0.477356</td>\n",
              "      <td>1.172762</td>\n",
              "      <td>0.427528</td>\n",
              "      <td>-0.056283</td>\n",
              "    </tr>\n",
              "    <tr>\n",
              "      <th>away_rank</th>\n",
              "      <td>-0.874792</td>\n",
              "      <td>0.427528</td>\n",
              "      <td>1.521270</td>\n",
              "      <td>-0.082863</td>\n",
              "    </tr>\n",
              "    <tr>\n",
              "      <th>tournament</th>\n",
              "      <td>0.009320</td>\n",
              "      <td>-0.056283</td>\n",
              "      <td>-0.082863</td>\n",
              "      <td>1.007622</td>\n",
              "    </tr>\n",
              "  </tbody>\n",
              "</table>\n",
              "</div>"
            ],
            "text/plain": [
              "            home_rank  away_score  away_rank  tournament\n",
              "home_rank    1.556032   -0.477356  -0.874792    0.009320\n",
              "away_score  -0.477356    1.172762   0.427528   -0.056283\n",
              "away_rank   -0.874792    0.427528   1.521270   -0.082863\n",
              "tournament   0.009320   -0.056283  -0.082863    1.007622"
            ]
          },
          "metadata": {
            "tags": []
          },
          "execution_count": 78
        }
      ]
    },
    {
      "cell_type": "markdown",
      "metadata": {
        "id": "PFOoAX3Vgoet"
      },
      "source": [
        "##### Building our model"
      ]
    },
    {
      "cell_type": "code",
      "metadata": {
        "colab": {
          "base_uri": "https://localhost:8080/"
        },
        "id": "LJ3ZjKYkgoeu",
        "outputId": "692f981e-8f6d-40a5-ed19-a4d290e8df6e"
      },
      "source": [
        "#Spliting data into train and test\n",
        "X_train, y_train, X_test, y_test = train_test_split(away_X,away_y, test_size = 0.2, random_state=0)\n",
        "# Fit polynomial Regression \n",
        "from sklearn.preprocessing import PolynomialFeatures\n",
        "\n",
        "poly_reg = PolynomialFeatures(degree = 4) \n",
        "X_poly = poly_reg.fit_transform(X)\n",
        "\n",
        "pol_reg = LinearRegression()\n",
        "pol_reg.fit(X_poly, y)\n",
        "\n",
        "#prediction\n",
        "y_pred = pol_reg.predict(X_poly)\n",
        "y_pred"
      ],
      "execution_count": 79,
      "outputs": [
        {
          "output_type": "execute_result",
          "data": {
            "text/plain": [
              "array([2.10201303, 2.10201303, 2.50458177, ..., 1.65533329, 1.25798034,\n",
              "       1.25798034])"
            ]
          },
          "metadata": {
            "tags": []
          },
          "execution_count": 79
        }
      ]
    },
    {
      "cell_type": "code",
      "metadata": {
        "colab": {
          "base_uri": "https://localhost:8080/"
        },
        "id": "6A7C2oRkgoev",
        "outputId": "c5f5250a-2221-4af8-f4d3-f5cfbbe5e06b"
      },
      "source": [
        "#evaluating our model\n",
        "from sklearn.metrics import mean_squared_error\n",
        "rmse = np.sqrt(mean_squared_error(y, y_pred))\n",
        "print(rmse) "
      ],
      "execution_count": 80,
      "outputs": [
        {
          "output_type": "stream",
          "text": [
            "1.4210859033658023\n"
          ],
          "name": "stdout"
        }
      ]
    },
    {
      "cell_type": "markdown",
      "metadata": {
        "id": "5FdQVjllgoev"
      },
      "source": [
        "##### Cross Validation"
      ]
    },
    {
      "cell_type": "code",
      "metadata": {
        "colab": {
          "base_uri": "https://localhost:8080/"
        },
        "id": "nMYxpD_fgoew",
        "outputId": "7d4b327a-1b09-4d31-81a9-23d27a4ad4e1"
      },
      "source": [
        "from sklearn.model_selection import KFold\n",
        "X = away_X.values\n",
        "y = away_y.values\n",
        "folds = KFold(n_splits=5)\n",
        "\n",
        "print('we are using ' +str(folds.get_n_splits(X)) + ' folds')\n",
        "\n",
        "RMSES = [] \n",
        "count = 1 \n",
        "for train_index, test_index in folds.split(X):\n",
        "  print('\\nTraining model ' + str(count))\n",
        "  \n",
        "  X_train, X_test = X[train_index], X[test_index]\n",
        "  y_train, y_test = y[train_index], y[test_index]\n",
        "  \n",
        "  # fit a model accordingly\n",
        "  regressor = LinearRegression()  \n",
        "  regressor.fit(X_train, y_train)\n",
        "  \n",
        "  # assess the accuraccy of the model\n",
        "  y_pred = regressor.predict(X_test)\n",
        "  \n",
        "  rmse_value =  np.sqrt(metrics.mean_squared_error(y_test, y_pred))\n",
        "  RMSES.append(rmse_value)\n",
        "  \n",
        "  print('Model ' + str(count) + ' Root Mean Squared Error:',rmse_value)\n",
        "  count = count + 1"
      ],
      "execution_count": 81,
      "outputs": [
        {
          "output_type": "stream",
          "text": [
            "we are using 5 folds\n",
            "\n",
            "Training model 1\n",
            "Model 1 Root Mean Squared Error: 9.3321925497542e-15\n",
            "\n",
            "Training model 2\n",
            "Model 2 Root Mean Squared Error: 1.091421221781599e-14\n",
            "\n",
            "Training model 3\n",
            "Model 3 Root Mean Squared Error: 6.536969835325406e-15\n",
            "\n",
            "Training model 4\n",
            "Model 4 Root Mean Squared Error: 5.045053665100356e-15\n",
            "\n",
            "Training model 5\n",
            "Model 5 Root Mean Squared Error: 7.114549955024732e-15\n"
          ],
          "name": "stdout"
        }
      ]
    },
    {
      "cell_type": "markdown",
      "metadata": {
        "id": "C7Ijuz_ygoew"
      },
      "source": [
        "##### Residual plots and Bartlett's test"
      ]
    },
    {
      "cell_type": "code",
      "metadata": {
        "colab": {
          "base_uri": "https://localhost:8080/",
          "height": 295
        },
        "id": "JCD2cay0goex",
        "outputId": "17219298-2ead-4bd4-9cbc-6e2012e59b58"
      },
      "source": [
        "# Checking for Residuals in our predicted values\n",
        "residuals_away= y_pred - y_test\n",
        "\n",
        "# Plotting the prediction errors\n",
        "plt.scatter(y_pred, residuals_home)\n",
        "plt.title('Residuals')\n",
        "plt.ylabel('residuals')\n",
        "plt.xlabel('fitted values')\n",
        "plt.axhline(y= residuals_home.mean(), color='blue')\n",
        "plt.show()\n",
        "\n"
      ],
      "execution_count": 82,
      "outputs": [
        {
          "output_type": "display_data",
          "data": {
            "image/png": "[encoded data removed]",
            "text/plain": [
              "<Figure size 432x288 with 1 Axes>"
            ]
          },
          "metadata": {
            "tags": [],
            "needs_background": "light"
          }
        }
      ]
    },
    {
      "cell_type": "code",
      "metadata": {
        "colab": {
          "base_uri": "https://localhost:8080/"
        },
        "id": "tBKCH9XNgoey",
        "outputId": "c37782eb-f408-444e-da68-8a5e82e72d88"
      },
      "source": [
        "#bartletts test\n",
        "\n",
        "import scipy as sp\n",
        "\n",
        "test_result, p_value = sp.stats.bartlett(y_pred, residuals_away)\n",
        "\n",
        "# To interpret the results we must also compute a critical value of the chi squared distribution\n",
        "degree_of_freedom = len(y_pred)-1\n",
        "probability = 1 - p_value\n",
        "\n",
        "critical_value = sp.stats.chi2.ppf(probability, degree_of_freedom)\n",
        "print(critical_value)\n",
        "\n",
        "if (test_result > critical_value):\n",
        "  print('the variances are unequal, and the model should be reassessed')\n",
        "else:\n",
        "  print('the variances are homogeneous!')"
      ],
      "execution_count": 83,
      "outputs": [
        {
          "output_type": "stream",
          "text": [
            "inf\n",
            "the variances are homogeneous!\n"
          ],
          "name": "stdout"
        }
      ]
    },
    {
      "cell_type": "markdown",
      "metadata": {
        "id": "B4B2LcR1ySsP"
      },
      "source": [
        "## Logistic regression"
      ]
    },
    {
      "cell_type": "code",
      "metadata": {
        "colab": {
          "base_uri": "https://localhost:8080/",
          "height": 0
        },
        "id": "L3Sg1w7xySsP",
        "outputId": "24b9dd2e-6335-4076-aab3-924a9ea64ab3"
      },
      "source": [
        "#Check for class imbalance in our target variable\n",
        "sns.countplot(data['status'])"
      ],
      "execution_count": 84,
      "outputs": [
        {
          "output_type": "execute_result",
          "data": {
            "text/plain": [
              "<matplotlib.axes._subplots.AxesSubplot at 0x7f1a93584190>"
            ]
          },
          "metadata": {
            "tags": []
          },
          "execution_count": 84
        },
        {
          "output_type": "display_data",
          "data": {
            "image/png": "[encoded data removed]",
            "text/plain": [
              "<Figure size 432x288 with 1 Axes>"
            ]
          },
          "metadata": {
            "tags": [],
            "needs_background": "light"
          }
        }
      ]
    },
    {
      "cell_type": "markdown",
      "metadata": {
        "id": "XaCWSDsI1i4h"
      },
      "source": [
        "### Builing and Evaluating the Model"
      ]
    },
    {
      "cell_type": "code",
      "metadata": {
        "colab": {
          "base_uri": "https://localhost:8080/",
          "height": 0
        },
        "id": "LUAiwsGB0BsT",
        "outputId": "637b7892-d678-4409-c265-20bf52d4cf29"
      },
      "source": [
        "data.head()"
      ],
      "execution_count": 85,
      "outputs": [
        {
          "output_type": "execute_result",
          "data": {
            "text/html": [
              "<div>\n",
              "<style scoped>\n",
              "    .dataframe tbody tr th:only-of-type {\n",
              "        vertical-align: middle;\n",
              "    }\n",
              "\n",
              "    .dataframe tbody tr th {\n",
              "        vertical-align: top;\n",
              "    }\n",
              "\n",
              "    .dataframe thead th {\n",
              "        text-align: right;\n",
              "    }\n",
              "</style>\n",
              "<table border=\"1\" class=\"dataframe\">\n",
              "  <thead>\n",
              "    <tr style=\"text-align: right;\">\n",
              "      <th></th>\n",
              "      <th>home_rank</th>\n",
              "      <th>home_team</th>\n",
              "      <th>rank_change</th>\n",
              "      <th>confederation</th>\n",
              "      <th>year</th>\n",
              "      <th>month</th>\n",
              "      <th>away_team</th>\n",
              "      <th>home_score</th>\n",
              "      <th>away_score</th>\n",
              "      <th>tournament</th>\n",
              "      <th>neutral</th>\n",
              "      <th>away_rank</th>\n",
              "      <th>goal_diff</th>\n",
              "      <th>status</th>\n",
              "    </tr>\n",
              "  </thead>\n",
              "  <tbody>\n",
              "    <tr>\n",
              "      <th>0</th>\n",
              "      <td>19.0</td>\n",
              "      <td>41</td>\n",
              "      <td>16.0</td>\n",
              "      <td>CONMEBOL</td>\n",
              "      <td>1993</td>\n",
              "      <td>8</td>\n",
              "      <td>137</td>\n",
              "      <td>0</td>\n",
              "      <td>0</td>\n",
              "      <td>1</td>\n",
              "      <td>0</td>\n",
              "      <td>67.0</td>\n",
              "      <td>0</td>\n",
              "      <td>0</td>\n",
              "    </tr>\n",
              "    <tr>\n",
              "      <th>1</th>\n",
              "      <td>19.0</td>\n",
              "      <td>41</td>\n",
              "      <td>16.0</td>\n",
              "      <td>CONMEBOL</td>\n",
              "      <td>1993</td>\n",
              "      <td>8</td>\n",
              "      <td>137</td>\n",
              "      <td>0</td>\n",
              "      <td>0</td>\n",
              "      <td>1</td>\n",
              "      <td>0</td>\n",
              "      <td>67.0</td>\n",
              "      <td>0</td>\n",
              "      <td>0</td>\n",
              "    </tr>\n",
              "    <tr>\n",
              "      <th>2</th>\n",
              "      <td>5.0</td>\n",
              "      <td>8</td>\n",
              "      <td>5.0</td>\n",
              "      <td>CONMEBOL</td>\n",
              "      <td>1993</td>\n",
              "      <td>8</td>\n",
              "      <td>137</td>\n",
              "      <td>0</td>\n",
              "      <td>0</td>\n",
              "      <td>1</td>\n",
              "      <td>0</td>\n",
              "      <td>67.0</td>\n",
              "      <td>0</td>\n",
              "      <td>0</td>\n",
              "    </tr>\n",
              "    <tr>\n",
              "      <th>3</th>\n",
              "      <td>5.0</td>\n",
              "      <td>8</td>\n",
              "      <td>5.0</td>\n",
              "      <td>CONMEBOL</td>\n",
              "      <td>1993</td>\n",
              "      <td>8</td>\n",
              "      <td>137</td>\n",
              "      <td>0</td>\n",
              "      <td>0</td>\n",
              "      <td>1</td>\n",
              "      <td>0</td>\n",
              "      <td>67.0</td>\n",
              "      <td>0</td>\n",
              "      <td>0</td>\n",
              "    </tr>\n",
              "    <tr>\n",
              "      <th>4</th>\n",
              "      <td>19.0</td>\n",
              "      <td>41</td>\n",
              "      <td>16.0</td>\n",
              "      <td>CONMEBOL</td>\n",
              "      <td>1993</td>\n",
              "      <td>8</td>\n",
              "      <td>8</td>\n",
              "      <td>2</td>\n",
              "      <td>1</td>\n",
              "      <td>1</td>\n",
              "      <td>0</td>\n",
              "      <td>5.0</td>\n",
              "      <td>1</td>\n",
              "      <td>2</td>\n",
              "    </tr>\n",
              "  </tbody>\n",
              "</table>\n",
              "</div>"
            ],
            "text/plain": [
              "   home_rank  home_team  rank_change  ... away_rank  goal_diff  status\n",
              "0       19.0         41         16.0  ...      67.0          0       0\n",
              "1       19.0         41         16.0  ...      67.0          0       0\n",
              "2        5.0          8          5.0  ...      67.0          0       0\n",
              "3        5.0          8          5.0  ...      67.0          0       0\n",
              "4       19.0         41         16.0  ...       5.0          1       2\n",
              "\n",
              "[5 rows x 14 columns]"
            ]
          },
          "metadata": {
            "tags": []
          },
          "execution_count": 85
        }
      ]
    },
    {
      "cell_type": "code",
      "metadata": {
        "id": "1HvpgREYyshd"
      },
      "source": [
        "#defining our dependent and independent variable\n",
        "X=data[['home_rank','away_rank', 'rank_change', 'home_score', 'away_score','neutral']]\n",
        "y=data[\"status\"]"
      ],
      "execution_count": 86,
      "outputs": []
    },
    {
      "cell_type": "code",
      "metadata": {
        "colab": {
          "base_uri": "https://localhost:8080/"
        },
        "id": "dJPeNjeIzYLy",
        "outputId": "33406273-9848-44f6-9eac-5f1318bf76dc"
      },
      "source": [
        "# Spliting the data into training and testing sets\n",
        "X_train, X_test, y_train, y_test = train_test_split(X, y, test_size = 0.2, random_state=0)\n",
        "\n",
        "# Fitting our model\n",
        "LogReg = LogisticRegression()\n",
        "LogReg.fit(X_train, y_train)\n",
        "\n",
        "# Using our model to make a prediction\n",
        "y_pred = LogReg.predict(X_test)\n",
        "y_pred"
      ],
      "execution_count": 87,
      "outputs": [
        {
          "output_type": "execute_result",
          "data": {
            "text/plain": [
              "array([2, 2, 1, ..., 2, 2, 2], dtype=int64)"
            ]
          },
          "metadata": {
            "tags": []
          },
          "execution_count": 87
        }
      ]
    },
    {
      "cell_type": "code",
      "metadata": {
        "colab": {
          "base_uri": "https://localhost:8080/"
        },
        "id": "F4y8tK8y0btt",
        "outputId": "d3cb6828-93fa-4113-e9e9-4f8d00185c25"
      },
      "source": [
        "#Evaluating our model using confusion matrix\n",
        "confusion_matrix = confusion_matrix(y_test, y_pred)\n",
        "confusion_matrix"
      ],
      "execution_count": 88,
      "outputs": [
        {
          "output_type": "execute_result",
          "data": {
            "text/plain": [
              "array([[1318,    0,    0],\n",
              "       [   0, 1673,    0],\n",
              "       [   0,    0, 2697]])"
            ]
          },
          "metadata": {
            "tags": []
          },
          "execution_count": 88
        }
      ]
    },
    {
      "cell_type": "code",
      "metadata": {
        "colab": {
          "base_uri": "https://localhost:8080/"
        },
        "id": "CWZgmN9U0i2A",
        "outputId": "b18602f5-f6ab-4be6-c92e-426c030a0f7f"
      },
      "source": [
        "# Measuring the accuracy of the model\n",
        "from sklearn.metrics import accuracy_score\n",
        "print(f'The accuracy of the model is {accuracy_score(y_test, y_pred)}')"
      ],
      "execution_count": 89,
      "outputs": [
        {
          "output_type": "stream",
          "text": [
            "The accuracy of the model is 1.0\n"
          ],
          "name": "stdout"
        }
      ]
    },
    {
      "cell_type": "markdown",
      "metadata": {
        "id": "6p_7xOeN3v5M"
      },
      "source": [
        "#### Residuals"
      ]
    },
    {
      "cell_type": "code",
      "metadata": {
        "colab": {
          "base_uri": "https://localhost:8080/",
          "height": 0
        },
        "id": "ZcKw28xu2Aqj",
        "outputId": "fc3241ea-6382-4bb4-9ca0-13609ee81cce"
      },
      "source": [
        "# Checking for Residuals in our predicted values\n",
        "residuals = y_pred - y_test\n",
        "print(residuals)\n",
        "# Plotting the prediction errors\n",
        "plt.scatter(y_pred, residuals)\n",
        "plt.title('Residuals')\n",
        "plt.ylabel('residuals')\n",
        "plt.xlabel('fitted values')\n",
        "plt.axhline(y= residuals.mean(), color='blue')\n",
        "plt.show()\n",
        "\n",
        "# There are no residuals"
      ],
      "execution_count": 90,
      "outputs": [
        {
          "output_type": "stream",
          "text": [
            "9168     0\n",
            "2431     0\n",
            "18148    0\n",
            "427      0\n",
            "10962    0\n",
            "        ..\n",
            "11396    0\n",
            "3550     0\n",
            "12606    0\n",
            "15779    0\n",
            "23579    0\n",
            "Name: status, Length: 5688, dtype: int64\n"
          ],
          "name": "stdout"
        },
        {
          "output_type": "display_data",
          "data": {
            "image/png": "[encoded data removed]",
            "text/plain": [
              "<Figure size 432x288 with 1 Axes>"
            ]
          },
          "metadata": {
            "tags": [],
            "needs_background": "light"
          }
        }
      ]
    },
    {
      "cell_type": "markdown",
      "metadata": {
        "id": "6DAR2XCb28W_"
      },
      "source": [
        "#### Bartlett's test"
      ]
    },
    {
      "cell_type": "code",
      "metadata": {
        "colab": {
          "base_uri": "https://localhost:8080/"
        },
        "id": "YWFGB0U827xc",
        "outputId": "9ad8339a-e369-4c3f-d0d6-e23ee7c8566f"
      },
      "source": [
        "#We shall do bartlett's test to check for homoginity of the variance\n",
        "import scipy as sp\n",
        "test_result, p_value = sp.stats.bartlett(y_pred, residuals)\n",
        "# To interpret the results we must also compute a critical value of the chi squared distribution\n",
        "degree_of_freedom = len(y_pred)-1\n",
        "probability = 1 - p_value\n",
        "\n",
        "critical_value = sp.stats.chi2.ppf(probability, degree_of_freedom)\n",
        "print(critical_value)\n",
        "\n",
        "\n",
        "if (test_result > critical_value):\n",
        "  print('the variances are unequal, and the model should be reassessed')\n",
        "else:\n",
        "  print('the variances are homogeneous!')\n",
        "  #We have identifyed no patterns hence we accept the null hypothesis and conclude that the variances are homogenous"
      ],
      "execution_count": 91,
      "outputs": [
        {
          "output_type": "stream",
          "text": [
            "inf\n",
            "the variances are homogeneous!\n"
          ],
          "name": "stdout"
        }
      ]
    },
    {
      "cell_type": "markdown",
      "metadata": {
        "id": "odkkyQXW1pHo"
      },
      "source": [
        "### Hyperparameter testing"
      ]
    },
    {
      "cell_type": "markdown",
      "metadata": {
        "id": "067Ck39y4PY-"
      },
      "source": [
        "**Random Search**"
      ]
    },
    {
      "cell_type": "code",
      "metadata": {
        "colab": {
          "base_uri": "https://localhost:8080/"
        },
        "id": "CD8rzJqY4O3w",
        "outputId": "226c60f0-245f-4351-ff3c-191001be0cb4"
      },
      "source": [
        "#Import the libraries\n",
        "from scipy.stats import loguniform\n",
        "from pandas import read_csv\n",
        "from sklearn.linear_model import LogisticRegression\n",
        "from sklearn.model_selection import RepeatedStratifiedKFold\n",
        "from sklearn.model_selection import RandomizedSearchCV\n",
        "from scipy.stats import uniform\n",
        "\n",
        "# define model\n",
        "logistic = LogisticRegression(solver='saga', tol=1e-2, max_iter=200,random_state=0)\n",
        "\n",
        "distributions = dict(C=uniform(loc=0, scale=4),penalty=['l2', 'l1'])\n",
        "\n",
        "clf = RandomizedSearchCV(logistic, distributions, random_state=0)\n",
        "\n",
        "search = clf.fit(X,y)\n",
        "\n",
        "search.best_params_"
      ],
      "execution_count": 92,
      "outputs": [
        {
          "output_type": "execute_result",
          "data": {
            "text/plain": [
              "{'C': 2.195254015709299, 'penalty': 'l1'}"
            ]
          },
          "metadata": {
            "tags": []
          },
          "execution_count": 92
        }
      ]
    },
    {
      "cell_type": "code",
      "metadata": {
        "colab": {
          "base_uri": "https://localhost:8080/"
        },
        "id": "bDhZahFZ0p4Y",
        "outputId": "dc2e24ba-bf3a-40a8-a0d3-d0cf0be18ffd"
      },
      "source": [
        "#Random Search\n",
        "# specify parameters and distributions to sample from\n",
        "from scipy.stats import randint as sp_randint\n",
        "from sklearn.ensemble import RandomForestClassifier\n",
        "\n",
        "param_dist = {\"max_depth\": [3, None],\n",
        "              \"max_features\": sp_randint(1, 11),\n",
        "              \"min_samples_split\": sp_randint(2, 11),\n",
        "              \"bootstrap\": [True, False],\n",
        "              \"criterion\": [\"gini\", \"entropy\"]}\n",
        "\n",
        "# Step 2: Instantiating RandomizedSearchCV object \n",
        "from sklearn.model_selection import RandomizedSearchCV \n",
        "classifier = RandomForestClassifier(n_estimators=300, random_state=0)\n",
        "random_sr = RandomizedSearchCV(classifier, param_dist, cv = 5) \n",
        "\n",
        "# Step 3: Calling the fit method\n",
        "random_sr.fit(X_train, y_train)\n",
        "\n",
        "# Step 4: Checking the parameters that return the highest accuracy\n",
        "best_parameters = random_sr.best_params_\n",
        "print(\"Best parameters are:\",best_parameters)\n",
        "\n",
        "# Finding the obtained accuracy\n",
        "best_result = random_sr.best_score_\n",
        "print(\"Best Results:\",best_result)"
      ],
      "execution_count": 93,
      "outputs": [
        {
          "output_type": "stream",
          "text": [
            "Best parameters are: {'bootstrap': False, 'criterion': 'gini', 'max_depth': None, 'max_features': 4, 'min_samples_split': 5}\n",
            "Best Results: 0.9998681415266782\n"
          ],
          "name": "stdout"
        }
      ]
    },
    {
      "cell_type": "markdown",
      "metadata": {
        "id": "q33Gnte86Fdn"
      },
      "source": [
        "# Challenge your Solution"
      ]
    },
    {
      "cell_type": "markdown",
      "metadata": {
        "id": "-bTmau-m6L5R"
      },
      "source": [
        "1. Did we have the right data?\n",
        "\n",
        " Yes we did because it has the information we need to do our predictons.\n",
        "\n",
        "2. Do we need more data for analysis?\n",
        "\n",
        " Yes we need more data. Player  performance per team greatly influences the performance of the team. Some countries have great players. \n",
        "\n"
      ]
    },
    {
      "cell_type": "markdown",
      "metadata": {
        "id": "2uDuUfpf75or"
      },
      "source": [
        "# Conclusion"
      ]
    },
    {
      "cell_type": "markdown",
      "metadata": {
        "id": "vEKTUyMo8NpZ"
      },
      "source": [
        "We were able to analyse our dataset and come up with both predictive analysis and logistic analysis.For the polynomial regression model, the rmse were lowwer than the mean hence the models were good.From our logistic analysis, we came up with with a model with 100% level of accurancy. "
      ]
    }
  ]
}